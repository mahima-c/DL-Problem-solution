{
  "nbformat": 4,
  "nbformat_minor": 0,
  "metadata": {
    "colab": {
      "name": "Credit Card Fraud Detection.ipynb",
      "provenance": [],
      "authorship_tag": "ABX9TyM2pjNrbiG+nImQRg0DMFdF",
      "include_colab_link": true
    },
    "kernelspec": {
      "name": "python3",
      "display_name": "Python 3"
    }
  },
  "cells": [
    {
      "cell_type": "markdown",
      "metadata": {
        "id": "view-in-github",
        "colab_type": "text"
      },
      "source": [
        "<a href=\"https://colab.research.google.com/github/mahima-c/DL-Problem-solution/blob/main/Credit_Card_Fraud_Detection.ipynb\" target=\"_parent\"><img src=\"https://colab.research.google.com/assets/colab-badge.svg\" alt=\"Open In Colab\"/></a>"
      ]
    },
    {
      "cell_type": "markdown",
      "metadata": {
        "id": "E34WG3y8SVB5"
      },
      "source": [
        "# **Credit Card Fraud Detection Using CNN**\r\n",
        "\r\n",
        "\r\n",
        "\r\n",
        "\r\n"
      ]
    },
    {
      "cell_type": "markdown",
      "metadata": {
        "id": "ZoPN0UWRVvXk"
      },
      "source": [
        "https://www.kaggle.com/mlg-ulb/creditcardfraud"
      ]
    },
    {
      "cell_type": "code",
      "metadata": {
        "colab": {
          "base_uri": "https://localhost:8080/"
        },
        "id": "uzh1kYsLOic-",
        "outputId": "1bc09196-5031-4ac5-9845-911b18a7db88"
      },
      "source": [
        "from google.colab import drive\r\n",
        "drive.mount('/content/gdrive')"
      ],
      "execution_count": 1,
      "outputs": [
        {
          "output_type": "stream",
          "text": [
            "Mounted at /content/gdrive\n"
          ],
          "name": "stdout"
        }
      ]
    },
    {
      "cell_type": "code",
      "metadata": {
        "id": "1NRIBszTQSsO"
      },
      "source": [
        "import os\r\n",
        "os.environ['KAGGLE_CONFIG_DIR'] = \"/content/gdrive/My Drive/Kaggle\"\r\n",
        "# /content/gdrive/My Drive/Kaggle is the path where kaggle.json is present in the Google Drive"
      ],
      "execution_count": 8,
      "outputs": []
    },
    {
      "cell_type": "code",
      "metadata": {
        "colab": {
          "base_uri": "https://localhost:8080/"
        },
        "id": "I3RebLi_QS4m",
        "outputId": "ffca6350-4191-493a-8c06-b07d00ff517a"
      },
      "source": [
        "#changing the working directory\r\n",
        "%cd /content/gdrive/My Drive/Kaggle\r\n",
        "#Check the present working directory using pwd command"
      ],
      "execution_count": 9,
      "outputs": [
        {
          "output_type": "stream",
          "text": [
            "/content/gdrive/My Drive/Kaggle\n"
          ],
          "name": "stdout"
        }
      ]
    },
    {
      "cell_type": "code",
      "metadata": {
        "colab": {
          "base_uri": "https://localhost:8080/"
        },
        "id": "yWZ1HIqaQkuN",
        "outputId": "2a391b89-458c-4597-d86f-ef18cde36b95"
      },
      "source": [
        "!kaggle datasets download -d mlg-ulb/creditcardfraud"
      ],
      "execution_count": 11,
      "outputs": [
        {
          "output_type": "stream",
          "text": [
            "Downloading creditcardfraud.zip to /content/gdrive/My Drive/Kaggle\n",
            " 89% 59.0M/66.0M [00:00<00:00, 85.0MB/s]\n",
            "100% 66.0M/66.0M [00:00<00:00, 90.1MB/s]\n"
          ],
          "name": "stdout"
        }
      ]
    },
    {
      "cell_type": "code",
      "metadata": {
        "colab": {
          "base_uri": "https://localhost:8080/"
        },
        "id": "Zl3TKL6KUZ9M",
        "outputId": "1b31fc7d-e859-452b-ba32-88910144a802"
      },
      "source": [
        "#unzipping the zip files and deleting the zip files\r\n",
        "!unzip \\*.zip  && rm *.zip"
      ],
      "execution_count": 16,
      "outputs": [
        {
          "output_type": "stream",
          "text": [
            "Archive:  creditcardfraud.zip\n",
            "  inflating: creditcard.csv          \n"
          ],
          "name": "stdout"
        }
      ]
    },
    {
      "cell_type": "code",
      "metadata": {
        "id": "aROSqgScSSvJ"
      },
      "source": [
        "import tensorflow as tf\r\n",
        "from tensorflow import keras\r\n",
        "from tensorflow.keras import Sequential\r\n",
        "from tensorflow.keras.layers import Flatten,Dense,Dropout,BatchNormalization\r\n",
        "from tensorflow.keras.layers import Conv1D,MaxPool1D\r\n",
        "from tensorflow.keras.optimizers import Adam\r\n"
      ],
      "execution_count": 81,
      "outputs": []
    },
    {
      "cell_type": "code",
      "metadata": {
        "id": "MHYz3a22Tvx-"
      },
      "source": [
        "import pandas as pd\r\n",
        "import numpy as np\r\n",
        "import seaborn as sns\r\n",
        "import matplotlib.pyplot as plt\r\n",
        "from sklearn.model_selection import train_test_split\r\n",
        "from sklearn.preprocessing import StandardScaler\r\n"
      ],
      "execution_count": 62,
      "outputs": []
    },
    {
      "cell_type": "code",
      "metadata": {
        "colab": {
          "base_uri": "https://localhost:8080/"
        },
        "id": "xiWv_avrURGA",
        "outputId": "c489d860-e19d-4c52-adfd-65c33bae95df"
      },
      "source": [
        "!ls"
      ],
      "execution_count": 17,
      "outputs": [
        {
          "output_type": "stream",
          "text": [
            "creditcard.csv\tkaggle.json\n"
          ],
          "name": "stdout"
        }
      ]
    },
    {
      "cell_type": "code",
      "metadata": {
        "id": "1PK6TdpiUJw6"
      },
      "source": [
        "data=pd.read_csv(\"creditcard.csv\")"
      ],
      "execution_count": 82,
      "outputs": []
    },
    {
      "cell_type": "code",
      "metadata": {
        "colab": {
          "base_uri": "https://localhost:8080/",
          "height": 224
        },
        "id": "Z_2839IkUJ31",
        "outputId": "881905b8-0d08-4969-de13-3228418020b6"
      },
      "source": [
        "data.head()"
      ],
      "execution_count": 83,
      "outputs": [
        {
          "output_type": "execute_result",
          "data": {
            "text/html": [
              "<div>\n",
              "<style scoped>\n",
              "    .dataframe tbody tr th:only-of-type {\n",
              "        vertical-align: middle;\n",
              "    }\n",
              "\n",
              "    .dataframe tbody tr th {\n",
              "        vertical-align: top;\n",
              "    }\n",
              "\n",
              "    .dataframe thead th {\n",
              "        text-align: right;\n",
              "    }\n",
              "</style>\n",
              "<table border=\"1\" class=\"dataframe\">\n",
              "  <thead>\n",
              "    <tr style=\"text-align: right;\">\n",
              "      <th></th>\n",
              "      <th>Time</th>\n",
              "      <th>V1</th>\n",
              "      <th>V2</th>\n",
              "      <th>V3</th>\n",
              "      <th>V4</th>\n",
              "      <th>V5</th>\n",
              "      <th>V6</th>\n",
              "      <th>V7</th>\n",
              "      <th>V8</th>\n",
              "      <th>V9</th>\n",
              "      <th>V10</th>\n",
              "      <th>V11</th>\n",
              "      <th>V12</th>\n",
              "      <th>V13</th>\n",
              "      <th>V14</th>\n",
              "      <th>V15</th>\n",
              "      <th>V16</th>\n",
              "      <th>V17</th>\n",
              "      <th>V18</th>\n",
              "      <th>V19</th>\n",
              "      <th>V20</th>\n",
              "      <th>V21</th>\n",
              "      <th>V22</th>\n",
              "      <th>V23</th>\n",
              "      <th>V24</th>\n",
              "      <th>V25</th>\n",
              "      <th>V26</th>\n",
              "      <th>V27</th>\n",
              "      <th>V28</th>\n",
              "      <th>Amount</th>\n",
              "      <th>Class</th>\n",
              "    </tr>\n",
              "  </thead>\n",
              "  <tbody>\n",
              "    <tr>\n",
              "      <th>0</th>\n",
              "      <td>0.0</td>\n",
              "      <td>-1.359807</td>\n",
              "      <td>-0.072781</td>\n",
              "      <td>2.536347</td>\n",
              "      <td>1.378155</td>\n",
              "      <td>-0.338321</td>\n",
              "      <td>0.462388</td>\n",
              "      <td>0.239599</td>\n",
              "      <td>0.098698</td>\n",
              "      <td>0.363787</td>\n",
              "      <td>0.090794</td>\n",
              "      <td>-0.551600</td>\n",
              "      <td>-0.617801</td>\n",
              "      <td>-0.991390</td>\n",
              "      <td>-0.311169</td>\n",
              "      <td>1.468177</td>\n",
              "      <td>-0.470401</td>\n",
              "      <td>0.207971</td>\n",
              "      <td>0.025791</td>\n",
              "      <td>0.403993</td>\n",
              "      <td>0.251412</td>\n",
              "      <td>-0.018307</td>\n",
              "      <td>0.277838</td>\n",
              "      <td>-0.110474</td>\n",
              "      <td>0.066928</td>\n",
              "      <td>0.128539</td>\n",
              "      <td>-0.189115</td>\n",
              "      <td>0.133558</td>\n",
              "      <td>-0.021053</td>\n",
              "      <td>149.62</td>\n",
              "      <td>0</td>\n",
              "    </tr>\n",
              "    <tr>\n",
              "      <th>1</th>\n",
              "      <td>0.0</td>\n",
              "      <td>1.191857</td>\n",
              "      <td>0.266151</td>\n",
              "      <td>0.166480</td>\n",
              "      <td>0.448154</td>\n",
              "      <td>0.060018</td>\n",
              "      <td>-0.082361</td>\n",
              "      <td>-0.078803</td>\n",
              "      <td>0.085102</td>\n",
              "      <td>-0.255425</td>\n",
              "      <td>-0.166974</td>\n",
              "      <td>1.612727</td>\n",
              "      <td>1.065235</td>\n",
              "      <td>0.489095</td>\n",
              "      <td>-0.143772</td>\n",
              "      <td>0.635558</td>\n",
              "      <td>0.463917</td>\n",
              "      <td>-0.114805</td>\n",
              "      <td>-0.183361</td>\n",
              "      <td>-0.145783</td>\n",
              "      <td>-0.069083</td>\n",
              "      <td>-0.225775</td>\n",
              "      <td>-0.638672</td>\n",
              "      <td>0.101288</td>\n",
              "      <td>-0.339846</td>\n",
              "      <td>0.167170</td>\n",
              "      <td>0.125895</td>\n",
              "      <td>-0.008983</td>\n",
              "      <td>0.014724</td>\n",
              "      <td>2.69</td>\n",
              "      <td>0</td>\n",
              "    </tr>\n",
              "    <tr>\n",
              "      <th>2</th>\n",
              "      <td>1.0</td>\n",
              "      <td>-1.358354</td>\n",
              "      <td>-1.340163</td>\n",
              "      <td>1.773209</td>\n",
              "      <td>0.379780</td>\n",
              "      <td>-0.503198</td>\n",
              "      <td>1.800499</td>\n",
              "      <td>0.791461</td>\n",
              "      <td>0.247676</td>\n",
              "      <td>-1.514654</td>\n",
              "      <td>0.207643</td>\n",
              "      <td>0.624501</td>\n",
              "      <td>0.066084</td>\n",
              "      <td>0.717293</td>\n",
              "      <td>-0.165946</td>\n",
              "      <td>2.345865</td>\n",
              "      <td>-2.890083</td>\n",
              "      <td>1.109969</td>\n",
              "      <td>-0.121359</td>\n",
              "      <td>-2.261857</td>\n",
              "      <td>0.524980</td>\n",
              "      <td>0.247998</td>\n",
              "      <td>0.771679</td>\n",
              "      <td>0.909412</td>\n",
              "      <td>-0.689281</td>\n",
              "      <td>-0.327642</td>\n",
              "      <td>-0.139097</td>\n",
              "      <td>-0.055353</td>\n",
              "      <td>-0.059752</td>\n",
              "      <td>378.66</td>\n",
              "      <td>0</td>\n",
              "    </tr>\n",
              "    <tr>\n",
              "      <th>3</th>\n",
              "      <td>1.0</td>\n",
              "      <td>-0.966272</td>\n",
              "      <td>-0.185226</td>\n",
              "      <td>1.792993</td>\n",
              "      <td>-0.863291</td>\n",
              "      <td>-0.010309</td>\n",
              "      <td>1.247203</td>\n",
              "      <td>0.237609</td>\n",
              "      <td>0.377436</td>\n",
              "      <td>-1.387024</td>\n",
              "      <td>-0.054952</td>\n",
              "      <td>-0.226487</td>\n",
              "      <td>0.178228</td>\n",
              "      <td>0.507757</td>\n",
              "      <td>-0.287924</td>\n",
              "      <td>-0.631418</td>\n",
              "      <td>-1.059647</td>\n",
              "      <td>-0.684093</td>\n",
              "      <td>1.965775</td>\n",
              "      <td>-1.232622</td>\n",
              "      <td>-0.208038</td>\n",
              "      <td>-0.108300</td>\n",
              "      <td>0.005274</td>\n",
              "      <td>-0.190321</td>\n",
              "      <td>-1.175575</td>\n",
              "      <td>0.647376</td>\n",
              "      <td>-0.221929</td>\n",
              "      <td>0.062723</td>\n",
              "      <td>0.061458</td>\n",
              "      <td>123.50</td>\n",
              "      <td>0</td>\n",
              "    </tr>\n",
              "    <tr>\n",
              "      <th>4</th>\n",
              "      <td>2.0</td>\n",
              "      <td>-1.158233</td>\n",
              "      <td>0.877737</td>\n",
              "      <td>1.548718</td>\n",
              "      <td>0.403034</td>\n",
              "      <td>-0.407193</td>\n",
              "      <td>0.095921</td>\n",
              "      <td>0.592941</td>\n",
              "      <td>-0.270533</td>\n",
              "      <td>0.817739</td>\n",
              "      <td>0.753074</td>\n",
              "      <td>-0.822843</td>\n",
              "      <td>0.538196</td>\n",
              "      <td>1.345852</td>\n",
              "      <td>-1.119670</td>\n",
              "      <td>0.175121</td>\n",
              "      <td>-0.451449</td>\n",
              "      <td>-0.237033</td>\n",
              "      <td>-0.038195</td>\n",
              "      <td>0.803487</td>\n",
              "      <td>0.408542</td>\n",
              "      <td>-0.009431</td>\n",
              "      <td>0.798278</td>\n",
              "      <td>-0.137458</td>\n",
              "      <td>0.141267</td>\n",
              "      <td>-0.206010</td>\n",
              "      <td>0.502292</td>\n",
              "      <td>0.219422</td>\n",
              "      <td>0.215153</td>\n",
              "      <td>69.99</td>\n",
              "      <td>0</td>\n",
              "    </tr>\n",
              "  </tbody>\n",
              "</table>\n",
              "</div>"
            ],
            "text/plain": [
              "   Time        V1        V2        V3  ...       V27       V28  Amount  Class\n",
              "0   0.0 -1.359807 -0.072781  2.536347  ...  0.133558 -0.021053  149.62      0\n",
              "1   0.0  1.191857  0.266151  0.166480  ... -0.008983  0.014724    2.69      0\n",
              "2   1.0 -1.358354 -1.340163  1.773209  ... -0.055353 -0.059752  378.66      0\n",
              "3   1.0 -0.966272 -0.185226  1.792993  ...  0.062723  0.061458  123.50      0\n",
              "4   2.0 -1.158233  0.877737  1.548718  ...  0.219422  0.215153   69.99      0\n",
              "\n",
              "[5 rows x 31 columns]"
            ]
          },
          "metadata": {
            "tags": []
          },
          "execution_count": 83
        }
      ]
    },
    {
      "cell_type": "code",
      "metadata": {
        "colab": {
          "base_uri": "https://localhost:8080/"
        },
        "id": "U5-6o-uxUJ9j",
        "outputId": "dbda09e1-1664-4fd0-a683-79be1af10504"
      },
      "source": [
        "data.shape"
      ],
      "execution_count": 65,
      "outputs": [
        {
          "output_type": "execute_result",
          "data": {
            "text/plain": [
              "(284807, 31)"
            ]
          },
          "metadata": {
            "tags": []
          },
          "execution_count": 65
        }
      ]
    },
    {
      "cell_type": "code",
      "metadata": {
        "colab": {
          "base_uri": "https://localhost:8080/"
        },
        "id": "V_iiWAGKUtfq",
        "outputId": "b55705a4-3a24-4814-f246-82c1d733d385"
      },
      "source": [
        "data.isnull().sum()"
      ],
      "execution_count": 66,
      "outputs": [
        {
          "output_type": "execute_result",
          "data": {
            "text/plain": [
              "Time      0\n",
              "V1        0\n",
              "V2        0\n",
              "V3        0\n",
              "V4        0\n",
              "V5        0\n",
              "V6        0\n",
              "V7        0\n",
              "V8        0\n",
              "V9        0\n",
              "V10       0\n",
              "V11       0\n",
              "V12       0\n",
              "V13       0\n",
              "V14       0\n",
              "V15       0\n",
              "V16       0\n",
              "V17       0\n",
              "V18       0\n",
              "V19       0\n",
              "V20       0\n",
              "V21       0\n",
              "V22       0\n",
              "V23       0\n",
              "V24       0\n",
              "V25       0\n",
              "V26       0\n",
              "V27       0\n",
              "V28       0\n",
              "Amount    0\n",
              "Class     0\n",
              "dtype: int64"
            ]
          },
          "metadata": {
            "tags": []
          },
          "execution_count": 66
        }
      ]
    },
    {
      "cell_type": "code",
      "metadata": {
        "colab": {
          "base_uri": "https://localhost:8080/"
        },
        "id": "j39IW79aU0y2",
        "outputId": "a0d0cd5c-554e-4b18-a169-a07639b7c901"
      },
      "source": [
        "data.info()"
      ],
      "execution_count": 67,
      "outputs": [
        {
          "output_type": "stream",
          "text": [
            "<class 'pandas.core.frame.DataFrame'>\n",
            "RangeIndex: 284807 entries, 0 to 284806\n",
            "Data columns (total 31 columns):\n",
            " #   Column  Non-Null Count   Dtype  \n",
            "---  ------  --------------   -----  \n",
            " 0   Time    284807 non-null  float64\n",
            " 1   V1      284807 non-null  float64\n",
            " 2   V2      284807 non-null  float64\n",
            " 3   V3      284807 non-null  float64\n",
            " 4   V4      284807 non-null  float64\n",
            " 5   V5      284807 non-null  float64\n",
            " 6   V6      284807 non-null  float64\n",
            " 7   V7      284807 non-null  float64\n",
            " 8   V8      284807 non-null  float64\n",
            " 9   V9      284807 non-null  float64\n",
            " 10  V10     284807 non-null  float64\n",
            " 11  V11     284807 non-null  float64\n",
            " 12  V12     284807 non-null  float64\n",
            " 13  V13     284807 non-null  float64\n",
            " 14  V14     284807 non-null  float64\n",
            " 15  V15     284807 non-null  float64\n",
            " 16  V16     284807 non-null  float64\n",
            " 17  V17     284807 non-null  float64\n",
            " 18  V18     284807 non-null  float64\n",
            " 19  V19     284807 non-null  float64\n",
            " 20  V20     284807 non-null  float64\n",
            " 21  V21     284807 non-null  float64\n",
            " 22  V22     284807 non-null  float64\n",
            " 23  V23     284807 non-null  float64\n",
            " 24  V24     284807 non-null  float64\n",
            " 25  V25     284807 non-null  float64\n",
            " 26  V26     284807 non-null  float64\n",
            " 27  V27     284807 non-null  float64\n",
            " 28  V28     284807 non-null  float64\n",
            " 29  Amount  284807 non-null  float64\n",
            " 30  Class   284807 non-null  int64  \n",
            "dtypes: float64(30), int64(1)\n",
            "memory usage: 67.4 MB\n"
          ],
          "name": "stdout"
        }
      ]
    },
    {
      "cell_type": "code",
      "metadata": {
        "colab": {
          "base_uri": "https://localhost:8080/"
        },
        "id": "KSDBGJqHU6My",
        "outputId": "a310330c-039a-4431-baa4-95f416e74f4a"
      },
      "source": [
        "data[\"Class\"].value_counts()"
      ],
      "execution_count": 68,
      "outputs": [
        {
          "output_type": "execute_result",
          "data": {
            "text/plain": [
              "0    284315\n",
              "1       492\n",
              "Name: Class, dtype: int64"
            ]
          },
          "metadata": {
            "tags": []
          },
          "execution_count": 68
        }
      ]
    },
    {
      "cell_type": "markdown",
      "metadata": {
        "id": "SIaRDaOtVNmP"
      },
      "source": [
        "Imbalnce dataset"
      ]
    },
    {
      "cell_type": "code",
      "metadata": {
        "id": "QHuLfp05U6PW"
      },
      "source": [
        "# first Balance Dataset\r\n",
        "non_fraud=data[data[\"Class\"]==0]\r\n",
        "fraud=data[data[\"Class\"]==1]"
      ],
      "execution_count": 84,
      "outputs": []
    },
    {
      "cell_type": "code",
      "metadata": {
        "colab": {
          "base_uri": "https://localhost:8080/"
        },
        "id": "wVuLvCFyVknF",
        "outputId": "f66fe50c-5250-4418-b929-3b2b23141a86"
      },
      "source": [
        "non_fraud.shape,fraud.shape"
      ],
      "execution_count": 85,
      "outputs": [
        {
          "output_type": "execute_result",
          "data": {
            "text/plain": [
              "((284315, 31), (492, 31))"
            ]
          },
          "metadata": {
            "tags": []
          },
          "execution_count": 85
        }
      ]
    },
    {
      "cell_type": "code",
      "metadata": {
        "id": "cm2dybE_VsCP"
      },
      "source": [
        "non_fraud=non_fraud.sample(fraud.shape[0])"
      ],
      "execution_count": 86,
      "outputs": []
    },
    {
      "cell_type": "code",
      "metadata": {
        "colab": {
          "base_uri": "https://localhost:8080/"
        },
        "id": "vdf16QM1WwY_",
        "outputId": "e88149a9-a84e-4b21-911b-9697f07cb3d7"
      },
      "source": [
        "non_fraud.shape"
      ],
      "execution_count": 72,
      "outputs": [
        {
          "output_type": "execute_result",
          "data": {
            "text/plain": [
              "(492, 31)"
            ]
          },
          "metadata": {
            "tags": []
          },
          "execution_count": 72
        }
      ]
    },
    {
      "cell_type": "code",
      "metadata": {
        "id": "lsVh3-9xWz9b"
      },
      "source": [
        "data=fraud.append(non_fraud,ignore_index=True)"
      ],
      "execution_count": 87,
      "outputs": []
    },
    {
      "cell_type": "code",
      "metadata": {
        "colab": {
          "base_uri": "https://localhost:8080/",
          "height": 224
        },
        "id": "c4BSRN6hW9bN",
        "outputId": "585ae6f7-07da-4c6e-f0be-8c05bcd0bccb"
      },
      "source": [
        "data.head()"
      ],
      "execution_count": 74,
      "outputs": [
        {
          "output_type": "execute_result",
          "data": {
            "text/html": [
              "<div>\n",
              "<style scoped>\n",
              "    .dataframe tbody tr th:only-of-type {\n",
              "        vertical-align: middle;\n",
              "    }\n",
              "\n",
              "    .dataframe tbody tr th {\n",
              "        vertical-align: top;\n",
              "    }\n",
              "\n",
              "    .dataframe thead th {\n",
              "        text-align: right;\n",
              "    }\n",
              "</style>\n",
              "<table border=\"1\" class=\"dataframe\">\n",
              "  <thead>\n",
              "    <tr style=\"text-align: right;\">\n",
              "      <th></th>\n",
              "      <th>Time</th>\n",
              "      <th>V1</th>\n",
              "      <th>V2</th>\n",
              "      <th>V3</th>\n",
              "      <th>V4</th>\n",
              "      <th>V5</th>\n",
              "      <th>V6</th>\n",
              "      <th>V7</th>\n",
              "      <th>V8</th>\n",
              "      <th>V9</th>\n",
              "      <th>V10</th>\n",
              "      <th>V11</th>\n",
              "      <th>V12</th>\n",
              "      <th>V13</th>\n",
              "      <th>V14</th>\n",
              "      <th>V15</th>\n",
              "      <th>V16</th>\n",
              "      <th>V17</th>\n",
              "      <th>V18</th>\n",
              "      <th>V19</th>\n",
              "      <th>V20</th>\n",
              "      <th>V21</th>\n",
              "      <th>V22</th>\n",
              "      <th>V23</th>\n",
              "      <th>V24</th>\n",
              "      <th>V25</th>\n",
              "      <th>V26</th>\n",
              "      <th>V27</th>\n",
              "      <th>V28</th>\n",
              "      <th>Amount</th>\n",
              "      <th>Class</th>\n",
              "    </tr>\n",
              "  </thead>\n",
              "  <tbody>\n",
              "    <tr>\n",
              "      <th>0</th>\n",
              "      <td>406.0</td>\n",
              "      <td>-2.312227</td>\n",
              "      <td>1.951992</td>\n",
              "      <td>-1.609851</td>\n",
              "      <td>3.997906</td>\n",
              "      <td>-0.522188</td>\n",
              "      <td>-1.426545</td>\n",
              "      <td>-2.537387</td>\n",
              "      <td>1.391657</td>\n",
              "      <td>-2.770089</td>\n",
              "      <td>-2.772272</td>\n",
              "      <td>3.202033</td>\n",
              "      <td>-2.899907</td>\n",
              "      <td>-0.595222</td>\n",
              "      <td>-4.289254</td>\n",
              "      <td>0.389724</td>\n",
              "      <td>-1.140747</td>\n",
              "      <td>-2.830056</td>\n",
              "      <td>-0.016822</td>\n",
              "      <td>0.416956</td>\n",
              "      <td>0.126911</td>\n",
              "      <td>0.517232</td>\n",
              "      <td>-0.035049</td>\n",
              "      <td>-0.465211</td>\n",
              "      <td>0.320198</td>\n",
              "      <td>0.044519</td>\n",
              "      <td>0.177840</td>\n",
              "      <td>0.261145</td>\n",
              "      <td>-0.143276</td>\n",
              "      <td>0.00</td>\n",
              "      <td>1</td>\n",
              "    </tr>\n",
              "    <tr>\n",
              "      <th>1</th>\n",
              "      <td>472.0</td>\n",
              "      <td>-3.043541</td>\n",
              "      <td>-3.157307</td>\n",
              "      <td>1.088463</td>\n",
              "      <td>2.288644</td>\n",
              "      <td>1.359805</td>\n",
              "      <td>-1.064823</td>\n",
              "      <td>0.325574</td>\n",
              "      <td>-0.067794</td>\n",
              "      <td>-0.270953</td>\n",
              "      <td>-0.838587</td>\n",
              "      <td>-0.414575</td>\n",
              "      <td>-0.503141</td>\n",
              "      <td>0.676502</td>\n",
              "      <td>-1.692029</td>\n",
              "      <td>2.000635</td>\n",
              "      <td>0.666780</td>\n",
              "      <td>0.599717</td>\n",
              "      <td>1.725321</td>\n",
              "      <td>0.283345</td>\n",
              "      <td>2.102339</td>\n",
              "      <td>0.661696</td>\n",
              "      <td>0.435477</td>\n",
              "      <td>1.375966</td>\n",
              "      <td>-0.293803</td>\n",
              "      <td>0.279798</td>\n",
              "      <td>-0.145362</td>\n",
              "      <td>-0.252773</td>\n",
              "      <td>0.035764</td>\n",
              "      <td>529.00</td>\n",
              "      <td>1</td>\n",
              "    </tr>\n",
              "    <tr>\n",
              "      <th>2</th>\n",
              "      <td>4462.0</td>\n",
              "      <td>-2.303350</td>\n",
              "      <td>1.759247</td>\n",
              "      <td>-0.359745</td>\n",
              "      <td>2.330243</td>\n",
              "      <td>-0.821628</td>\n",
              "      <td>-0.075788</td>\n",
              "      <td>0.562320</td>\n",
              "      <td>-0.399147</td>\n",
              "      <td>-0.238253</td>\n",
              "      <td>-1.525412</td>\n",
              "      <td>2.032912</td>\n",
              "      <td>-6.560124</td>\n",
              "      <td>0.022937</td>\n",
              "      <td>-1.470102</td>\n",
              "      <td>-0.698826</td>\n",
              "      <td>-2.282194</td>\n",
              "      <td>-4.781831</td>\n",
              "      <td>-2.615665</td>\n",
              "      <td>-1.334441</td>\n",
              "      <td>-0.430022</td>\n",
              "      <td>-0.294166</td>\n",
              "      <td>-0.932391</td>\n",
              "      <td>0.172726</td>\n",
              "      <td>-0.087330</td>\n",
              "      <td>-0.156114</td>\n",
              "      <td>-0.542628</td>\n",
              "      <td>0.039566</td>\n",
              "      <td>-0.153029</td>\n",
              "      <td>239.93</td>\n",
              "      <td>1</td>\n",
              "    </tr>\n",
              "    <tr>\n",
              "      <th>3</th>\n",
              "      <td>6986.0</td>\n",
              "      <td>-4.397974</td>\n",
              "      <td>1.358367</td>\n",
              "      <td>-2.592844</td>\n",
              "      <td>2.679787</td>\n",
              "      <td>-1.128131</td>\n",
              "      <td>-1.706536</td>\n",
              "      <td>-3.496197</td>\n",
              "      <td>-0.248778</td>\n",
              "      <td>-0.247768</td>\n",
              "      <td>-4.801637</td>\n",
              "      <td>4.895844</td>\n",
              "      <td>-10.912819</td>\n",
              "      <td>0.184372</td>\n",
              "      <td>-6.771097</td>\n",
              "      <td>-0.007326</td>\n",
              "      <td>-7.358083</td>\n",
              "      <td>-12.598419</td>\n",
              "      <td>-5.131549</td>\n",
              "      <td>0.308334</td>\n",
              "      <td>-0.171608</td>\n",
              "      <td>0.573574</td>\n",
              "      <td>0.176968</td>\n",
              "      <td>-0.436207</td>\n",
              "      <td>-0.053502</td>\n",
              "      <td>0.252405</td>\n",
              "      <td>-0.657488</td>\n",
              "      <td>-0.827136</td>\n",
              "      <td>0.849573</td>\n",
              "      <td>59.00</td>\n",
              "      <td>1</td>\n",
              "    </tr>\n",
              "    <tr>\n",
              "      <th>4</th>\n",
              "      <td>7519.0</td>\n",
              "      <td>1.234235</td>\n",
              "      <td>3.019740</td>\n",
              "      <td>-4.304597</td>\n",
              "      <td>4.732795</td>\n",
              "      <td>3.624201</td>\n",
              "      <td>-1.357746</td>\n",
              "      <td>1.713445</td>\n",
              "      <td>-0.496358</td>\n",
              "      <td>-1.282858</td>\n",
              "      <td>-2.447469</td>\n",
              "      <td>2.101344</td>\n",
              "      <td>-4.609628</td>\n",
              "      <td>1.464378</td>\n",
              "      <td>-6.079337</td>\n",
              "      <td>-0.339237</td>\n",
              "      <td>2.581851</td>\n",
              "      <td>6.739384</td>\n",
              "      <td>3.042493</td>\n",
              "      <td>-2.721853</td>\n",
              "      <td>0.009061</td>\n",
              "      <td>-0.379068</td>\n",
              "      <td>-0.704181</td>\n",
              "      <td>-0.656805</td>\n",
              "      <td>-1.632653</td>\n",
              "      <td>1.488901</td>\n",
              "      <td>0.566797</td>\n",
              "      <td>-0.010016</td>\n",
              "      <td>0.146793</td>\n",
              "      <td>1.00</td>\n",
              "      <td>1</td>\n",
              "    </tr>\n",
              "  </tbody>\n",
              "</table>\n",
              "</div>"
            ],
            "text/plain": [
              "     Time        V1        V2        V3  ...       V27       V28  Amount  Class\n",
              "0   406.0 -2.312227  1.951992 -1.609851  ...  0.261145 -0.143276    0.00      1\n",
              "1   472.0 -3.043541 -3.157307  1.088463  ... -0.252773  0.035764  529.00      1\n",
              "2  4462.0 -2.303350  1.759247 -0.359745  ...  0.039566 -0.153029  239.93      1\n",
              "3  6986.0 -4.397974  1.358367 -2.592844  ... -0.827136  0.849573   59.00      1\n",
              "4  7519.0  1.234235  3.019740 -4.304597  ... -0.010016  0.146793    1.00      1\n",
              "\n",
              "[5 rows x 31 columns]"
            ]
          },
          "metadata": {
            "tags": []
          },
          "execution_count": 74
        }
      ]
    },
    {
      "cell_type": "code",
      "metadata": {
        "id": "h2QjoZU9XPY-"
      },
      "source": [
        "x=data.drop('Class',axis=1)\r\n",
        "y=data[\"Class\"]"
      ],
      "execution_count": 88,
      "outputs": []
    },
    {
      "cell_type": "code",
      "metadata": {
        "id": "sSZr7U1RXKt6"
      },
      "source": [
        "x_train,x_test,y_train,y_test=train_test_split(x,y,test_size=0.2,random_state=0,stratify=y)"
      ],
      "execution_count": 89,
      "outputs": []
    },
    {
      "cell_type": "code",
      "metadata": {
        "id": "sClUUdvTXKxn"
      },
      "source": [
        "scaler=StandardScaler()\r\n",
        "X_train=scaler.fit_transform(x_train)\r\n",
        "X_test=scaler.transform(x_test)"
      ],
      "execution_count": 90,
      "outputs": []
    },
    {
      "cell_type": "code",
      "metadata": {
        "id": "axrXE-uhXLSH"
      },
      "source": [
        "y_train=y_train.to_numpy()\r\n",
        "y_test=y_test.to_numpy()"
      ],
      "execution_count": 91,
      "outputs": []
    },
    {
      "cell_type": "code",
      "metadata": {
        "colab": {
          "base_uri": "https://localhost:8080/"
        },
        "id": "RcwQ9vZeXLUX",
        "outputId": "ed2a445a-55be-45ec-d410-415e3ee21107"
      },
      "source": [
        "X_train.shape#MODEL TAKES 3D DATA"
      ],
      "execution_count": 79,
      "outputs": [
        {
          "output_type": "execute_result",
          "data": {
            "text/plain": [
              "(787, 30)"
            ]
          },
          "metadata": {
            "tags": []
          },
          "execution_count": 79
        }
      ]
    },
    {
      "cell_type": "code",
      "metadata": {
        "id": "5maZE7jOXLXM"
      },
      "source": [
        "X_train=X_train.reshape(X_train.shape[0],X_train.shape[1],1)\r\n",
        "X_test=X_test.reshape(X_test.shape[0],X_test.shape[1],1)\r\n"
      ],
      "execution_count": null,
      "outputs": []
    },
    {
      "cell_type": "markdown",
      "metadata": {
        "id": "BM5kv4juZvPf"
      },
      "source": [
        "# **Build CNN**"
      ]
    },
    {
      "cell_type": "code",
      "metadata": {
        "id": "VmApUQjbZ0dv"
      },
      "source": [
        "epoch=20\r\n",
        "model=Sequential()\r\n",
        "\r\n",
        "model.add(Conv1D(32,2,activation=\"relu\",input_shape=X_train[0].shape))\r\n",
        "model.add(BatchNormalization())\r\n",
        "model.add(Dropout(0.2))\r\n",
        "\r\n",
        "model.add(Conv1D(64,2,activation=\"relu\"))\r\n",
        "model.add(BatchNormalization())\r\n",
        "model.add(Dropout(0.5))\r\n",
        "\r\n",
        "model.add(Flatten())\r\n",
        "model.add(Dense(64,activation=\"relu\"))\r\n",
        "model.add(Dropout(0.5))\r\n",
        "\r\n",
        "model.add(Dense(1,activation=\"sigmoid\"))\r\n"
      ],
      "execution_count": null,
      "outputs": []
    },
    {
      "cell_type": "code",
      "metadata": {
        "colab": {
          "base_uri": "https://localhost:8080/"
        },
        "id": "laP8-rNvZ0i9",
        "outputId": "37cd9ea3-4d4d-45d9-f1c1-23e9ff94d203"
      },
      "source": [
        "model.summary()"
      ],
      "execution_count": 93,
      "outputs": [
        {
          "output_type": "stream",
          "text": [
            "Model: \"sequential_5\"\n",
            "_________________________________________________________________\n",
            "Layer (type)                 Output Shape              Param #   \n",
            "=================================================================\n",
            "conv1d_6 (Conv1D)            (None, 29, 32)            96        \n",
            "_________________________________________________________________\n",
            "batch_normalization_6 (Batch (None, 29, 32)            128       \n",
            "_________________________________________________________________\n",
            "dropout_2 (Dropout)          (None, 29, 32)            0         \n",
            "_________________________________________________________________\n",
            "conv1d_7 (Conv1D)            (None, 28, 64)            4160      \n",
            "_________________________________________________________________\n",
            "batch_normalization_7 (Batch (None, 28, 64)            256       \n",
            "_________________________________________________________________\n",
            "dropout_3 (Dropout)          (None, 28, 64)            0         \n",
            "_________________________________________________________________\n",
            "flatten (Flatten)            (None, 1792)              0         \n",
            "_________________________________________________________________\n",
            "dense (Dense)                (None, 64)                114752    \n",
            "_________________________________________________________________\n",
            "dropout_4 (Dropout)          (None, 64)                0         \n",
            "_________________________________________________________________\n",
            "dense_1 (Dense)              (None, 1)                 65        \n",
            "=================================================================\n",
            "Total params: 119,457\n",
            "Trainable params: 119,265\n",
            "Non-trainable params: 192\n",
            "_________________________________________________________________\n"
          ],
          "name": "stdout"
        }
      ]
    },
    {
      "cell_type": "code",
      "metadata": {
        "id": "5XInSA3RZ0la"
      },
      "source": [
        "model.compile(optimizer=Adam(lr=0.0001),loss=\"binary_crossentropy\",metrics=['accuracy'])"
      ],
      "execution_count": 99,
      "outputs": []
    },
    {
      "cell_type": "code",
      "metadata": {
        "colab": {
          "base_uri": "https://localhost:8080/"
        },
        "id": "OrNYLX8uZ0or",
        "outputId": "abeb6220-adda-4173-94e0-e08dc86e0361"
      },
      "source": [
        "history=model.fit(X_train,y_train,epochs=epoch,validation_data=(X_test,y_test),verbose=1)#verbose =1 print the training process"
      ],
      "execution_count": 100,
      "outputs": [
        {
          "output_type": "stream",
          "text": [
            "Epoch 1/20\n",
            "25/25 [==============================] - 2s 21ms/step - loss: 0.9551 - accuracy: 0.5364 - val_loss: 0.6239 - val_accuracy: 0.8528\n",
            "Epoch 2/20\n",
            "25/25 [==============================] - 0s 10ms/step - loss: 0.4490 - accuracy: 0.8103 - val_loss: 0.5737 - val_accuracy: 0.8934\n",
            "Epoch 3/20\n",
            "25/25 [==============================] - 0s 11ms/step - loss: 0.3888 - accuracy: 0.8572 - val_loss: 0.5381 - val_accuracy: 0.9086\n",
            "Epoch 4/20\n",
            "25/25 [==============================] - 0s 10ms/step - loss: 0.3892 - accuracy: 0.8823 - val_loss: 0.5028 - val_accuracy: 0.9137\n",
            "Epoch 5/20\n",
            "25/25 [==============================] - 0s 10ms/step - loss: 0.3361 - accuracy: 0.8502 - val_loss: 0.4606 - val_accuracy: 0.9188\n",
            "Epoch 6/20\n",
            "25/25 [==============================] - 0s 10ms/step - loss: 0.2939 - accuracy: 0.8949 - val_loss: 0.4226 - val_accuracy: 0.9289\n",
            "Epoch 7/20\n",
            "25/25 [==============================] - 0s 11ms/step - loss: 0.3088 - accuracy: 0.8855 - val_loss: 0.3876 - val_accuracy: 0.9289\n",
            "Epoch 8/20\n",
            "25/25 [==============================] - 0s 10ms/step - loss: 0.2629 - accuracy: 0.9083 - val_loss: 0.3594 - val_accuracy: 0.9239\n",
            "Epoch 9/20\n",
            "25/25 [==============================] - 0s 10ms/step - loss: 0.3114 - accuracy: 0.8872 - val_loss: 0.3241 - val_accuracy: 0.9239\n",
            "Epoch 10/20\n",
            "25/25 [==============================] - 0s 10ms/step - loss: 0.2255 - accuracy: 0.9196 - val_loss: 0.2974 - val_accuracy: 0.9137\n",
            "Epoch 11/20\n",
            "25/25 [==============================] - 0s 10ms/step - loss: 0.2645 - accuracy: 0.9052 - val_loss: 0.2813 - val_accuracy: 0.9188\n",
            "Epoch 12/20\n",
            "25/25 [==============================] - 0s 10ms/step - loss: 0.2827 - accuracy: 0.8890 - val_loss: 0.2611 - val_accuracy: 0.9137\n",
            "Epoch 13/20\n",
            "25/25 [==============================] - 0s 10ms/step - loss: 0.2390 - accuracy: 0.9215 - val_loss: 0.2457 - val_accuracy: 0.9137\n",
            "Epoch 14/20\n",
            "25/25 [==============================] - 0s 10ms/step - loss: 0.2305 - accuracy: 0.9142 - val_loss: 0.2332 - val_accuracy: 0.9137\n",
            "Epoch 15/20\n",
            "25/25 [==============================] - 0s 10ms/step - loss: 0.2719 - accuracy: 0.9016 - val_loss: 0.2235 - val_accuracy: 0.9137\n",
            "Epoch 16/20\n",
            "25/25 [==============================] - 0s 10ms/step - loss: 0.2141 - accuracy: 0.9263 - val_loss: 0.2169 - val_accuracy: 0.9137\n",
            "Epoch 17/20\n",
            "25/25 [==============================] - 0s 11ms/step - loss: 0.1875 - accuracy: 0.9261 - val_loss: 0.2113 - val_accuracy: 0.9137\n",
            "Epoch 18/20\n",
            "25/25 [==============================] - 0s 12ms/step - loss: 0.1769 - accuracy: 0.9319 - val_loss: 0.2060 - val_accuracy: 0.9188\n",
            "Epoch 19/20\n",
            "25/25 [==============================] - 0s 11ms/step - loss: 0.1962 - accuracy: 0.9271 - val_loss: 0.2011 - val_accuracy: 0.9188\n",
            "Epoch 20/20\n",
            "25/25 [==============================] - 0s 12ms/step - loss: 0.2069 - accuracy: 0.9370 - val_loss: 0.2005 - val_accuracy: 0.9137\n"
          ],
          "name": "stdout"
        }
      ]
    },
    {
      "cell_type": "code",
      "metadata": {
        "id": "D-HkAemTlwjP"
      },
      "source": [
        "def plot_learningCurve(history,epoch):\r\n",
        "  epoch_range=range(1,epoch+1)\r\n",
        "  plt.plot(epoch_range,history.history['accuracy'])\r\n",
        "  plt.plot(epoch_range,history.history['val_accuracy'])\r\n",
        "  plt.title(\"Model accuracy\")\r\n",
        "  plt.ylabel(\"Accuracy\")\r\n",
        "  plt.xlabel(\"Epoch\")\r\n",
        "  plt.legend(['Train','val'],loc='upper left')\r\n",
        "  plt.show()\r\n",
        "\r\n",
        "  #for loss graph\r\n",
        "  plt.plot(epoch_range,history.history['loss'])\r\n",
        "  plt.plot(epoch_range,history.history['val_loss'])\r\n",
        "  plt.title(\"Model loss\")\r\n",
        "  plt.ylabel(\"Loss\")\r\n",
        "  plt.xlabel(\"Epoch\")\r\n",
        "  plt.legend(['Train','val'],loc='upper left')\r\n",
        "  plt.show()"
      ],
      "execution_count": 101,
      "outputs": []
    },
    {
      "cell_type": "code",
      "metadata": {
        "id": "X76o79-rm7sc",
        "outputId": "8b6eeaac-a3b4-4b1e-d055-e2b93902a138",
        "colab": {
          "base_uri": "https://localhost:8080/",
          "height": 573
        }
      },
      "source": [
        "plot_learningCurve(history,epoch)"
      ],
      "execution_count": 102,
      "outputs": [
        {
          "output_type": "display_data",
          "data": {
            "image/png": "[encoded data removed]",
            "text/plain": [
              "<Figure size 432x288 with 1 Axes>"
            ]
          },
          "metadata": {
            "tags": [],
            "needs_background": "light"
          }
        },
        {
          "output_type": "display_data",
          "data": {
            "image/png": "[encoded data removed]",
            "text/plain": [
              "<Figure size 432x288 with 1 Axes>"
            ]
          },
          "metadata": {
            "tags": [],
            "needs_background": "light"
          }
        }
      ]
    },
    {
      "cell_type": "code",
      "metadata": {
        "id": "to1FjlWsjVS8",
        "outputId": "5d3f9523-8698-4ff6-9a50-1f9bdfb5c91e",
        "colab": {
          "base_uri": "https://localhost:8080/",
          "height": 1000
        }
      },
      "source": [
        "epoch=50\r\n",
        "model=Sequential()\r\n",
        "\r\n",
        "model.add(Conv1D(32,2,activation=\"relu\",input_shape=X_train[0].shape))\r\n",
        "model.add(BatchNormalization())\r\n",
        "model.add(MaxPool1D(2))\r\n",
        "model.add(Dropout(0.2))\r\n",
        "\r\n",
        "model.add(Conv1D(64,2,activation=\"relu\"))\r\n",
        "model.add(BatchNormalization())\r\n",
        "model.add(MaxPool1D(2))\r\n",
        "model.add(Dropout(0.5))\r\n",
        "\r\n",
        "model.add(Flatten())\r\n",
        "model.add(Dense(64,activation=\"relu\"))\r\n",
        "model.add(Dropout(0.5))\r\n",
        "\r\n",
        "model.add(Dense(1,activation=\"sigmoid\"))\r\n",
        "\r\n",
        "model.compile(optimizer=Adam(lr=0.0001),loss=\"binary_crossentropy\",metrics=['accuracy'])\r\n",
        "history=model.fit(X_train,y_train,epochs=epoch,validation_data=(X_test,y_test),verbose=1)\r\n",
        "plot_learningCurve(history,epoch)"
      ],
      "execution_count": 107,
      "outputs": [
        {
          "output_type": "stream",
          "text": [
            "Epoch 1/50\n",
            "25/25 [==============================] - 1s 18ms/step - loss: 1.1140 - accuracy: 0.5521 - val_loss: 0.6687 - val_accuracy: 0.6751\n",
            "Epoch 2/50\n",
            "25/25 [==============================] - 0s 8ms/step - loss: 0.7717 - accuracy: 0.6533 - val_loss: 0.6402 - val_accuracy: 0.7360\n",
            "Epoch 3/50\n",
            "25/25 [==============================] - 0s 7ms/step - loss: 0.6950 - accuracy: 0.7021 - val_loss: 0.6153 - val_accuracy: 0.7157\n",
            "Epoch 4/50\n",
            "25/25 [==============================] - 0s 7ms/step - loss: 0.5729 - accuracy: 0.7373 - val_loss: 0.5907 - val_accuracy: 0.7259\n",
            "Epoch 5/50\n",
            "25/25 [==============================] - 0s 7ms/step - loss: 0.5788 - accuracy: 0.7272 - val_loss: 0.5627 - val_accuracy: 0.7310\n",
            "Epoch 6/50\n",
            "25/25 [==============================] - 0s 8ms/step - loss: 0.4989 - accuracy: 0.7957 - val_loss: 0.5338 - val_accuracy: 0.7360\n",
            "Epoch 7/50\n",
            "25/25 [==============================] - 0s 7ms/step - loss: 0.4450 - accuracy: 0.8127 - val_loss: 0.5041 - val_accuracy: 0.7665\n",
            "Epoch 8/50\n",
            "25/25 [==============================] - 0s 8ms/step - loss: 0.4216 - accuracy: 0.8256 - val_loss: 0.4744 - val_accuracy: 0.7919\n",
            "Epoch 9/50\n",
            "25/25 [==============================] - 0s 8ms/step - loss: 0.4444 - accuracy: 0.8143 - val_loss: 0.4447 - val_accuracy: 0.8122\n",
            "Epoch 10/50\n",
            "25/25 [==============================] - 0s 8ms/step - loss: 0.3937 - accuracy: 0.8421 - val_loss: 0.4169 - val_accuracy: 0.8376\n",
            "Epoch 11/50\n",
            "25/25 [==============================] - 0s 8ms/step - loss: 0.4382 - accuracy: 0.8223 - val_loss: 0.3921 - val_accuracy: 0.8477\n",
            "Epoch 12/50\n",
            "25/25 [==============================] - 0s 9ms/step - loss: 0.4115 - accuracy: 0.8542 - val_loss: 0.3702 - val_accuracy: 0.8680\n",
            "Epoch 13/50\n",
            "25/25 [==============================] - 0s 7ms/step - loss: 0.4168 - accuracy: 0.8526 - val_loss: 0.3499 - val_accuracy: 0.8731\n",
            "Epoch 14/50\n",
            "25/25 [==============================] - 0s 7ms/step - loss: 0.3538 - accuracy: 0.8774 - val_loss: 0.3330 - val_accuracy: 0.8731\n",
            "Epoch 15/50\n",
            "25/25 [==============================] - 0s 7ms/step - loss: 0.3690 - accuracy: 0.8651 - val_loss: 0.3196 - val_accuracy: 0.8731\n",
            "Epoch 16/50\n",
            "25/25 [==============================] - 0s 7ms/step - loss: 0.3408 - accuracy: 0.8707 - val_loss: 0.3093 - val_accuracy: 0.8731\n",
            "Epoch 17/50\n",
            "25/25 [==============================] - 0s 7ms/step - loss: 0.3930 - accuracy: 0.8606 - val_loss: 0.2994 - val_accuracy: 0.8731\n",
            "Epoch 18/50\n",
            "25/25 [==============================] - 0s 7ms/step - loss: 0.3074 - accuracy: 0.8685 - val_loss: 0.2925 - val_accuracy: 0.8782\n",
            "Epoch 19/50\n",
            "25/25 [==============================] - 0s 7ms/step - loss: 0.3662 - accuracy: 0.8585 - val_loss: 0.2863 - val_accuracy: 0.8883\n",
            "Epoch 20/50\n",
            "25/25 [==============================] - 0s 7ms/step - loss: 0.3601 - accuracy: 0.8693 - val_loss: 0.2800 - val_accuracy: 0.8985\n",
            "Epoch 21/50\n",
            "25/25 [==============================] - 0s 7ms/step - loss: 0.3448 - accuracy: 0.8550 - val_loss: 0.2741 - val_accuracy: 0.8985\n",
            "Epoch 22/50\n",
            "25/25 [==============================] - 0s 7ms/step - loss: 0.3381 - accuracy: 0.8865 - val_loss: 0.2713 - val_accuracy: 0.8985\n",
            "Epoch 23/50\n",
            "25/25 [==============================] - 0s 7ms/step - loss: 0.2792 - accuracy: 0.8958 - val_loss: 0.2681 - val_accuracy: 0.8985\n",
            "Epoch 24/50\n",
            "25/25 [==============================] - 0s 8ms/step - loss: 0.3016 - accuracy: 0.8800 - val_loss: 0.2682 - val_accuracy: 0.8985\n",
            "Epoch 25/50\n",
            "25/25 [==============================] - 0s 8ms/step - loss: 0.3838 - accuracy: 0.8669 - val_loss: 0.2674 - val_accuracy: 0.8985\n",
            "Epoch 26/50\n",
            "25/25 [==============================] - 0s 8ms/step - loss: 0.2849 - accuracy: 0.8988 - val_loss: 0.2659 - val_accuracy: 0.8985\n",
            "Epoch 27/50\n",
            "25/25 [==============================] - 0s 8ms/step - loss: 0.2815 - accuracy: 0.9122 - val_loss: 0.2633 - val_accuracy: 0.8985\n",
            "Epoch 28/50\n",
            "25/25 [==============================] - 0s 8ms/step - loss: 0.3058 - accuracy: 0.8852 - val_loss: 0.2588 - val_accuracy: 0.9036\n",
            "Epoch 29/50\n",
            "25/25 [==============================] - 0s 8ms/step - loss: 0.2801 - accuracy: 0.8781 - val_loss: 0.2550 - val_accuracy: 0.9086\n",
            "Epoch 30/50\n",
            "25/25 [==============================] - 0s 7ms/step - loss: 0.2863 - accuracy: 0.9060 - val_loss: 0.2544 - val_accuracy: 0.9086\n",
            "Epoch 31/50\n",
            "25/25 [==============================] - 0s 8ms/step - loss: 0.3101 - accuracy: 0.8973 - val_loss: 0.2521 - val_accuracy: 0.9086\n",
            "Epoch 32/50\n",
            "25/25 [==============================] - 0s 7ms/step - loss: 0.2671 - accuracy: 0.9018 - val_loss: 0.2508 - val_accuracy: 0.9086\n",
            "Epoch 33/50\n",
            "25/25 [==============================] - 0s 7ms/step - loss: 0.2674 - accuracy: 0.8891 - val_loss: 0.2499 - val_accuracy: 0.9086\n",
            "Epoch 34/50\n",
            "25/25 [==============================] - 0s 8ms/step - loss: 0.3201 - accuracy: 0.8868 - val_loss: 0.2489 - val_accuracy: 0.9086\n",
            "Epoch 35/50\n",
            "25/25 [==============================] - 0s 8ms/step - loss: 0.2556 - accuracy: 0.9171 - val_loss: 0.2499 - val_accuracy: 0.9086\n",
            "Epoch 36/50\n",
            "25/25 [==============================] - 0s 8ms/step - loss: 0.2752 - accuracy: 0.9167 - val_loss: 0.2494 - val_accuracy: 0.9086\n",
            "Epoch 37/50\n",
            "25/25 [==============================] - 0s 8ms/step - loss: 0.2799 - accuracy: 0.8980 - val_loss: 0.2469 - val_accuracy: 0.9086\n",
            "Epoch 38/50\n",
            "25/25 [==============================] - 0s 17ms/step - loss: 0.2827 - accuracy: 0.9020 - val_loss: 0.2479 - val_accuracy: 0.9086\n",
            "Epoch 39/50\n",
            "25/25 [==============================] - 0s 8ms/step - loss: 0.2824 - accuracy: 0.8981 - val_loss: 0.2475 - val_accuracy: 0.9086\n",
            "Epoch 40/50\n",
            "25/25 [==============================] - 0s 8ms/step - loss: 0.2893 - accuracy: 0.9163 - val_loss: 0.2467 - val_accuracy: 0.9086\n",
            "Epoch 41/50\n",
            "25/25 [==============================] - 0s 8ms/step - loss: 0.2275 - accuracy: 0.9182 - val_loss: 0.2451 - val_accuracy: 0.9086\n",
            "Epoch 42/50\n",
            "25/25 [==============================] - 0s 8ms/step - loss: 0.2230 - accuracy: 0.9187 - val_loss: 0.2439 - val_accuracy: 0.9086\n",
            "Epoch 43/50\n",
            "25/25 [==============================] - 0s 8ms/step - loss: 0.2428 - accuracy: 0.9010 - val_loss: 0.2431 - val_accuracy: 0.9086\n",
            "Epoch 44/50\n",
            "25/25 [==============================] - 0s 8ms/step - loss: 0.2496 - accuracy: 0.9228 - val_loss: 0.2439 - val_accuracy: 0.9086\n",
            "Epoch 45/50\n",
            "25/25 [==============================] - 0s 8ms/step - loss: 0.2355 - accuracy: 0.9188 - val_loss: 0.2413 - val_accuracy: 0.9086\n",
            "Epoch 46/50\n",
            "25/25 [==============================] - 0s 8ms/step - loss: 0.2772 - accuracy: 0.9042 - val_loss: 0.2400 - val_accuracy: 0.9086\n",
            "Epoch 47/50\n",
            "25/25 [==============================] - 0s 8ms/step - loss: 0.2489 - accuracy: 0.9116 - val_loss: 0.2423 - val_accuracy: 0.9086\n",
            "Epoch 48/50\n",
            "25/25 [==============================] - 0s 8ms/step - loss: 0.2266 - accuracy: 0.9284 - val_loss: 0.2429 - val_accuracy: 0.9086\n",
            "Epoch 49/50\n",
            "25/25 [==============================] - 0s 7ms/step - loss: 0.2624 - accuracy: 0.9136 - val_loss: 0.2424 - val_accuracy: 0.9086\n",
            "Epoch 50/50\n",
            "25/25 [==============================] - 0s 8ms/step - loss: 0.3055 - accuracy: 0.8960 - val_loss: 0.2405 - val_accuracy: 0.9086\n"
          ],
          "name": "stdout"
        },
        {
          "output_type": "display_data",
          "data": {
            "image/png": "[encoded data removed]",
            "text/plain": [
              "<Figure size 432x288 with 1 Axes>"
            ]
          },
          "metadata": {
            "tags": [],
            "needs_background": "light"
          }
        },
        {
          "output_type": "display_data",
          "data": {
            "image/png": "[encoded data removed]",
            "text/plain": [
              "<Figure size 432x288 with 1 Axes>"
            ]
          },
          "metadata": {
            "tags": [],
            "needs_background": "light"
          }
        }
      ]
    },
    {
      "cell_type": "code",
      "metadata": {
        "id": "ef5B0iXcjbAf"
      },
      "source": [
        ""
      ],
      "execution_count": null,
      "outputs": []
    }
  ]
}