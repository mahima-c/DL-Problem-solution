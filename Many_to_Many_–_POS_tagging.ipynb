{
  "nbformat": 4,
  "nbformat_minor": 0,
  "metadata": {
    "colab": {
      "name": "Many-to-Many – POS tagging.ipynb",
      "provenance": [],
      "authorship_tag": "ABX9TyODvDy2M65K80hYZBIOLX5M",
      "include_colab_link": true
    },
    "kernelspec": {
      "name": "python3",
      "display_name": "Python 3"
    }
  },
  "cells": [
    {
      "cell_type": "markdown",
      "metadata": {
        "id": "view-in-github",
        "colab_type": "text"
      },
      "source": [
        "<a href=\"https://colab.research.google.com/github/mahima-c/DL-Problem-solution/blob/main/Many_to_Many_%E2%80%93_POS_tagging.ipynb\" target=\"_parent\"><img src=\"https://colab.research.google.com/assets/colab-badge.svg\" alt=\"Open In Colab\"/></a>"
      ]
    },
    {
      "cell_type": "markdown",
      "metadata": {
        "id": "aKJqzhfsd5sq"
      },
      "source": [
        "In order to get the data, you need to install the NLTK library if it is not already installed (NLTK is included in the Anaconda distribution), as well as the 10% treebank dataset (not installed by default). To install NLTK, follow the steps on the NLTK install page [23]. To install the treebank dataset, perform the following at the Python REPL:"
      ]
    },
    {
      "cell_type": "code",
      "metadata": {
        "id": "-uThv6v_Kxfk",
        "colab": {
          "base_uri": "https://localhost:8080/"
        },
        "outputId": "7848a658-04d5-4c14-ab45-56f9ce0754a8"
      },
      "source": [
        "import nltk\r\n",
        "nltk.download(\"treebank\")"
      ],
      "execution_count": 1,
      "outputs": [
        {
          "output_type": "stream",
          "text": [
            "[nltk_data] Downloading package treebank to /root/nltk_data...\n",
            "[nltk_data]   Unzipping corpora/treebank.zip.\n"
          ],
          "name": "stdout"
        },
        {
          "output_type": "execute_result",
          "data": {
            "text/plain": [
              "True"
            ]
          },
          "metadata": {
            "tags": []
          },
          "execution_count": 1
        }
      ]
    },
    {
      "cell_type": "code",
      "metadata": {
        "id": "NbrlI_HreNHY"
      },
      "source": [
        "import numpy as np\r\n",
        "import os\r\n",
        "import shutil\r\n",
        "import tensorflow as tf"
      ],
      "execution_count": 2,
      "outputs": []
    },
    {
      "cell_type": "markdown",
      "metadata": {
        "id": "3HKwltZfeSir"
      },
      "source": [
        "We will lazily import the NLTK treebank dataset into a pair of parallel flat files, one containing the sentences and the other containing a corresponding POS sequence:"
      ]
    },
    {
      "cell_type": "code",
      "metadata": {
        "colab": {
          "base_uri": "https://localhost:8080/"
        },
        "id": "KDzJiDAMeRxF",
        "outputId": "e34bbb8b-9a31-4c50-fd91-b5dd7a6c9ffa"
      },
      "source": [
        "def download_and_read(dataset_dir, num_pairs=None):\r\n",
        "   sent_filename = os.path.join(dataset_dir, \"treebank-sents.txt\")\r\n",
        "   poss_filename = os.path.join(dataset_dir, \"treebank-poss.txt\")\r\n",
        "   if not(os.path.exists(sent_filename) and os.path.exists(poss_filename)):\r\n",
        "       import nltk   \r\n",
        "       if not os.path.exists(dataset_dir):\r\n",
        "           os.makedirs(dataset_dir)\r\n",
        "       fsents = open(sent_filename, \"w\")\r\n",
        "       fposs = open(poss_filename, \"w\")\r\n",
        "       sentences = nltk.corpus.treebank.tagged_sents()\r\n",
        "       for sent in sentences:\r\n",
        "           fsents.write(\" \".join([w for w, p in sent]) + \"\\n\")\r\n",
        "           fposs.write(\" \".join([p for w, p in sent]) + \"\\n\")\r\n",
        "       fsents.close()\r\n",
        "       fposs.close()\r\n",
        "   sents, poss = [], []\r\n",
        "   with open(sent_filename, \"r\") as fsent:\r\n",
        "       for idx, line in enumerate(fsent):\r\n",
        "           sents.append(line.strip())\r\n",
        "           if num_pairs is not None and idx >= num_pairs:\r\n",
        "               break\r\n",
        "   with open(poss_filename, \"r\") as fposs:\r\n",
        "       for idx, line in enumerate(fposs):\r\n",
        "           poss.append(line.strip())\r\n",
        "           if num_pairs is not None and idx >= num_pairs:\r\n",
        "               break\r\n",
        "   return sents, poss\r\n",
        "sents, poss = download_and_read(\"./datasets\")\r\n",
        "assert(len(sents) == len(poss))\r\n",
        "print(\"# of records: {:d}\".format(len(sents)))\r\n"
      ],
      "execution_count": 3,
      "outputs": [
        {
          "output_type": "stream",
          "text": [
            "# of records: 3914\n"
          ],
          "name": "stdout"
        }
      ]
    },
    {
      "cell_type": "markdown",
      "metadata": {
        "id": "ufTjxbRfgI5g"
      },
      "source": [
        "There are 3194 sentences in our dataset. We will then use the TensorFlow (tf.keras) tokenizer to tokenize the sentences and create a list of sentence tokens. We reuse the same infrastructure to tokenize the parts of speech, although we could have simply split on spaces. Each input record to the network is currently a sequence of text tokens, but they need to be a sequence of integers. During the tokenizing process, the Tokenizer also maintains the tokens in the vocabulary, from which we can build mappings from token to integer and back.\r\n",
        "\r\n",
        "We have two vocabularies to consider, first the vocabulary of word tokens in the sentence collection, and the vocabulary of POS tags in part-of-speech collection. The following code shows how to tokenize both collections and generate the necessary mapping dictionaries:"
      ]
    },
    {
      "cell_type": "code",
      "metadata": {
        "id": "YSDdjJ1tgJdV"
      },
      "source": [
        "def tokenize_and_build_vocab(texts, vocab_size=None, lower=True):\r\n",
        "    if vocab_size is None:\r\n",
        "        tokenizer = tf.keras.preprocessing.text.Tokenizer(lower=lower)\r\n",
        "    else:\r\n",
        "        tokenizer = tf.keras.preprocessing.text.Tokenizer(\r\n",
        "            num_words=vocab_size+1, oov_token=\"UNK\", lower=lower)\r\n",
        "    tokenizer.fit_on_texts(texts)\r\n",
        "    if vocab_size is not None:\r\n",
        "        # additional workaround, see issue 8092\r\n",
        "        # https://github.com/keras-team/keras/issues/8092\r\n",
        "        tokenizer.word_index = {e:i for e, i in tokenizer.word_index.items() \r\n",
        "            if i <= vocab_size+1 }\r\n",
        "    word2idx = tokenizer.word_index\r\n",
        "    idx2word = {v:k for k, v in word2idx.items()}\r\n",
        "    return word2idx, idx2word, tokenizer\r\n",
        "\r\n"
      ],
      "execution_count": 20,
      "outputs": []
    },
    {
      "cell_type": "code",
      "metadata": {
        "colab": {
          "base_uri": "https://localhost:8080/"
        },
        "id": "iCLDYqnmOCXQ",
        "outputId": "a70a985b-3336-44f7-fe4c-83f113809bdf"
      },
      "source": [
        "# download and read source and target data into data structure\r\n",
        "sents, poss = download_and_read(\"./datasets\", num_pairs=NUM_PAIRS)\r\n",
        "assert(len(sents) == len(poss))\r\n",
        "print(\"# of records: {:d}\".format(len(sents)))\r\n",
        "\r\n",
        "# vocabulary sizes\r\n",
        "word2idx_s, idx2word_s, tokenizer_s = tokenize_and_build_vocab(\r\n",
        "    sents, vocab_size=9000)\r\n",
        "word2idx_t, idx2word_t, tokenizer_t = tokenize_and_build_vocab(\r\n",
        "    poss, vocab_size=38, lower=False)\r\n",
        "source_vocab_size = len(word2idx_s)\r\n",
        "target_vocab_size = len(word2idx_t)\r\n",
        "print(\"vocab sizes (source): {:d}, (target): {:d}\".format(\r\n",
        "    source_vocab_size, target_vocab_size))"
      ],
      "execution_count": 21,
      "outputs": [
        {
          "output_type": "stream",
          "text": [
            "# of records: 3914\n",
            "vocab sizes (source): 9001, (target): 39\n"
          ],
          "name": "stdout"
        }
      ]
    },
    {
      "cell_type": "code",
      "metadata": {
        "colab": {
          "base_uri": "https://localhost:8080/"
        },
        "id": "BFT8N24VhQu9",
        "outputId": "72d890f2-cc19-4d29-b147-658aad10574d"
      },
      "source": [
        "sequence_lengths = np.array([len(s.split()) for s in sents])\r\n",
        "print([(p, np.percentile(sequence_lengths, p))\r\n",
        "for p in [75, 80, 90, 95, 99, 100]])"
      ],
      "execution_count": 5,
      "outputs": [
        {
          "output_type": "stream",
          "text": [
            "[(75, 33.0), (80, 35.0), (90, 41.0), (95, 47.0), (99, 58.0), (100, 271.0)]\n"
          ],
          "name": "stdout"
        }
      ]
    },
    {
      "cell_type": "code",
      "metadata": {
        "colab": {
          "base_uri": "https://localhost:8080/"
        },
        "id": "u9edvB6og_9I",
        "outputId": "bf601e57-614c-4e26-c8ac-356fe4f26aba"
      },
      "source": [
        "word2idx_t"
      ],
      "execution_count": 6,
      "outputs": [
        {
          "output_type": "execute_result",
          "data": {
            "text/plain": [
              "{\"''\": 22,\n",
              " 'CC': 14,\n",
              " 'CD': 9,\n",
              " 'DT': 5,\n",
              " 'EX': 33,\n",
              " 'FW': 37,\n",
              " 'IN': 3,\n",
              " 'JJ': 8,\n",
              " 'JJR': 24,\n",
              " 'JJS': 28,\n",
              " 'LRB': 32,\n",
              " 'LS': 36,\n",
              " 'MD': 20,\n",
              " 'NN': 2,\n",
              " 'NNP': 4,\n",
              " 'NNPS': 26,\n",
              " 'NNS': 7,\n",
              " 'NONE': 6,\n",
              " 'PDT': 35,\n",
              " 'POS': 21,\n",
              " 'PRP': 13,\n",
              " 'RB': 11,\n",
              " 'RBR': 30,\n",
              " 'RBS': 34,\n",
              " 'RP': 27,\n",
              " 'RRB': 31,\n",
              " 'SYM': 39,\n",
              " 'TO': 15,\n",
              " 'UH': 38,\n",
              " 'UNK': 1,\n",
              " 'VB': 12,\n",
              " 'VBD': 10,\n",
              " 'VBG': 18,\n",
              " 'VBN': 16,\n",
              " 'VBP': 19,\n",
              " 'VBZ': 17,\n",
              " 'WDT': 23,\n",
              " 'WP': 25,\n",
              " 'WRB': 29}"
            ]
          },
          "metadata": {
            "tags": []
          },
          "execution_count": 6
        }
      ]
    },
    {
      "cell_type": "markdown",
      "metadata": {
        "id": "H2XUbdvbhnZ3"
      },
      "source": [
        "The next step is to create the dataset from our inputs. First, we have to convert our sequence of tokens and POS tags in our input and output sequences to sequences of integers. Second, we have to pad shorter sequences to the maximum length of 271. Notice that we do an additional operation on the POS tag sequences after padding, rather than keep it as a sequence of integers, we convert it to a sequence of one-hot encodings using the to_categorical() function. TensorFlow 2.0 does provide loss functions to handle outputs as a sequence of integers, but we want to keep our code as simple as possible, so we opt to do the conversion ourselves. Finally, we use the from_tensor_slices() function to create our dataset, shuffle it, and split it up into training, validation, and test sets:"
      ]
    },
    {
      "cell_type": "code",
      "metadata": {
        "id": "lo4aAaQ3hnxS"
      },
      "source": [
        "max_seqlen = 271\r\n",
        "\r\n",
        "# create dataset\r\n",
        "sents_as_ints = tokenizer_s.texts_to_sequences(sents)\r\n",
        "sents_as_ints = tf.keras.preprocessing.sequence.pad_sequences(\r\n",
        "    sents_as_ints, maxlen=max_seqlen, padding=\"post\")\r\n",
        "poss_as_ints = tokenizer_t.texts_to_sequences(poss)\r\n",
        "poss_as_ints = tf.keras.preprocessing.sequence.pad_sequences(\r\n",
        "    poss_as_ints, maxlen=max_seqlen, padding=\"post\")\r\n",
        "dataset = tf.data.Dataset.from_tensor_slices(\r\n",
        "    (sents_as_ints, poss_as_ints))\r\n",
        "idx2word_s[0], idx2word_t[0] = \"PAD\", \"PAD\"\r\n",
        "poss_as_catints = []\r\n",
        "for p in poss_as_ints:\r\n",
        "    poss_as_catints.append(tf.keras.utils.to_categorical(p, \r\n",
        "        num_classes=target_vocab_size, dtype=\"int32\"))\r\n",
        "poss_as_catints = tf.keras.preprocessing.sequence.pad_sequences(\r\n",
        "    poss_as_catints, maxlen=max_seqlen)\r\n",
        "dataset = tf.data.Dataset.from_tensor_slices(\r\n",
        "    (sents_as_ints, poss_as_catints))\r\n",
        "\r\n"
      ],
      "execution_count": 22,
      "outputs": []
    },
    {
      "cell_type": "markdown",
      "metadata": {
        "id": "oGhkJepMh93y"
      },
      "source": [
        "Next, we will define our model and instantiate it. Our model is a sequential model consisting of an embedding layer, a dropout layer, a bidirectional GRU layer, a dense layer, and a softmax activation layer. The input is a batch of integer sequences, with shape (batch_size, max_seqlen). When passed through the embedding layer, each integer in the sequence is converted to a vector of size (embedding_dim), so now the shape of our tensor is (batch_size, max_seqlen, embedding_dim). Each of these vectors are passed to corresponding time steps of a bidirectional GRU with an output dimension of 256. Because the GRU is bidirectional, this is equivalent to stacking one GRU on top of the other, so the tensor that comes out of the bidirectional GRU has the dimension (batch_size, max_seqlen, 2*rnn_output_dimension). Each timestep tensor of shape (batch_size, 1, 2*rnn_output_dimension) is fed into a dense layer, which converts each time step to a vector of the same size as the target vocabulary, that is, (batch_size, number_of_timesteps, output_vocab_size). Each time step represents a probability distribution of output tokens, so the final softmax layer is applied to each time step to return a sequence of output POS tokens.\r\n",
        "\r\n",
        "Finally, we declare the model with some parameters, then compile it with the Adam optimizer, the categorical cross-entropy loss function, and accuracy as the metric:"
      ]
    },
    {
      "cell_type": "code",
      "metadata": {
        "id": "sjSDM20dijP6"
      },
      "source": [
        "class POSTaggingModel(tf.keras.Model):\r\n",
        "   def __init__(self, source_vocab_size, target_vocab_size,\r\n",
        "           embedding_dim, max_seqlen, rnn_output_dim, **kwargs):\r\n",
        "       super(POSTaggingModel, self).__init__(**kwargs)\r\n",
        "       self.embed = tf.keras.layers.Embedding(\r\n",
        "           source_vocab_size, embedding_dim, input_length=max_seqlen)\r\n",
        "       self.dropout = tf.keras.layers.SpatialDropout1D(0.2)\r\n",
        "       self.rnn = tf.keras.layers.Bidirectional(\r\n",
        "           tf.keras.layers.GRU(rnn_output_dim, return_sequences=True))\r\n",
        "       self.dense = tf.keras.layers.TimeDistributed(\r\n",
        "           tf.keras.layers.Dense(target_vocab_size))\r\n",
        "       self.activation = tf.keras.layers.Activation(\"softmax\")\r\n",
        "   def call(self, x):\r\n",
        "       x = self.embed(x)\r\n",
        "       x = self.dropout(x)\r\n",
        "       x = self.rnn(x)\r\n",
        "       x = self.dense(x)\r\n",
        "       x = self.activation(x)\r\n",
        "       return x"
      ],
      "execution_count": 23,
      "outputs": []
    },
    {
      "cell_type": "code",
      "metadata": {
        "id": "Y1EEA-nRiw5s"
      },
      "source": [
        "def masked_accuracy():\r\n",
        "    def masked_accuracy_fn(ytrue, ypred):\r\n",
        "        ytrue = tf.keras.backend.argmax(ytrue, axis=-1)\r\n",
        "        ypred = tf.keras.backend.argmax(ypred, axis=-1)\r\n",
        " \r\n",
        "        mask = tf.keras.backend.cast(\r\n",
        "            tf.keras.backend.not_equal(ypred, 0), tf.int32)\r\n",
        "        matches = tf.keras.backend.cast(\r\n",
        "            tf.keras.backend.equal(ytrue, ypred), tf.int32) * mask\r\n",
        "        numer = tf.keras.backend.sum(matches)\r\n",
        "        denom = tf.keras.backend.maximum(tf.keras.backend.sum(mask), 1)\r\n",
        "        accuracy =  numer / denom\r\n",
        "        return accuracy\r\n",
        "\r\n",
        "    return masked_accuracy_fn"
      ],
      "execution_count": 24,
      "outputs": []
    },
    {
      "cell_type": "code",
      "metadata": {
        "id": "sBwfDVsxJCUH"
      },
      "source": [
        "def clean_logs(data_dir):\r\n",
        "    logs_dir = os.path.join(data_dir, \"logs\")\r\n",
        "    shutil.rmtree(logs_dir, ignore_errors=True)\r\n",
        "    return logs_dir"
      ],
      "execution_count": 25,
      "outputs": []
    },
    {
      "cell_type": "code",
      "metadata": {
        "id": "c6mTnKj3JnwQ"
      },
      "source": [
        "# set random seed\r\n",
        "tf.random.set_seed(42)\r\n",
        "\r\n",
        "# clean up log area\r\n",
        "data_dir = \"./data\"\r\n",
        "logs_dir = clean_logs(data_dir)\r\n"
      ],
      "execution_count": 18,
      "outputs": []
    },
    {
      "cell_type": "code",
      "metadata": {
        "id": "lUtFUNIZOgHd"
      },
      "source": [
        "# split into training, validation, and test datasets\r\n",
        "dataset = dataset.shuffle(10000)\r\n",
        "test_size = len(sents) // 3\r\n",
        "val_size = (len(sents) - test_size) // 10\r\n",
        "test_dataset = dataset.take(test_size)\r\n",
        "val_dataset = dataset.skip(test_size).take(val_size)\r\n",
        "train_dataset = dataset.skip(test_size + val_size)\r\n",
        "\r\n",
        "# create batches\r\n",
        "batch_size = BATCH_SIZE\r\n",
        "train_dataset = train_dataset.batch(batch_size)\r\n",
        "val_dataset = val_dataset.batch(batch_size)\r\n",
        "test_dataset = test_dataset.batch(batch_size)"
      ],
      "execution_count": 27,
      "outputs": []
    },
    {
      "cell_type": "code",
      "metadata": {
        "id": "5XWwAoc8O0Dl"
      },
      "source": [
        "NUM_PAIRS = None\r\n",
        "EMBEDDING_DIM = 128\r\n",
        "RNN_OUTPUT_DIM = 256\r\n",
        "BATCH_SIZE = 128\r\n",
        "NUM_EPOCHS = 50"
      ],
      "execution_count": null,
      "outputs": []
    },
    {
      "cell_type": "code",
      "metadata": {
        "colab": {
          "base_uri": "https://localhost:8080/"
        },
        "id": "-Nj5C9D0h-r2",
        "outputId": "4e176da3-986a-4684-8924-6a8471d76660"
      },
      "source": [
        "# define model\r\n",
        "embedding_dim = EMBEDDING_DIM\r\n",
        "rnn_output_dim = RNN_OUTPUT_DIM\r\n",
        "\r\n",
        "model = POSTaggingModel(source_vocab_size, target_vocab_size,\r\n",
        "    embedding_dim, max_seqlen, rnn_output_dim)\r\n",
        "model.build(input_shape=(batch_size, max_seqlen))\r\n",
        "model.summary()\r\n",
        "\r\n",
        "model.compile(\r\n",
        "    loss=\"categorical_crossentropy\",\r\n",
        "    optimizer=\"adam\", \r\n",
        "    metrics=[\"accuracy\", masked_accuracy()])"
      ],
      "execution_count": 28,
      "outputs": [
        {
          "output_type": "stream",
          "text": [
            "Model: \"pos_tagging_model_2\"\n",
            "_________________________________________________________________\n",
            "Layer (type)                 Output Shape              Param #   \n",
            "=================================================================\n",
            "embedding_2 (Embedding)      multiple                  1152128   \n",
            "_________________________________________________________________\n",
            "spatial_dropout1d_2 (Spatial multiple                  0         \n",
            "_________________________________________________________________\n",
            "bidirectional_2 (Bidirection multiple                  592896    \n",
            "_________________________________________________________________\n",
            "time_distributed_2 (TimeDist multiple                  20007     \n",
            "_________________________________________________________________\n",
            "activation_2 (Activation)    multiple                  0         \n",
            "=================================================================\n",
            "Total params: 1,765,031\n",
            "Trainable params: 1,765,031\n",
            "Non-trainable params: 0\n",
            "_________________________________________________________________\n"
          ],
          "name": "stdout"
        }
      ]
    },
    {
      "cell_type": "code",
      "metadata": {
        "id": "K2m97v7_JVnk"
      },
      "source": [
        ""
      ],
      "execution_count": 13,
      "outputs": []
    },
    {
      "cell_type": "code",
      "metadata": {
        "colab": {
          "base_uri": "https://localhost:8080/"
        },
        "id": "NEFYuELRJDH5",
        "outputId": "d23b3cbd-b431-4807-e47f-17524772a8eb"
      },
      "source": [
        "# train\r\n",
        "num_epochs = NUM_EPOCHS\r\n",
        "\r\n",
        "best_model_file = os.path.join(data_dir, \"best_model.h5\")\r\n",
        "checkpoint = tf.keras.callbacks.ModelCheckpoint(\r\n",
        "    best_model_file, \r\n",
        "    save_weights_only=True,\r\n",
        "    save_best_only=True)\r\n",
        "tensorboard = tf.keras.callbacks.TensorBoard(log_dir=logs_dir)\r\n",
        "history = model.fit(train_dataset, \r\n",
        "    epochs=num_epochs,\r\n",
        "    validation_data=val_dataset,\r\n",
        "    callbacks=[checkpoint, tensorboard])"
      ],
      "execution_count": 29,
      "outputs": [
        {
          "output_type": "stream",
          "text": [
            "Epoch 1/50\n",
            "19/19 [==============================] - 62s 3s/step - loss: 2.4722 - accuracy: 0.7519 - masked_accuracy_fn: 0.0048 - val_loss: 0.3275 - val_accuracy: 0.9126 - val_masked_accuracy_fn: 0.3333\n",
            "Epoch 2/50\n",
            "19/19 [==============================] - 56s 3s/step - loss: 0.3231 - accuracy: 0.9188 - masked_accuracy_fn: 0.1925 - val_loss: 0.3298 - val_accuracy: 0.9222 - val_masked_accuracy_fn: 0.1531\n",
            "Epoch 3/50\n",
            "19/19 [==============================] - 56s 3s/step - loss: 0.3230 - accuracy: 0.9228 - masked_accuracy_fn: 0.1659 - val_loss: 0.3151 - val_accuracy: 0.9183 - val_masked_accuracy_fn: 0.3769\n",
            "Epoch 4/50\n",
            "19/19 [==============================] - 56s 3s/step - loss: 0.3060 - accuracy: 0.9180 - masked_accuracy_fn: 0.2636 - val_loss: 0.2833 - val_accuracy: 0.9181 - val_masked_accuracy_fn: 0.1952\n",
            "Epoch 5/50\n",
            "19/19 [==============================] - 56s 3s/step - loss: 0.2782 - accuracy: 0.9176 - masked_accuracy_fn: 0.1344 - val_loss: 0.2608 - val_accuracy: 0.9254 - val_masked_accuracy_fn: 0.1447\n",
            "Epoch 6/50\n",
            "19/19 [==============================] - 56s 3s/step - loss: 0.2552 - accuracy: 0.9261 - masked_accuracy_fn: 0.1370 - val_loss: 0.2512 - val_accuracy: 0.9261 - val_masked_accuracy_fn: 0.1277\n",
            "Epoch 7/50\n",
            "19/19 [==============================] - 56s 3s/step - loss: 0.2536 - accuracy: 0.9253 - masked_accuracy_fn: 0.1394 - val_loss: 0.2431 - val_accuracy: 0.9286 - val_masked_accuracy_fn: 0.1436\n",
            "Epoch 8/50\n",
            "19/19 [==============================] - 56s 3s/step - loss: 0.2447 - accuracy: 0.9279 - masked_accuracy_fn: 0.1548 - val_loss: 0.2450 - val_accuracy: 0.9298 - val_masked_accuracy_fn: 0.1767\n",
            "Epoch 9/50\n",
            "19/19 [==============================] - 56s 3s/step - loss: 0.2467 - accuracy: 0.9301 - masked_accuracy_fn: 0.2017 - val_loss: 0.2536 - val_accuracy: 0.9295 - val_masked_accuracy_fn: 0.2178\n",
            "Epoch 10/50\n",
            "19/19 [==============================] - 56s 3s/step - loss: 0.2372 - accuracy: 0.9340 - masked_accuracy_fn: 0.2348 - val_loss: 0.2301 - val_accuracy: 0.9378 - val_masked_accuracy_fn: 0.2485\n",
            "Epoch 11/50\n",
            "19/19 [==============================] - 56s 3s/step - loss: 0.2295 - accuracy: 0.9369 - masked_accuracy_fn: 0.2679 - val_loss: 0.2154 - val_accuracy: 0.9427 - val_masked_accuracy_fn: 0.3344\n",
            "Epoch 12/50\n",
            "19/19 [==============================] - 56s 3s/step - loss: 0.2275 - accuracy: 0.9388 - masked_accuracy_fn: 0.3102 - val_loss: 0.2099 - val_accuracy: 0.9426 - val_masked_accuracy_fn: 0.3216\n",
            "Epoch 13/50\n",
            "19/19 [==============================] - 56s 3s/step - loss: 0.2103 - accuracy: 0.9423 - masked_accuracy_fn: 0.3320 - val_loss: 0.1980 - val_accuracy: 0.9454 - val_masked_accuracy_fn: 0.3724\n",
            "Epoch 14/50\n",
            "19/19 [==============================] - 56s 3s/step - loss: 0.2039 - accuracy: 0.9435 - masked_accuracy_fn: 0.3601 - val_loss: 0.1964 - val_accuracy: 0.9462 - val_masked_accuracy_fn: 0.3628\n",
            "Epoch 15/50\n",
            "19/19 [==============================] - 56s 3s/step - loss: 0.1908 - accuracy: 0.9477 - masked_accuracy_fn: 0.4007 - val_loss: 0.1980 - val_accuracy: 0.9467 - val_masked_accuracy_fn: 0.3969\n",
            "Epoch 16/50\n",
            "19/19 [==============================] - 56s 3s/step - loss: 0.1823 - accuracy: 0.9509 - masked_accuracy_fn: 0.4394 - val_loss: 0.1791 - val_accuracy: 0.9527 - val_masked_accuracy_fn: 0.4487\n",
            "Epoch 17/50\n",
            "19/19 [==============================] - 56s 3s/step - loss: 0.1776 - accuracy: 0.9527 - masked_accuracy_fn: 0.4635 - val_loss: 0.1758 - val_accuracy: 0.9535 - val_masked_accuracy_fn: 0.5401\n",
            "Epoch 18/50\n",
            "19/19 [==============================] - 56s 3s/step - loss: 0.1657 - accuracy: 0.9560 - masked_accuracy_fn: 0.4931 - val_loss: 0.1734 - val_accuracy: 0.9542 - val_masked_accuracy_fn: 0.5012\n",
            "Epoch 19/50\n",
            "19/19 [==============================] - 56s 3s/step - loss: 0.1584 - accuracy: 0.9582 - masked_accuracy_fn: 0.5183 - val_loss: 0.1449 - val_accuracy: 0.9623 - val_masked_accuracy_fn: 0.5803\n",
            "Epoch 20/50\n",
            "19/19 [==============================] - 56s 3s/step - loss: 0.1595 - accuracy: 0.9577 - masked_accuracy_fn: 0.5249 - val_loss: 0.1492 - val_accuracy: 0.9604 - val_masked_accuracy_fn: 0.5020\n",
            "Epoch 21/50\n",
            "19/19 [==============================] - 56s 3s/step - loss: 0.1464 - accuracy: 0.9612 - masked_accuracy_fn: 0.5557 - val_loss: 0.1486 - val_accuracy: 0.9596 - val_masked_accuracy_fn: 0.5016\n",
            "Epoch 22/50\n",
            "19/19 [==============================] - 56s 3s/step - loss: 0.1459 - accuracy: 0.9608 - masked_accuracy_fn: 0.5559 - val_loss: 0.1385 - val_accuracy: 0.9629 - val_masked_accuracy_fn: 0.5232\n",
            "Epoch 23/50\n",
            "19/19 [==============================] - 56s 3s/step - loss: 0.1365 - accuracy: 0.9631 - masked_accuracy_fn: 0.5788 - val_loss: 0.1351 - val_accuracy: 0.9631 - val_masked_accuracy_fn: 0.5589\n",
            "Epoch 24/50\n",
            "19/19 [==============================] - 56s 3s/step - loss: 0.1312 - accuracy: 0.9646 - masked_accuracy_fn: 0.5889 - val_loss: 0.1291 - val_accuracy: 0.9646 - val_masked_accuracy_fn: 0.5637\n",
            "Epoch 25/50\n",
            "19/19 [==============================] - 56s 3s/step - loss: 0.1266 - accuracy: 0.9653 - masked_accuracy_fn: 0.5980 - val_loss: 0.1282 - val_accuracy: 0.9640 - val_masked_accuracy_fn: 0.6388\n",
            "Epoch 26/50\n",
            "19/19 [==============================] - 56s 3s/step - loss: 0.1228 - accuracy: 0.9664 - masked_accuracy_fn: 0.6131 - val_loss: 0.1110 - val_accuracy: 0.9685 - val_masked_accuracy_fn: 0.5706\n",
            "Epoch 27/50\n",
            "19/19 [==============================] - 57s 3s/step - loss: 0.1214 - accuracy: 0.9657 - masked_accuracy_fn: 0.6112 - val_loss: 0.1126 - val_accuracy: 0.9685 - val_masked_accuracy_fn: 0.5860\n",
            "Epoch 28/50\n",
            "19/19 [==============================] - 57s 3s/step - loss: 0.1200 - accuracy: 0.9661 - masked_accuracy_fn: 0.6124 - val_loss: 0.1085 - val_accuracy: 0.9683 - val_masked_accuracy_fn: 0.5746\n",
            "Epoch 29/50\n",
            "19/19 [==============================] - 56s 3s/step - loss: 0.1171 - accuracy: 0.9663 - masked_accuracy_fn: 0.6207 - val_loss: 0.1059 - val_accuracy: 0.9698 - val_masked_accuracy_fn: 0.6312\n",
            "Epoch 30/50\n",
            "19/19 [==============================] - 56s 3s/step - loss: 0.1101 - accuracy: 0.9684 - masked_accuracy_fn: 0.6403 - val_loss: 0.1101 - val_accuracy: 0.9682 - val_masked_accuracy_fn: 0.6673\n",
            "Epoch 31/50\n",
            "19/19 [==============================] - 56s 3s/step - loss: 0.1118 - accuracy: 0.9679 - masked_accuracy_fn: 0.6396 - val_loss: 0.1107 - val_accuracy: 0.9672 - val_masked_accuracy_fn: 0.6568\n",
            "Epoch 32/50\n",
            "19/19 [==============================] - 56s 3s/step - loss: 0.1021 - accuracy: 0.9702 - masked_accuracy_fn: 0.6584 - val_loss: 0.1035 - val_accuracy: 0.9693 - val_masked_accuracy_fn: 0.6535\n",
            "Epoch 33/50\n",
            "19/19 [==============================] - 56s 3s/step - loss: 0.1024 - accuracy: 0.9701 - masked_accuracy_fn: 0.6543 - val_loss: 0.0986 - val_accuracy: 0.9712 - val_masked_accuracy_fn: 0.6561\n",
            "Epoch 34/50\n",
            "19/19 [==============================] - 56s 3s/step - loss: 0.0954 - accuracy: 0.9724 - masked_accuracy_fn: 0.6766 - val_loss: 0.0991 - val_accuracy: 0.9708 - val_masked_accuracy_fn: 0.5986\n",
            "Epoch 35/50\n",
            "19/19 [==============================] - 56s 3s/step - loss: 0.1012 - accuracy: 0.9705 - masked_accuracy_fn: 0.6662 - val_loss: 0.0979 - val_accuracy: 0.9707 - val_masked_accuracy_fn: 0.6625\n",
            "Epoch 36/50\n",
            "19/19 [==============================] - 56s 3s/step - loss: 0.0939 - accuracy: 0.9728 - masked_accuracy_fn: 0.6857 - val_loss: 0.0928 - val_accuracy: 0.9729 - val_masked_accuracy_fn: 0.6705\n",
            "Epoch 37/50\n",
            "19/19 [==============================] - 56s 3s/step - loss: 0.0890 - accuracy: 0.9741 - masked_accuracy_fn: 0.6994 - val_loss: 0.0954 - val_accuracy: 0.9716 - val_masked_accuracy_fn: 0.6299\n",
            "Epoch 38/50\n",
            "19/19 [==============================] - 56s 3s/step - loss: 0.0896 - accuracy: 0.9741 - masked_accuracy_fn: 0.7023 - val_loss: 0.0904 - val_accuracy: 0.9733 - val_masked_accuracy_fn: 0.7256\n",
            "Epoch 39/50\n",
            "19/19 [==============================] - 56s 3s/step - loss: 0.0882 - accuracy: 0.9742 - masked_accuracy_fn: 0.7035 - val_loss: 0.0884 - val_accuracy: 0.9741 - val_masked_accuracy_fn: 0.7454\n",
            "Epoch 40/50\n",
            "19/19 [==============================] - 56s 3s/step - loss: 0.0843 - accuracy: 0.9752 - masked_accuracy_fn: 0.7111 - val_loss: 0.0840 - val_accuracy: 0.9753 - val_masked_accuracy_fn: 0.7642\n",
            "Epoch 41/50\n",
            "19/19 [==============================] - 56s 3s/step - loss: 0.0867 - accuracy: 0.9744 - masked_accuracy_fn: 0.7059 - val_loss: 0.0720 - val_accuracy: 0.9792 - val_masked_accuracy_fn: 0.7532\n",
            "Epoch 42/50\n",
            "19/19 [==============================] - 56s 3s/step - loss: 0.0829 - accuracy: 0.9755 - masked_accuracy_fn: 0.7190 - val_loss: 0.0739 - val_accuracy: 0.9782 - val_masked_accuracy_fn: 0.7264\n",
            "Epoch 43/50\n",
            "19/19 [==============================] - 56s 3s/step - loss: 0.0818 - accuracy: 0.9763 - masked_accuracy_fn: 0.7316 - val_loss: 0.0814 - val_accuracy: 0.9761 - val_masked_accuracy_fn: 0.7847\n",
            "Epoch 44/50\n",
            "19/19 [==============================] - 57s 3s/step - loss: 0.0806 - accuracy: 0.9765 - masked_accuracy_fn: 0.7357 - val_loss: 0.0732 - val_accuracy: 0.9786 - val_masked_accuracy_fn: 0.7488\n",
            "Epoch 45/50\n",
            "19/19 [==============================] - 57s 3s/step - loss: 0.0776 - accuracy: 0.9776 - masked_accuracy_fn: 0.7478 - val_loss: 0.0822 - val_accuracy: 0.9755 - val_masked_accuracy_fn: 0.7617\n",
            "Epoch 46/50\n",
            "19/19 [==============================] - 56s 3s/step - loss: 0.0776 - accuracy: 0.9774 - masked_accuracy_fn: 0.7359 - val_loss: 0.0719 - val_accuracy: 0.9795 - val_masked_accuracy_fn: 0.7404\n",
            "Epoch 47/50\n",
            "19/19 [==============================] - 56s 3s/step - loss: 0.0746 - accuracy: 0.9783 - masked_accuracy_fn: 0.7553 - val_loss: 0.0685 - val_accuracy: 0.9798 - val_masked_accuracy_fn: 0.7178\n",
            "Epoch 48/50\n",
            "19/19 [==============================] - 56s 3s/step - loss: 0.0755 - accuracy: 0.9774 - masked_accuracy_fn: 0.7467 - val_loss: 0.0728 - val_accuracy: 0.9791 - val_masked_accuracy_fn: 0.7381\n",
            "Epoch 49/50\n",
            "19/19 [==============================] - 57s 3s/step - loss: 0.0726 - accuracy: 0.9785 - masked_accuracy_fn: 0.7580 - val_loss: 0.0659 - val_accuracy: 0.9806 - val_masked_accuracy_fn: 0.7942\n",
            "Epoch 50/50\n",
            "19/19 [==============================] - 56s 3s/step - loss: 0.0712 - accuracy: 0.9790 - masked_accuracy_fn: 0.7629 - val_loss: 0.0624 - val_accuracy: 0.9820 - val_masked_accuracy_fn: 0.8256\n"
          ],
          "name": "stdout"
        }
      ]
    },
    {
      "cell_type": "code",
      "metadata": {
        "id": "688SRfMYO5KA"
      },
      "source": [
        "# evaluate with test set\r\n",
        "best_model = POSTaggingModel(source_vocab_size, target_vocab_size,\r\n",
        "    embedding_dim, max_seqlen, rnn_output_dim)\r\n",
        "best_model.build(input_shape=(batch_size, max_seqlen))\r\n",
        "best_model.load_weights(best_model_file)\r\n",
        "best_model.compile(\r\n",
        "    loss=\"categorical_crossentropy\",\r\n",
        "    optimizer=\"adam\", \r\n",
        "    metrics=[\"accuracy\", masked_accuracy()])\r\n"
      ],
      "execution_count": 30,
      "outputs": []
    },
    {
      "cell_type": "code",
      "metadata": {
        "colab": {
          "base_uri": "https://localhost:8080/"
        },
        "id": "9IgVC9fHO9AU",
        "outputId": "11d40297-9381-4a4c-ee87-7776a0fc2f2e"
      },
      "source": [
        "test_loss, test_acc, test_masked_acc = best_model.evaluate(test_dataset)\r\n",
        "print(\"test loss: {:.3f}, test accuracy: {:.3f}, masked test accuracy: {:.3f}\".format(\r\n",
        "    test_loss, test_acc, test_masked_acc))\r\n",
        "\r\n",
        "# predict on batches\r\n",
        "labels, predictions = [], []\r\n",
        "is_first_batch = True\r\n",
        "accuracies = []\r\n",
        "\r\n",
        "for test_batch in test_dataset:\r\n",
        "    inputs_b, outputs_b = test_batch\r\n",
        "    preds_b = best_model.predict(inputs_b)\r\n",
        "    # convert from categorical to list of ints\r\n",
        "    preds_b = np.argmax(preds_b, axis=-1)\r\n",
        "    outputs_b = np.argmax(outputs_b.numpy(), axis=-1)\r\n",
        "    for i, (pred_l, output_l) in enumerate(zip(preds_b, outputs_b)):\r\n",
        "        assert(len(pred_l) == len(output_l))\r\n",
        "        pad_len = np.nonzero(output_l)[0][0]\r\n",
        "        acc = np.count_nonzero(\r\n",
        "            np.equal(\r\n",
        "                output_l[pad_len:], pred_l[pad_len:]\r\n",
        "            )\r\n",
        "        ) / len(output_l[pad_len:])\r\n",
        "        accuracies.append(acc)\r\n",
        "        if is_first_batch:\r\n",
        "            words = [idx2word_s[x] for x in inputs_b.numpy()[i][pad_len:]]\r\n",
        "            postags_l = [idx2word_t[x] for x in output_l[pad_len:] if x > 0]\r\n",
        "            postags_p = [idx2word_t[x] for x in pred_l[pad_len:] if x > 0]\r\n",
        "            print(\"labeled  : {:s}\".format(\" \".join([\"{:s}/{:s}\".format(w, p) \r\n",
        "                for (w, p) in zip(words, postags_l)])))\r\n",
        "            print(\"predicted: {:s}\".format(\" \".join([\"{:s}/{:s}\".format(w, p) \r\n",
        "                for (w, p) in zip(words, postags_p)])))\r\n",
        "            print(\" \")\r\n",
        "    is_first_batch = False\r\n",
        "\r\n",
        "accuracy_score = np.mean(np.array(accuracies))\r\n",
        "print(\"pos tagging accuracy: {:.3f}\".format(accuracy_score))"
      ],
      "execution_count": 31,
      "outputs": [
        {
          "output_type": "stream",
          "text": [
            "11/11 [==============================] - 10s 813ms/step - loss: 0.0668 - accuracy: 0.9803 - masked_accuracy_fn: 0.7776\n",
            "test loss: 0.066, test accuracy: 0.981, masked test accuracy: 0.780\n",
            "labeled  : the/DT sale/NN of/IN southern/NNP optical/NNP is/VBZ a/DT part/NN of/IN the/DT program/NN\n",
            "predicted: the/DT sale/NN of/IN southern/NNP optical/NNP is/VBZ a/DT part/NN of/IN the/DT program/NN\n",
            " \n",
            "labeled  : yields/NNS on/IN money/JJ market/JJ mutual/NNS funds/VBD continued/NONE 1/TO to/VB slide/IN amid/NNS signs/IN that/NN portfolio/NNS managers/VBP expect/JJ further/NNS declines/IN in/NN interest/NNS\n",
            "predicted: yields/NNS on/IN money/NN market/NN mutual/NNS funds/NNS continued/NONE 1/NONE to/TO slide/IN amid/NNS signs/NNS that/NN portfolio/NNS managers/NNS expect/JJ further/NNS declines/IN in/NN interest/NNS\n",
            " \n",
            "labeled  : still/RB bankers/NNS expect/VBP packaging/NN to/TO flourish/VB primarily/RB because/IN more/JJR customers/NNS are/VBP demanding/VBG that/IN financial/JJ services/NNS be/VB tailored/VBN 124/NONE to/TO their/PRP needs/NNS\n",
            "predicted: still/RB bankers/NNS expect/VBP packaging/NN to/TO flourish/VB primarily/RB because/IN more/JJR customers/NNS are/VBP demanding/VBG that/IN financial/JJ services/NNS be/VBP tailored/VBN 124/NONE to/TO their/VB needs/NNS\n",
            " \n",
            "labeled  : many/JJ asians/NNPS regard/VBP a/DT u/NNP s/NN presence/IN as/DT a/JJ desirable/NN counterweight/TO to/JJ japanese/NN\n",
            "predicted: many/JJ asians/NNPS regard/VBP a/DT u/NNP s/NN presence/IN as/DT a/JJ desirable/NN counterweight/TO to/JJ japanese/NN\n",
            " \n",
            "labeled  : and/CC it/PRP exp/NONE 2/VBZ is/RB n't/JJ clear/IN that/DT the/NNP soviet/NNP union/MD will/VB stay/IN on/PRP its/NN record/VBG buying/NN\n",
            "predicted: and/CC it/PRP exp/NONE 2/VBZ is/RB n't/JJ clear/IN that/DT the/NNP soviet/NNP union/MD will/VB stay/IN on/PRP its/NN record/NN buying/NN\n",
            " \n",
            "labeled  : but/CC people/NNS familiar/JJ with/IN the/DT agenda/NN of/IN the/DT board/NN 's/POS meeting/NN last/JJ week/NN in/IN london/NNP said/VBD 0/NONE mr/NNP mcgovern/NNP was/VBD fired/VBN 42/NONE\n",
            "predicted: but/CC people/NNS familiar/JJ with/IN the/DT agenda/NN of/IN the/DT board/NNP 's/POS meeting/NN last/JJ week/NN in/IN london/NNP said/VBD 0/NONE mr/NNP mcgovern/NNP was/VBD fired/VBN 42/NONE\n",
            " \n",
            "labeled  : while/IN a/DT quarter/NN of/IN black/JJ voters/NNS disapprove/VBP of/IN mr/NNP bush/NNP 's/POS handling/NN of/IN his/PRP job/NN only/RB 15/CD have/NN a/VBP negative/DT view/JJ of/NN his/IN spouse/PRP ''/NN PAD/''\n",
            "predicted: while/IN a/DT quarter/NN of/IN black/JJ voters/NNS disapprove/VBP of/IN mr/NNP bush/NNP 's/POS handling/NN of/IN his/PRP job/NN only/RB 15/CD have/VBP a/DT negative/DT view/NN of/IN his/PRP spouse/PRP ''/''\n",
            " \n",
            "labeled  : london/NNP serves/VBZ increasingly/RB as/IN a/DT conduit/NN for/IN program/NN trading/NN of/IN u/NNP s/NNS\n",
            "predicted: london/NNP serves/VBZ increasingly/RB as/IN a/DT conduit/NN for/IN program/NN trading/NN of/IN u/NNP\n",
            " \n",
            "labeled  : professors/NNP philip/NNP kurland/NNP of/IN the/DT university/NNP of/IN chicago/NNP and/CC UNK/NNP tribe/NNP of/IN harvard/NNP law/NNP school/NNP said/VBD 0/NONE any/DT effort/NN by/IN president/NNP bush/NNP 0/NONE to/NONE claim/TO authority/VB for/NN a/IN line/DT item/JJ veto/NN t/NONE 1/MD would/VB contradict/DT the/NN text/IN of/DT the/NNP constitution/CC and/DT the/NN intent/IN of/PRP its/NNS authors/RB as/RB well/IN as/DT the/NNS views/IN of/JJ previous/NNS\n",
            "predicted: professors/NNP philip/NNP kurland/NNP of/IN the/DT university/NNP of/IN chicago/NNP and/CC UNK/NNP tribe/NNP of/IN harvard/NNP law/NNP school/NNP said/VBD 0/NONE any/DT effort/NN by/IN president/NNP bush/NNP 0/NONE to/TO claim/VB authority/NN for/IN a/DT line/DT item/NN veto/NONE t/MD 1/MD would/VB contradict/DT the/NN text/IN of/DT the/NNP constitution/CC and/DT the/NN intent/IN of/PRP its/PRP authors/RB as/RB well/IN as/DT the/IN views/IN of/NNS previous/NNS\n",
            " \n",
            "labeled  : the/DT charges/NNS were/VBD offset/VBN 1/NONE in/IN part/NN by/IN a/DT gain/NN from/IN the/DT sale/NN of/IN the/DT company/NN 's/POS construction/NN division/NN\n",
            "predicted: the/DT charges/NNS were/VBD offset/VBN 1/NONE in/IN part/NN by/IN a/DT gain/NN from/IN the/DT sale/NN of/IN the/DT company/NN 's/POS construction/NN division/NN\n",
            " \n",
            "labeled  : after/IN two/CD months/NNS of/IN talks/NNS our/PRP rating/NN was/VBD maintained/VBN 1/NONE ''/''\n",
            "predicted: after/IN two/CD months/NNS of/IN talks/NNS our/PRP rating/NN was/VBD maintained/VBD 1/NONE ''/''\n",
            " \n",
            "labeled  : while/IN mrs/NNP ward/NNP fired/VBD and/CC restructured/VBD staff/NN and/CC struggled/VBD 1/NONE to/TO improve/VB curriculum/NN mrs/NNP yeargin/NNP worked/VBD 14/JJ hour/NNS days/CC and/RB fast/VBD became/DT a/NN student/JJ\n",
            "predicted: while/IN mrs/NNP ward/NNP fired/VBD and/CC restructured/VBD staff/NN and/CC struggled/VBD 1/NONE to/TO improve/VB curriculum/NN mrs/NNP yeargin/NNP worked/VBD 14/CD hour/NNS days/NNS and/NN fast/VBD became/DT a/NN student/NN\n",
            " \n",
            "labeled  : jerry/NNP UNK/NNP managing/VBG director/NN of/IN UNK/NNP associates/NNPS was/VBD elected/VBN 1/NONE a/DT director/NN of/IN this/DT business/NN telecommunications/NNS software/NN and/CC systems/NNS concern/NN\n",
            "predicted: jerry/NNP UNK/NNP managing/VBG director/NN of/IN UNK/NNP associates/NNS was/VBD elected/VBN 1/NONE a/DT director/NN of/IN this/DT business/NN telecommunications/NNS software/NN and/CC systems/NNS concern/NN\n",
            " \n",
            "labeled  : also/RB ringers/NNS do/VBP n't/RB always/RB live/VB where/WRB the/DT bells/NNS need/VBP 1/NONE to/TO be/VB rung/VBN 140/NONE t/NONE 2/IN like/IN in/JJ small/JJ rural/NNS parishes/CC and/NN inner/NNS\n",
            "predicted: also/RB ringers/NNS do/VBP n't/RB always/RB live/VB where/WRB the/DT bells/NNS need/VBP 1/NONE to/TO be/VB rung/VBN 140/NONE t/NONE 2/IN like/IN in/JJ small/JJ rural/NNS parishes/CC and/NNS inner/NNS\n",
            " \n",
            "labeled  : reuters/NNP holdings/NNP plc/NNP said/VBD 0/NONE michael/NNP reupke/NNP resigned/VBD as/IN general/JJ manager/NN 1/NONE to/TO pursue/VB UNK/JJ interests/NNS a/DT move/NN 0/NONE the/DT news/NN organization/NN UNK/VBD t/NONE 2/DT an/JJ UNK/NN separation/''\n",
            "predicted: reuters/NNP holdings/NNP plc/NNP said/VBD 0/NONE michael/NNP reupke/NNP resigned/VBD as/IN general/JJ manager/NN 1/NONE to/TO pursue/VB UNK/NNS interests/NNS a/DT move/NN 0/NN the/DT news/NN organization/NN UNK/VBD t/NONE 2/DT an/NN UNK/NN separation/''\n",
            " \n",
            "labeled  : more/JJR than/IN a/DT half/NN of/IN all/DT sugar/NN produced/VBN in/NONE brazil/IN goes/NNP for/VBZ alcohol/IN production/NN according/NN to/VBG ms/TO ganes/NNP PAD/NNP\n",
            "predicted: more/JJR than/IN a/DT half/DT of/IN all/DT sugar/NN produced/VBN in/NONE brazil/NNP goes/IN for/IN alcohol/IN production/NN according/NN to/TO ms/TO ganes/NNP PAD/NNP\n",
            " \n",
            "labeled  : mortgage/NN securities/NNS ended/VBD slightly/RB higher/JJR but/CC trailed/VBD gains/NNS in/IN the/DT treasury/NNP market/NN\n",
            "predicted: mortgage/NN securities/NNS ended/VBD slightly/RB higher/JJR but/CC trailed/VBD gains/NNS in/IN the/DT treasury/NNP market/NN\n",
            " \n",
            "labeled  : there/EX may/MD be/VB sticker/NN shock/NN reaction/RB initially/'' ''/VBD said/NONE t/NNP 2/NNP mr/CC pratt/IN but/DT as/NN the/VBZ wine/VBN is/IN talked/NONE about/CC 1/VBZ and/NONE starts/TO 1/VB to/PRP sell/RB they/VB eventually/VBN get/CC excited/VB and/NONE decide/PRP 0/VBZ it/JJ 's/DT worth/JJ the/NN astronomical/NONE price/TO 3/VB to/PRP add/TO it/PRP to/NN their/''\n",
            "predicted: there/EX may/MD be/VB sticker/NN shock/NN reaction/RB initially/'' ''/'' said/NONE t/NNP 2/NNP mr/NNP pratt/CC but/IN as/DT the/NN wine/VBZ is/NONE talked/NONE about/NONE 1/NONE and/NONE starts/NONE 1/NONE to/VB sell/PRP they/RB eventually/VBN get/CC excited/CC and/NONE decide/NONE 0/PRP it/POS 's/NN worth/DT the/NN astronomical/NONE price/NONE 3/TO to/VB add/PRP it/PRP to/VB\n",
            " \n",
            "labeled  : the/DT funding/NN mechanism/NN which/WDT t/NONE 80/VBZ has/VBN received/JJ congressional/NN approval/CC and/VBZ is/VBN expected/NONE 1/TO to/VB be/VBN signed/NONE 83/IN by/NNP president/NNP bush/MD would/VB affect/DT the/JJ antitrust/NNS operations/IN of/DT the/NNP justice/NNP department/CC and/DT the/NNP federal/NNP trade/NNP\n",
            "predicted: the/DT funding/NN mechanism/NN which/WDT t/NONE 80/VBZ has/VBN received/JJ congressional/NN approval/NN and/VBZ is/VBN expected/NONE 1/TO to/VB be/VBN signed/VBN 83/IN by/NNP president/NNP bush/MD would/VB affect/DT the/JJ antitrust/NNS operations/IN of/DT the/NNP justice/NNP department/CC and/DT the/NNP federal/NNP trade/NNP\n",
            " \n",
            "labeled  : it/PRP could/MD operate/VB 1/NONE to/TO augment/VB our/PRP budget/NN ''/'' james/NNP rill/NNP the/DT justice/NNP department/NNP 's/POS antitrust/JJ chief/NN said/VBD t/NONE 2/IN in/DT an/NN\n",
            "predicted: it/PRP could/MD operate/VB 1/NONE to/TO augment/VB our/PRP budget/NN ''/'' james/NNP rill/NNP the/DT justice/NNP department/NNP 's/POS antitrust/JJ chief/NN said/VBD t/NONE 2/IN in/DT an/NN\n",
            " \n",
            "labeled  : american/NNP telephone/NNP telegraph/CC 's/NNP general/POS business/NNP systems/NNP division/NNPS new/NN york/NNP awarded/NNP the/VBD ad/DT account/NN for/NN its/IN fax/PRP product/NNP line/NN to/NN ogilvy/TO mather/NNP new/CC york/NNP a/NNP wpp/NNP group/DT agency/NNP PAD/NNP PAD/NN\n",
            "predicted: american/NNP telephone/NNP telegraph/NNP 's/POS general/NNP business/NNP systems/NNP division/NNP new/NNP york/NNP awarded/NNP the/DT ad/NN account/NN for/IN its/PRP fax/PRP product/NN line/NN to/NN ogilvy/TO mather/NNP new/NNP york/NNP a/NNP wpp/NNP group/NNP agency/NNP\n",
            " \n",
            "labeled  : sales/NNS rose/VBD 10/CD to/NN 13/TO 8/CD billion/CD u/NONE from/IN 12/CD 5/CD billion/NONE\n",
            "predicted: sales/NNS rose/VBD 10/CD to/CD 13/CD 8/CD billion/CD u/CD from/CD 12/CD 5/CD billion/CD\n",
            " \n",
            "labeled  : from/IN january/NNP to/TO october/NNP the/DT nation/NN 's/POS accumulated/VBN exports/NNS increased/VBD 4/CD from/NN the/IN same/DT period/JJ last/NN year/JJ to/NN 50/TO 45/CD billion/CD u/NONE\n",
            "predicted: from/IN january/NNP to/NNP october/NNP the/DT nation/NN 's/POS accumulated/VBN exports/NNS increased/VBN 4/NONE from/IN the/DT same/JJ period/NN last/JJ year/NN to/TO 50/CD 45/CD billion/NONE\n",
            " \n",
            "labeled  : the/DT top/JJ money/NN funds/NNS are/VBP currently/RB yielding/VBG well/RB over/IN 9/CD PAD/NN\n",
            "predicted: the/DT top/JJ money/NN funds/NNS are/VBP currently/RB yielding/RB well/RB over/IN 9/CD\n",
            " \n",
            "labeled  : to/TO the/DT extent/NN 0/NONE they/PRP did/VBD their/PRP concern/NN was/VBD 1/NONE to/TO ensure/VB fiscal/JJ accountability/NN\n",
            "predicted: to/TO the/DT extent/NN 0/NONE they/PRP did/VBD their/PRP concern/NN was/VBD 1/NONE to/TO ensure/VB fiscal/JJ accountability/NN\n",
            " \n",
            "labeled  : while/IN the/DT small/JJ deals/NNS are/VBP far/RB less/RBR conspicuous/JJ they/PRP add/VBP to/TO japanese/JJ penetration/NN of/IN the/DT u/NNP s/NN\n",
            "predicted: while/IN the/DT small/JJ deals/NNS are/VBP far/RB less/RBR conspicuous/JJ they/PRP add/VBP to/TO japanese/JJ penetration/NN of/IN the/DT u/NNP\n",
            " \n",
            "labeled  : and/CC many/JJ emerging/VBG markets/NNS have/VBP outpaced/VBN more/RBR mature/JJ markets/NNS such/JJ as/IN the/DT u/NNP s/CC and/NNP\n",
            "predicted: and/CC many/JJ emerging/VBG markets/NNS have/VBP outpaced/VBN more/RBR mature/JJ markets/NNS such/JJ as/IN the/DT u/NNP s/CC\n",
            " \n",
            "labeled  : shortly/RB afterwards/RB mr/NNP bush/NNP imposed/VBD a/DT series/NN of/IN anti/JJ china/NNS sanctions/VBG including/NN suspension/IN of/JJS most/JJ high/NNS level/WDT talks/NONE which/MD t/VB 1/VBN could/NONE be/IN codified/NNP 147/JJ in/NN u/IN s/DT congressional/VBG legislation/NNS\n",
            "predicted: shortly/RB afterwards/RB mr/NNP bush/NNP imposed/VBD a/DT series/NN of/IN anti/JJ china/NNS sanctions/VBG including/VBG suspension/IN of/NNS most/IN high/JJ level/NNS talks/WDT which/WDT t/MD 1/MD could/VB be/IN codified/NNP 147/IN in/NNP u/JJ s/IN congressional/NN legislation/IN in/DT\n",
            " \n",
            "labeled  : the/DT company/NN attributed/VBD lower/JJR sales/NNS and/CC earnings/NNS for/IN the/DT steel/NN segment/NN to/TO the/DT loss/NN of/IN results/NNS from/IN the/DT UNK/NNP ohio/NNP plant/NN which/WDT t/NONE 51/RB now/VBZ is/DT a/CD 50/NN 50/NN joint/IN venture/NNP with/POS japan/NNP 's/NNP UNK/NNP\n",
            "predicted: the/DT company/NN attributed/VBD lower/JJR sales/NNS and/NNS earnings/NNS for/IN the/DT steel/NN segment/NN to/TO the/DT loss/NN of/IN results/NNS from/IN the/DT UNK/NNP ohio/NNP plant/NN which/WDT t/NONE 51/VBZ now/VBZ is/DT a/CD 50/CD 50/NN joint/NN venture/NNP with/NNP japan/NNP 's/NNP UNK/NNP\n",
            " \n",
            "labeled  : title/NN x/NNP funds/NNS are/VBP the/DT single/JJ largest/JJS source/NN of/IN federal/JJ funding/NN for/IN family/JJ planning/NNS services/VBG according/TO to/DT the/NN opinion/IN by/DT the/NNP second/NNP u/NNP s/NNP circuit/IN court/NNPS of/IN appeals/NNP in/NNP\n",
            "predicted: title/NN x/NNP funds/NNS are/VBP the/DT single/JJ largest/JJS source/NN of/IN federal/JJ funding/NN for/IN family/JJ planning/VBG services/TO according/VBG to/DT the/NN opinion/IN by/DT the/DT second/NNP u/NNP s/NNP circuit/NN court/IN of/IN appeals/IN in/NNP new/NNP\n",
            " \n",
            "labeled  : proponents/NNS of/IN the/DT funding/NN arrangement/NN predict/VBP that/IN based/VBN on/IN recent/JJ filing/NN levels/NNS of/IN more/JJR than/IN 2/CD 000/DT a/NN year/DT the/NNS fees/MD will/VB yield/IN at/JJS least/CD 40/CD million/NONE u/NONE ich/DT 1/JJ this/NN fiscal/CC year/CD or/CD 10/NONE million/JJR u/IN more/DT than/NN the/NNS\n",
            "predicted: proponents/NNS of/IN the/DT funding/NN arrangement/NN predict/VBP that/IN based/NN on/IN recent/JJ filing/NN levels/NNS of/IN more/IN than/IN 2/NN 000/DT a/NN year/DT the/NNS fees/MD will/VB yield/IN at/CD least/CD 40/CD million/NONE u/NONE ich/DT 1/DT this/JJ fiscal/NN year/CC or/CD 10/CD million/NONE u/IN more/IN than/DT the/NN\n",
            " \n",
            "labeled  : the/DT announcement/NN follows/VBZ a/DT sharper/JJR 2/CD 2/CD billion/NONE u/NN decline/IN in/DT the/NN country/POS 's/JJ foreign/NNS reserves/IN in/NNP september/TO to/CD 86/CD 12/NONE\n",
            "predicted: the/DT announcement/NN follows/VBZ a/DT sharper/JJ 2/CD 2/CD billion/NONE u/IN decline/IN in/DT the/NN country/POS 's/JJ foreign/NNS reserves/IN in/NNP september/CD to/CD 86/CD 12/CD\n",
            " \n",
            "labeled  : she/PRP says/VBZ 0/NONE individual/JJ barnett/NNP branches/NNS can/MD add/VB different/JJ benefits/NNS ich/NONE 1/TO to/PRP their/NNP seniors/NNP partners/NN package/JJ such/IN as/JJ athletic/NNS activities/CC or/NN travel/NNS clubs/NONE 2/JJ to/NN appeal/TO to/JJ local/NN market/NNS\n",
            "predicted: she/PRP says/VBZ 0/NONE individual/JJ barnett/NNP branches/NNS can/MD add/VB different/JJ benefits/NNS ich/NONE 1/NONE to/TO their/NNP seniors/NNP partners/NN package/NN such/IN as/JJ athletic/NNS activities/CC or/CC travel/NNS clubs/NONE 2/TO to/TO appeal/TO to/JJ local/NNS market/NNS\n",
            " \n",
            "labeled  : as/IN a/DT result/NN the/DT market/NN 's/POS dividend/NN yield/NN dividends/NNS as/IN a/DT percentage/NN of/IN price/NN has/VBP slid/VBD to/TO a/DT level/NN that/WDT t/NONE 232/VBZ is/RB fairly/JJ low/CC and/JJ unenticing/IN by/JJ historical/NNS\n",
            "predicted: as/IN a/DT result/NN the/DT market/NN 's/POS dividend/NN yield/NN dividends/NNS as/IN a/DT percentage/NN of/IN price/NN has/VBZ slid/VBD to/TO a/DT level/NN that/WDT t/NONE 232/VBZ is/RB fairly/JJ low/JJ and/JJ unenticing/IN by/JJ\n",
            " \n",
            "labeled  : along/IN the/DT way/NN he/PRP meets/VBZ a/DT solicitous/JJ christian/JJ chauffeur/NN who/WP t/NONE 55/VBZ offers/DT the/NN hero/NNP god/POS 's/NN phone/NN number/CC and/DT the/NNP sheep/NNP man/DT a/JJ sweet/JJ roughhewn/NN figure/WP who/NONE t/VBZ 56/WP wears/RB what/JJ else/NN\n",
            "predicted: along/IN the/DT way/NN he/PRP meets/VBZ a/DT solicitous/JJ christian/JJ chauffeur/NN who/WP t/NONE 55/VBZ offers/DT the/NN hero/NNP god/POS 's/NN phone/NN number/CC and/DT the/DT sheep/NNP man/DT a/JJ sweet/JJ roughhewn/NN figure/WP who/WP t/VBZ 56/VBZ wears/VBZ what/DT else/NN\n",
            " \n",
            "labeled  : the/DT department/NN proposed/VBD requiring/NONE stronger/VBG roofs/JJR for/NNS light/IN trucks/JJ and/NNS minivans/CC beginning/NNS with/NONE 1992/VBG models/IN PAD/CD PAD/NNS\n",
            "predicted: the/DT department/NN proposed/VBD requiring/NONE stronger/JJR roofs/NNS for/NNS light/NNS trucks/NNS and/CC minivans/NNS beginning/VBG with/NNS 1992/NNS models/NNS\n",
            " \n",
            "labeled  : mr/NNP mcgovern/NNP himself/PRP had/VBD said/VBN repeatedly/RB that/IN he/PRP intended/VBD 1/NONE to/TO stay/VB on/RP until/IN he/PRP reached/VBD the/DT conventional/JJ retirement/NN age/NN of/IN 65/CD in/IN october/NNP 1991/CD unless/IN i/PRP get/VBP fired/VBN ''/''\n",
            "predicted: mr/NNP mcgovern/NNP himself/PRP had/VBD said/VBD repeatedly/RB that/IN he/PRP intended/VBD 1/NONE to/TO stay/VB on/IN until/IN he/PRP reached/VBD the/DT conventional/JJ retirement/NN age/NN of/IN 65/CD in/IN october/NNP 1991/CD unless/IN i/PRP get/VBD fired/VBN ''/''\n",
            " \n",
            "labeled  : all/DT four/CD areas/NNS had/VBD higher/JJR revenue/NN for/IN the/DT three/CD months/NNS ended/VBD sept/NNP 30/CD\n",
            "predicted: all/DT four/CD areas/NNS had/VBD higher/JJR revenue/NN for/IN the/DT three/CD months/NNS ended/VBD sept/NNP 30/CD\n",
            " \n",
            "labeled  : it/PRP is/VBZ in/IN my/PRP estimation/NN the/DT best/JJS wine/NN 0/NONE stag/NNP 's/POS leap/NNP has/VBZ produced/VBN t/NONE 2/CC and/IN with/JJR fewer/IN than/CD 700/NNS cases/JJ available/PRP it/VBZ is/JJ sure/NONE 3/TO to/VB sell/RB\n",
            "predicted: it/PRP is/VBZ in/IN my/PRP estimation/NN the/DT best/JJS wine/NN 0/NONE stag/NNP 's/POS leap/NNP has/VBZ produced/VBN t/NONE 2/CC and/IN with/IN fewer/IN than/CD 700/NNS cases/NNS available/JJ it/VBZ is/JJ sure/NONE 3/TO to/VB sell/RB\n",
            " \n",
            "labeled  : the/DT ministry/NNP of/IN international/NNP trade/NNP and/CC industry/NNP summoned/VBD executives/NNS from/IN the/DT companies/NNS 1/NONE to/TO make/VB sure/JJ 0/NONE they/PRP understood/VBD ''/'' the/DT concern/NN about/IN such/JJ practices/NNS according/VBG to/TO a/DT government/NN spokesman/NN\n",
            "predicted: the/DT ministry/NNP of/IN international/NNP trade/NNP and/CC industry/NNP summoned/VBD executives/NNS from/IN the/DT companies/NNS 1/NONE to/TO make/VB sure/JJ 0/NONE they/PRP understood/VBD ''/'' the/DT concern/NN about/IN such/JJ practices/NNS according/VBG to/TO a/DT government/NN spokesman/NN\n",
            " \n",
            "labeled  : the/DT national/NNP association/NNP of/IN securities/NNPS dealers/NNPS the/DT self/JJ regulatory/NN organization/IN for/DT the/JJ over/NNS the/NNS counter/VBD securities/DT markets/NN disciplined/IN a/NNS number/CC of/NNS firms/IN and/JJ individuals/NNS for/IN alleged/NN violations/NNS\n",
            "predicted: the/DT national/NNP association/NNP of/IN securities/NNS dealers/NNS the/DT self/JJ regulatory/NN organization/IN for/IN the/IN over/DT the/NNS counter/NNS securities/JJ markets/DT disciplined/DT a/NN number/IN of/NNS firms/NNS and/NNS individuals/NNS for/NNS alleged/NNS violations/IN\n",
            " \n",
            "labeled  : world/NN sugar/NN futures/NNS prices/NNS soared/VBD on/IN rumors/NNS that/IN brazil/NNP a/DT major/JJ UNK/NN and/CC exporter/NN might/MD not/RB ship/VB sugar/NN this/DT crop/NN year/NN and/CC next/JJ\n",
            "predicted: world/NN sugar/NN futures/NNS prices/NNS soared/VBD on/IN rumors/NNS that/IN brazil/NNP a/DT major/JJ UNK/NN and/CC exporter/NN might/MD not/RB ship/VB sugar/NN this/DT crop/NN year/NN and/CC next/JJ\n",
            " \n",
            "labeled  : but/CC for/IN now/RB they/PRP 're/VBP looking/VBG forward/RB to/TO their/PRP winter/NN meeting/NN boca/NNP in/IN february/NNP\n",
            "predicted: but/CC for/IN now/RB they/PRP 're/VBP looking/VBG forward/RB to/TO their/PRP winter/NN meeting/NN boca/NNP in/IN february/NNP\n",
            " \n",
            "labeled  : telerate/NNP provides/VBZ an/DT electronic/JJ financial/JJ information/NN network/NN\n",
            "predicted: telerate/NNP provides/VBZ an/DT electronic/JJ financial/JJ information/NN network/NN\n",
            " \n",
            "labeled  : excluding/VBG these/DT orders/NNS backlogs/NNS declined/VBD 0/CD 3/NN\n",
            "predicted: excluding/VBG these/DT orders/NNS backlogs/NNS declined/VBD 0/NONE 3/NONE\n",
            " \n",
            "labeled  : the/DT u/NNP s/VBZ is/CD one/IN of/DT the/JJ few/VBN industrialized/NNS nations/WDT that/NONE t/VBZ 7/RB does/VB n't/DT have/JJR a/NN higher/IN standard/NN of/IN regulation/DT for/JJ the/JJ smooth/NNS needle/JJ like/IN fibers/NN such/WDT as/NONE crocidolite/VBP that/VBN t/NONE 1/IN are/NNS classified/VBG 5/TO as/NNP amphobiles/NNP according/NNP to/DT brooke/NN t/IN mossman/NN a/IN professor/DT of/NNP pathlogy/IN at/NNP the/NNP university/IN of/NNP\n",
            "predicted: the/DT u/NNP s/VBZ is/VBZ one/CD of/DT the/JJ few/NNS industrialized/NNS nations/NONE that/NONE t/VBZ 7/VBZ does/RB n't/RB have/DT a/NN higher/DT standard/IN of/IN regulation/IN for/DT the/JJ smooth/NNS needle/IN like/IN fibers/NN such/IN as/NONE crocidolite/NONE that/NONE t/NONE 1/VBP are/NNS classified/IN 5/IN as/NNP amphobiles/NNP according/TO to/NNP brooke/NN t/DT mossman/DT a/NN professor/IN of/NNP pathlogy/IN at/DT the/NNP university/NNP of/NNP\n",
            " \n",
            "labeled  : ps/NNP of/IN new/NNP hampshire/NNP manchester/NNP n/NNP h/VBZ values/PRP its/JJ internal/NN reorganization/NN plan/IN at/IN about/CD 2/CD 2/NONE\n",
            "predicted: ps/NNP of/IN new/NNP hampshire/NNP manchester/NNP n/NNP h/VBZ values/PRP its/JJ internal/NN reorganization/NN plan/IN at/IN about/CD 2/CD\n",
            " \n",
            "labeled  : federal/NNP national/NNP mortgage/NNP association/NNP lrb/LRB fannie/NNP mae/NNP rrb/RRB posted/VBN yields/NNS on/IN 30/CD year/NN mortgage/NN commitments/NNS for/IN delivery/NN within/IN 30/CD days/NNS lrb/LRB priced/VBN at/NONE par/IN rrb/NN 9/RRB 75/CD standard/NN conventional/JJ fixed/JJ rate/JJ mortgages/NNS 8/CD 70/NN 6/CD 2/NN rate/JJ capped/JJ one/JJ year/NN adjustable/NNS\n",
            "predicted: federal/NNP national/NNP mortgage/NNP association/NNP lrb/NNP fannie/NNP mae/NNP rrb/CD posted/VBD yields/NNS on/IN 30/JJ year/NN mortgage/NN commitments/NNS for/IN delivery/IN within/IN 30/CD days/NNS lrb/LRB priced/VBN at/NONE par/NN rrb/CD 9/CD 75/CC standard/JJ conventional/JJ fixed/JJ rate/NNS mortgages/CD 8/CD 70/CD 6/CD 2/JJ rate/JJ capped/JJ one/JJ year/JJ adjustable/NN\n",
            " \n",
            "labeled  : they/PRP like/VBP 1/NONE to/TO talk/VB about/IN 2/NONE having/VBG the/DT new/JJ red/NNP rock/NNP terrace/NNP lcb/LRB one/CD of/IN diamond/NNP creek/NNP 's/POS cabernets/NNPS rcb/RRB or/CC the/DT dunn/NNP 1985/CD cabernet/NNP or/CC the/DT petrus/NNP\n",
            "predicted: they/PRP like/IN 1/NONE to/TO talk/VB about/IN 2/NONE having/VBG the/DT new/DT red/NNP rock/NNP terrace/NNP lcb/CD one/CD of/IN diamond/NNP creek/NNP 's/POS cabernets/NNPS rcb/CC or/CC the/DT dunn/NNP 1985/CD cabernet/NNP or/CC the/DT petrus/NNP\n",
            " \n",
            "labeled  : moreover/RB the/DT electorate/NN would/MD have/VB received/VBN a/DT valuable/JJ civics/NNS lesson/NN in/IN how/WRB the/DT separation/NN of/IN powers/NNS works/VBZ in/IN practice/NN t/NONE\n",
            "predicted: moreover/RB the/DT electorate/NN would/MD have/VB received/VBN a/DT valuable/JJ civics/NNS lesson/NN in/IN how/WRB the/DT separation/NN of/IN powers/NNS works/NNS in/IN practice/NN t/NONE\n",
            " \n",
            "labeled  : light/NN trucks/NNS and/CC vans/NNS will/MD face/VB the/DT same/JJ safety/NN requirements/NNS as/IN automobiles/NNS under/IN new/JJ proposals/NNS by/IN the/DT transportation/NNP department/NNP\n",
            "predicted: light/JJ trucks/NNS and/CC vans/NNS will/MD face/VB the/DT same/JJ safety/NN requirements/NNS as/NNS automobiles/NNS under/IN new/JJ proposals/NNS by/IN the/DT transportation/NNP department/NNP\n",
            " \n",
            "labeled  : annualized/VBN average/JJ rate/NN of/IN return/NN after/IN expenses/NNS for/IN the/DT past/JJ 30/CD days/NNS not/RB a/DT forecast/NN of/IN future/JJ returns/NNS\n",
            "predicted: annualized/VBN average/JJ rate/NN of/IN return/NN after/IN expenses/NNS for/IN the/DT past/JJ 30/NNS days/NNS not/RB a/DT forecast/NN of/IN future/NNS returns/NNS\n",
            " \n",
            "labeled  : mr/NNP veraldi/NNP worked/VBD at/IN ford/NNP for/IN 40/CD years/NNS 1/NONE holding/VBG a/DT variety/NN of/IN car/NN and/CC parts/JJ engineering/NNS\n",
            "predicted: mr/NNP veraldi/NNP worked/VBD at/IN ford/NNP for/IN 40/CD years/NNS 1/NONE holding/VBG a/DT variety/NN of/IN car/NN and/CC parts/NNS engineering/NNS\n",
            " \n",
            "labeled  : china/NNP pulled/VBD out/IN of/IN the/DT program/NN in/IN july/NNP\n",
            "predicted: china/NNP pulled/VBD out/IN of/IN the/DT program/NN in/IN july/NNP\n",
            " \n",
            "labeled  : the/DT house/NNP voted/VBD 1/NONE to/TO boost/VB the/DT federal/JJ minimum/JJ wage/NN for/IN the/DT first/JJ time/NN since/IN early/JJ 1981/CD 1/NONE casting/VBG a/DT solid/JJ 382/CD 37/NN vote/IN for/DT a/NN compromise/NN measure/VBN backed/NONE by/IN president/NNP bush/NNP\n",
            "predicted: the/DT house/NNP voted/VBD 1/NONE to/TO boost/VB the/DT federal/JJ minimum/JJ wage/NN for/IN the/DT first/JJ time/NN since/IN early/JJ 1981/CD 1/NONE casting/VBG a/DT solid/JJ 382/CD 37/CD vote/IN for/DT a/NN compromise/NN measure/NN backed/IN by/NNP president/NNP\n",
            " \n",
            "labeled  : rogers/NNP communications/NNP inc/NNP said/VBD 0/NONE it/PRP plans/VBZ 1/NONE to/TO raise/VB 175/CD million/CD to/TO 180/CD million/CD canadian/JJ dollars/NNS lrb/LRB us/CD 148/CD 9/TO million/CD to/CD 153/NONE 3/RRB million/IN u/DT rrb/JJ through/NN a/IN private/JJ placement/VBN of/NNS\n",
            "predicted: rogers/NNP communications/NNP inc/NNP said/VBD 0/NONE it/PRP plans/VBZ 1/NONE to/TO raise/VB 175/CD million/CD to/TO 180/CD million/CD canadian/JJ dollars/NNS lrb/LRB us/PRP 148/CD 9/CD million/CD to/CD 153/CD 3/CD million/NONE u/NONE rrb/IN through/DT a/JJ private/JJ placement/IN of/NNS\n",
            " \n",
            "labeled  : a/DT program/NN trade/NN of/IN 5/CD million/CD u/NONE of/IN stock/NN typically/RB earns/VBZ a/DT razor/JJ thin/NN profit/IN of/CD 25/NONE\n",
            "predicted: a/DT program/NN trade/NN of/IN 5/CD million/CD u/NONE of/NN stock/RB typically/RB earns/VBZ a/DT razor/JJ thin/NN profit/NN of/CD 25/NONE\n",
            " \n",
            "labeled  : but/CC despite/IN partisan/JJ bickering/NN over/IN the/DT debt/NN ceiling/NN which/WDT t/NONE 177/VBZ has/VBN become/JJ entangled/IN in/DT the/NN fight/IN over/NONE cutting/VBG capital/NNS gains/NNS taxes/NNP congress/VBZ is/RB almost/JJ certain/NONE 1/TO to/VB act/IN in/NN time/NONE 0/NONE to/TO avoid/VB default/NN t/NONE\n",
            "predicted: but/CC despite/IN partisan/JJ bickering/NN over/IN the/DT debt/NN ceiling/WDT which/WDT t/NONE 177/VBZ has/VBN become/IN entangled/IN in/DT the/NN fight/IN over/NONE cutting/VBG capital/NNS gains/NNS taxes/NNP congress/VBZ is/RB almost/JJ certain/NONE 1/TO to/VB act/IN in/NONE time/NONE 0/NONE to/VB avoid/VB\n",
            " \n",
            "labeled  : if/IN stocks/NNS are/VBP temporarily/RB cheaper/JJR ''/'' than/IN futures/NNS for/IN example/NN an/DT UNK/NN will/MD buy/VB stocks/NNS and/CC sell/VB futures/NNS\n",
            "predicted: if/IN stocks/NNS are/VBP temporarily/RB cheaper/RBR ''/'' than/IN futures/IN for/IN example/NN an/DT UNK/NN will/MD buy/VB stocks/NNS and/CC sell/CC futures/NNS\n",
            " \n",
            "labeled  : each/DT new/JJ trading/NN roadblock/NN is/VBZ likely/JJ 1/NONE to/TO be/VB beaten/VBN 82/NONE by/IN institutions/NNS seeking/VBG better/JJR ways/NNS 0/NONE to/NONE serve/TO their/VB high/PRP volume/JJ clients/NNS t/NONE 2/RB here/CC or/RB\n",
            "predicted: each/DT new/JJ trading/NN roadblock/NN is/VBZ likely/JJ 1/NONE to/TO be/VB beaten/VBN 82/NONE by/IN institutions/NNS seeking/VBG better/JJR ways/NNS 0/NONE to/NONE serve/TO their/VB high/JJ volume/NN clients/NNS t/NONE 2/CC here/CC or/CC\n",
            " \n",
            "labeled  : learning/NNP materials/NNPS for/IN the/DT fifth/NN grade/VBZ contains/IN at/JJS least/DT a/NN dozen/NNS examples/IN of/JJ exact/NNS matches/CC or/JJ close/NNS parallels/TO to/NN test/NNS\n",
            "predicted: learning/NNP materials/NNS for/IN the/DT fifth/NN grade/NN contains/IN at/IN least/DT a/NN dozen/NNS examples/IN of/JJ exact/NNS matches/CC or/JJ close/JJ parallels/TO to/NNS\n",
            " \n",
            "labeled  : it/PRP exp/NONE 1/VBZ is/RB n't/JJ clear/RB however/IN whether/NN support/IN for/DT the/NN proposal/MD will/VB be/JJ broad/RB enough/NONE to/TO pose/VB a/DT serious/JJ challenge/NN to/TO the/DT white/NNP house/NNP 's/POS acid/NN rain/NN\n",
            "predicted: it/PRP exp/NONE 1/VBZ is/RB n't/JJ clear/RB however/IN whether/IN support/IN for/DT the/NN proposal/MD will/VB be/JJ broad/JJ enough/NONE to/TO pose/VB a/DT serious/JJ challenge/NN to/TO the/DT white/NNP house/NNP 's/POS acid/NN rain/NN\n",
            " \n",
            "labeled  : earlier/JJR this/DT year/NN japanese/JJ investors/NNS snapped/VBD up/RP a/DT similar/JJ 570/CD million/CD u/NONE mortgage/JJ backed/NNS securities/JJ mutual/NN\n",
            "predicted: earlier/JJR this/DT year/NN japanese/NNS investors/NNS snapped/VBD up/RP a/DT similar/JJ 570/CD million/CD u/NONE mortgage/JJ backed/NNS securities/JJ\n",
            " \n",
            "labeled  : diaper/NN services/NNS make/VBP a/DT comeback/NN amid/IN growing/VBG environmental/JJ concerns/NNS\n",
            "predicted: diaper/NN services/NNS make/VBP a/DT comeback/NN amid/IN growing/VBG environmental/JJ concerns/NNS\n",
            " \n",
            "labeled  : a/DT computer/NN using/VBG the/DT more/JJ advanced/NNP intel/NNP corp/CD 386/NN UNK/IN with/CD four/NNS UNK/IN of/NN memory/CC and/DT a/JJ 100/JJ megabyte/NN hard/RB disk/VBZ now/IN sells/CD for/NONE 5/RB UNK/IN u/CD down/NONE\n",
            "predicted: a/DT computer/NN using/VBG the/DT more/DT advanced/NNP intel/NNP corp/CD 386/CD UNK/IN with/CD four/CD UNK/IN of/NN memory/CC and/DT a/JJ 100/JJ megabyte/NN hard/RB disk/VBZ now/RB sells/IN for/CD 5/CD UNK/IN u/IN down/IN from/CD\n",
            " \n",
            "labeled  : the/DT democrat/NNP 's/POS proposal/NN is/VBZ described/VBN 1/NONE by/IN government/NN sources/NNS and/CC lobbyists/NNS as/RB significantly/RB weaker/JJR than/IN the/DT president/NN 's/POS plan/NN to/NONE cut/TO utility/VB emissions/NN PAD/NNS\n",
            "predicted: the/DT democrat/NNP 's/POS proposal/NN is/VBZ described/VBN 1/NONE by/IN government/NN sources/NNS and/CC lobbyists/NNS as/RB significantly/RB weaker/JJR than/IN the/DT president/NN 's/POS plan/NN to/TO cut/TO utility/VB emissions/NNS\n",
            " \n",
            "labeled  : earlier/JJR staff/NN reduction/NNS moves/VBP have/VBN UNK/IN about/CD 300/NNS jobs/DT the/NN spokesman/VBD said/NONE 0/NONE\n",
            "predicted: earlier/JJR staff/NN reduction/NNS moves/VBP have/VBP UNK/IN about/JJ 300/NNS jobs/DT the/NN spokesman/NONE said/NONE 0/NONE\n",
            " \n",
            "labeled  : says/VBZ ich/NONE 1/NNP gayle/NNP key/DT a/NN mathematics/NN teacher/DT the/NN incentive/NN pay/NN thing/VBZ has/VBN opened/RP up/DT a/NN can/IN of/NNS\n",
            "predicted: says/VBZ ich/NONE 1/NNP gayle/NNP key/DT a/NN mathematics/NN teacher/DT the/NN incentive/NN pay/NN thing/VBZ has/VBN opened/DT up/DT a/DT can/IN of/NNS\n",
            " \n",
            "labeled  : so/IN now/RB the/DT situation/NN is/VBZ this/DT\n",
            "predicted: so/RB now/RB the/DT situation/NN is/VBZ this/DT\n",
            " \n",
            "labeled  : these/DT kids/NNS broke/VBD my/PRP heart/NN ''/'' she/PRP says/VBZ t/NONE\n",
            "predicted: these/DT kids/NNS broke/VBD my/PRP heart/NN ''/'' she/PRP says/VBZ t/NONE\n",
            " \n",
            "labeled  : mr/NNP otero/NNP who/WP t/NONE 249/RB apparently/VBZ has/DT an/JJ unpublished/NN number/RB also/MD could/RB n't/VB be/VBN reached/NONE\n",
            "predicted: mr/NNP otero/NNP who/WP t/NONE 249/RB apparently/VBZ has/DT an/JJ unpublished/NN number/RB also/RB could/VB n't/RB be/VBN reached/NONE\n",
            " \n",
            "labeled  : discos/NNS and/CC private/JJ clubs/NNS are/VBP exempt/JJ from/IN the/DT ban/NN and/CC smoking/NN will/MD be/VB permitted/VBN 60/NONE in/IN bars/NNS except/IN during/IN meal/NN hours/NNS an/DT official/NN said/VBD 0/NONE t/NONE\n",
            "predicted: discos/NNS and/CC private/JJ clubs/NNS are/VBP exempt/JJ from/IN the/DT ban/NN and/CC smoking/NN will/MD be/VB permitted/VBN 60/NONE in/IN bars/NNS except/IN during/IN meal/NN hours/NNS an/DT official/NN said/VBD 0/NONE t/NONE\n",
            " \n",
            "labeled  : u/NNP s/NN trade/NNS negotiators/VBP argue/IN that/NNS countries/IN with/JJ inadequate/NNS protections/IN for/JJ intellectual/NNS property/MD rights/VB could/VBG be/PRP hurting/IN themselves/NONE by/VBG 1/PRP discouraging/JJ their/NNS own/CC scientists/NNS and/CC authors/IN and/NONE by/VBG 1/NNP deterring/NN u/NNS s/IN high/NONE technology/VBG firms/CC from/VBG 2/PRP investing/JJS or/NNS marketing/RB\n",
            "predicted: u/NNP s/NN trade/NNS negotiators/VBP argue/IN that/NNS countries/IN with/JJ inadequate/NNS protections/IN for/JJ intellectual/NNS property/NNS rights/MD could/VB be/IN hurting/IN themselves/IN by/NONE 1/PRP discouraging/JJ their/JJ own/NNS scientists/CC and/NNS authors/CC and/IN by/NNP 1/NNP deterring/NNP u/NNP s/IN high/JJ technology/NNS firms/IN from/NONE 2/NONE investing/CC or/NN marketing/NNS their/NNS\n",
            " \n",
            "labeled  : policy/NN makers/NNS regard/VBP the/DT youth/NN wage/NN as/IN helping/NONE 1/VBG to/NONE limit/TO the/VB loss/DT of/NN jobs/IN from/NNS an/IN increase/DT in/NN the/IN minimum/DT wage/JJ but/NN they/CC have/PRP lately/VBP touted/RB it/VBN as/PRP necessary/RB 2/JJ to/NONE help/TO 3/VB impart/NONE job/VB skills/NN to/NNS entrants/TO into/NNS the/IN work/DT force/NN PAD/NN\n",
            "predicted: policy/NN makers/NNS regard/VBP the/DT youth/NN wage/NN as/IN helping/NONE 1/TO to/TO limit/DT the/DT loss/IN of/NNS jobs/IN from/DT an/NN increase/IN in/DT the/DT minimum/NN wage/NN but/CC they/PRP have/VBP lately/VBP touted/RB it/PRP as/RB necessary/JJ 2/NN to/NONE help/TO 3/VB impart/NONE job/VB skills/NN to/TO entrants/TO into/VB the/DT work/NN force/NN\n",
            " \n",
            "labeled  : prosecutors/NNS alleged/VBD that/IN she/PRP was/VBD trying/VBG 1/NONE to/TO bolster/VB students/NNS '/POS scores/NNS 1/NONE to/TO win/VB a/DT bonus/NN under/IN the/DT state/NN 's/POS 1984/CD education/NNP improvement/NNP act/NNP\n",
            "predicted: prosecutors/NNS alleged/VBD that/IN she/PRP was/VBD trying/VBG 1/NONE to/TO bolster/VB students/NNS '/POS scores/NNS 1/NONE to/TO win/VB a/DT bonus/NN under/IN the/DT state/NN 's/POS 1984/CD education/NNP improvement/NNP act/NNP\n",
            " \n",
            "labeled  : he/PRP and/CC others/NNS prefer/VBP 1/NONE to/TO install/VB railings/NNS such/JJ as/IN the/DT type/NN f/NN safety/NN shape/NN ''/'' a/DT four/JJ foot/JJ high/NN concrete/IN slab/DT with/NNS\n",
            "predicted: he/PRP and/CC others/NNS prefer/VBP 1/NONE to/TO install/VB railings/NNS such/JJ as/IN the/DT type/NN f/NN safety/NN shape/NN ''/'' a/DT four/JJ foot/JJ high/NN concrete/IN slab/DT\n",
            " \n",
            "labeled  : the/DT reason/NN the/DT refusal/NN ich/NONE 1/IN of/NNP congress/NONE to/TO give/VB federal/JJ judges/NNS a/DT raise/NN\n",
            "predicted: the/DT reason/NN the/DT refusal/NN ich/NONE 1/IN of/NNP congress/NONE to/TO give/VB federal/JJ judges/NNS a/DT raise/NN\n",
            " \n",
            "labeled  : analysts/NNS said/VBD 0/NONE the/DT herald/NNP 's/POS demise/NN does/VBZ n't/RB necessarily/RB represent/VB the/DT overall/JJ condition/NN of/IN the/DT newspaper/NN industry/NN\n",
            "predicted: analysts/NNS said/VBD 0/NONE the/DT herald/NNP 's/POS demise/NN does/VBZ n't/RB necessarily/RB represent/VB the/DT overall/JJ condition/NN of/IN the/DT newspaper/NN industry/NN\n",
            " \n",
            "labeled  : these/DT materials/NNS including/VBG macmillan/NNP mcgraw/NNP hill/NNP school/NNP publishing/POS co/NNP 's/NNP scoring/CC high/NNP and/NNPS learning/VBP materials/NN are/JJ nothing/IN short/JJ of/NN sophisticated/NNS crib/VBG sheets/TO according/DT to/JJ some/JJ recent/NN\n",
            "predicted: these/DT materials/NNS including/VBG macmillan/NNP mcgraw/NNP hill/NNP school/NNP publishing/NNP co/NNP 's/NNP scoring/NNP high/NNP and/NNP learning/NNP materials/VBP are/JJ nothing/NN short/IN of/JJ sophisticated/JJ crib/VBG sheets/DT according/DT to/DT some/JJ\n",
            " \n",
            "labeled  : you/PRP have/VBP a/DT right/NN 2/NONE to/TO read/VB voice/NNP of/IN america/NNP scripts/NNS if/IN you/PRP do/VBP n't/RB mind/VB 1/NONE traveling/VBG to/TO washington/NNP every/DT week/NN or/CC so/RB and/CC 1/NONE visiting/VBG the/DT voice/NNP office/NN during/IN business/NN hours/NNS\n",
            "predicted: you/PRP have/VBP a/DT right/NN 2/NONE to/TO read/VB voice/NNP of/IN america/NNP scripts/NNS if/IN you/PRP do/VBP n't/RB mind/VB 1/NONE traveling/VBG to/TO washington/NNP every/DT week/NN or/CC so/RB and/CC 1/NONE visiting/VBG the/DT voice/NN office/NN during/IN business/NN hours/NNS\n",
            " \n",
            "labeled  : pierre/NNP vinken/NNP 61/CD years/NNS old/JJ will/MD join/VB the/DT board/NN as/IN a/DT nonexecutive/JJ director/NN nov/NNP 29/CD\n",
            "predicted: pierre/NNP vinken/NNP 61/CD years/NNS old/JJ will/MD join/VB the/DT board/NN as/IN a/DT nonexecutive/JJ director/NN nov/NNP 29/CD\n",
            " \n",
            "labeled  : previously/RB mr/NNP vitulli/NNP 43/CD years/NNS old/JJ was/VBD general/JJ marketing/NN manager/NN of/IN chrysler/NNP corp/NNP 's/POS chrysler/NNP division/NN\n",
            "predicted: previously/RB mr/NNP vitulli/NNP 43/CD years/NNS old/JJ was/VBD general/JJ marketing/NN manager/NN of/IN chrysler/NNP corp/NNP 's/POS chrysler/NNP division/NN\n",
            " \n",
            "labeled  : they/PRP view/VBP this/DT as/IN a/DT growth/NN area/NN so/IN they/PRP went/VBD about/IN it/PRP with/IN a/DT systematic/JJ approach/NN ''/'' says/VBZ t/NONE 1/NNP richard/NNP olsen/DT a/NNP candela/NN vice/NN\n",
            "predicted: they/PRP view/VBZ this/DT as/IN a/DT growth/NN area/NN so/IN they/PRP went/VBD about/IN it/PRP with/IN a/DT systematic/JJ approach/NN ''/'' says/VBZ t/NONE 1/NNP richard/NNP olsen/DT a/NN candela/NN vice/NN\n",
            " \n",
            "labeled  : she/PRP said/VBD 0/NONE there/EX is/VBZ growing/VBG realization/NN ich/NONE 1/'' ''/IN around/DT the/NN world/DT that/NN denial/IN of/JJ intellectual/NNS property/VBZ rights/DT harms/VBG all/NNS trading/CC nations/RB and/DT particularly/NN the/CC creativity/NN and/IN inventiveness/DT of/LRB an/VBG lcb/RRB offending/NN rcb/POS country/JJ 's/NNS own/''\n",
            "predicted: she/PRP said/VBD 0/NONE there/EX is/VBZ growing/VBG realization/NN ich/NONE 1/VBZ ''/IN around/DT the/NN world/IN that/IN denial/IN of/JJ intellectual/NNS property/NNS rights/DT harms/DT all/NN trading/NNS nations/CC and/DT particularly/DT the/NN creativity/CC and/IN inventiveness/DT of/DT an/NN lcb/POS offending/NN rcb/POS country/POS 's/POS\n",
            " \n",
            "labeled  : but/CC columbia/NNP 's/POS good/JJ bank/NN would/MD be/VB a/DT regulated/VBN thrift/NN while/IN the/DT bad/JJ bank/NN would/MD be/VB a/DT private/JJ investment/NN company/NN holding/VBG some/DT of/IN columbia/NNP 's/POS junk/NN bonds/NNS real/JJ estate/NN and/CC equity/NN investments/NNS\n",
            "predicted: but/CC columbia/NNP 's/POS good/JJ bank/NN would/MD be/VB a/DT regulated/VBN thrift/NN while/IN the/DT bad/JJ bank/NN would/MD be/VB a/DT private/JJ investment/NN company/NN holding/VBG some/DT of/IN columbia/NNP 's/POS junk/NN bonds/NNS real/JJ estate/NN and/CC equity/NN investments/NNS\n",
            " \n",
            "labeled  : financial/JJ planners/NNS often/RB urge/VBP investors/NNS 1/NONE to/TO diversify/VB and/CC to/TO hold/VB a/DT smattering/NN of/IN international/JJ securities/NNS\n",
            "predicted: financial/JJ planners/NNS often/RB urge/VBP investors/NNS 1/NONE to/TO diversify/VB and/CC to/TO hold/VB a/DT smattering/NN of/IN international/JJ securities/NNS\n",
            " \n",
            "labeled  : last/JJ march/NNP after/IN 1/NONE attending/VBG a/DT teaching/NN seminar/NN in/IN washington/NNP mrs/NNP yeargin/NNP says/VBZ 0/NONE she/PRP returned/VBD to/TO greenville/NNP two/CD days/NNS before/IN annual/JJ testing/NN 2/NONE feeling/VBG that/IN she/PRP had/VBD n't/RB prepared/VBN her/PRP low/JJ ability/NN geography/NNS students/RB\n",
            "predicted: last/JJ march/NNP after/IN 1/NONE attending/VBG a/DT teaching/NN seminar/NN in/IN washington/NNP mrs/NNP yeargin/NNP says/VBZ 0/NONE she/PRP returned/VBD to/TO greenville/NNP two/CD days/NNS before/NNS annual/JJ testing/NN 2/NONE feeling/VBG that/IN she/PRP had/VBD n't/RB prepared/VBN her/PRP low/JJ ability/NN geography/NNS students/RB\n",
            " \n",
            "labeled  : the/DT ft/NNP 30/JJ share/NN index/VBD settled/CD 16/NNS 7/JJR points/IN higher/CD\n",
            "predicted: the/DT ft/NNP 30/JJ share/NN index/VBD settled/CD 16/CD 7/NNS points/NNS higher/IN\n",
            " \n",
            "labeled  : many/JJ people/NNS including/VBG the/DT big/NNP board/NNP think/VBP that/IN it/PRP 's/VBZ too/RB late/JJ to/NONE put/TO the/VB genie/DT back/NN in/RB the/IN bottle/DT PAD/NN\n",
            "predicted: many/JJ people/NNS including/VBG the/DT big/NNP board/NNP think/VBP that/IN it/PRP 's/VBZ too/RB late/JJ to/NONE put/TO the/VB genie/DT back/DT in/IN the/DT bottle/NN PAD/NN\n",
            " \n",
            "labeled  : sales/NNS for/IN the/DT year/NN rose/VBD 5/CD to/NN 12/TO 52/CD billion/CD u/NONE from/IN 11/CD 95/CD billion/NONE u/IN in/JJ fiscal/CD\n",
            "predicted: sales/NNS for/IN the/DT year/NN rose/VBD 5/CD to/TO 12/CD 52/CD billion/CD u/IN from/CD 11/CD 95/CD billion/CD u/IN in/CD fiscal/CD\n",
            " \n",
            "labeled  : campbell/NNP soup/NNP jumped/VBD 3/CD 3/CD 8/TO to/CD 47/CD 1/IN 8/DT as/NN the/IN resignation/NNP of/NNP r/NNP gordon/IN mcgovern/NN as/CC president/NN and/NN chief/NN executive/VBD officer/DT sparked/NN a/IN revival/NNS of/IN rumors/DT that/NN the/MD company/VB could/DT become/NN a/NN\n",
            "predicted: campbell/NNP soup/NNP jumped/VBD 3/CD 3/CD 8/CD to/CD 47/CD 1/CD 8/IN as/DT the/NN resignation/NNP of/NNP r/NNP gordon/NNP mcgovern/IN as/NN president/CC and/NN chief/NN executive/NN officer/NN sparked/DT a/NN revival/IN of/NNS rumors/DT that/DT the/NN company/MD could/VB become/DT a/NN\n",
            " \n",
            "labeled  : reliance/NNP acquired/VBD a/DT 7/CD ual/NN stake/NNP early/NN this/RB year/DT at/NN an/IN average/DT cost/JJ of/NN 110/IN u/CD a/NONE share/DT and/NN reduced/CC its/VBD stake/PRP to/NN 4/TO 7/CD after/NN ual/IN accepted/NNP the/VBD bid/DT at/NN prices/IN higher/NNS than/JJR UNK/IN u/CD a/NONE share/DT PAD/NN\n",
            "predicted: reliance/NNP acquired/VBD a/DT 7/NN ual/NN stake/NN early/DT this/NN year/DT at/DT an/DT average/JJ cost/NN of/IN 110/NN u/NONE a/DT share/NN and/CC reduced/PRP its/NN stake/TO to/TO 4/CD 7/IN after/NNP ual/NNP accepted/DT the/NN bid/IN at/IN prices/NNS higher/IN than/IN UNK/NN u/DT a/NN\n",
            " \n",
            "labeled  : the/DT contra/NNP military/JJ command/NN in/IN a/DT statement/NN from/IN UNK/NNP said/VBD 0/NONE UNK/NNP troops/NNS had/VBD launched/VBN a/DT major/JJ UNK/NN against/IN the/DT UNK/NN forces/NNS\n",
            "predicted: the/DT contra/NNP military/JJ command/NN in/IN a/DT statement/NN from/IN UNK/VBD said/VBD 0/NONE UNK/NNP troops/NNS had/VBD launched/VBN a/DT major/JJ UNK/NN against/IN the/DT UNK/NN forces/NNS\n",
            " \n",
            "labeled  : prime/NNP motor/NNP UNK/NNPS inc/NNP offering/NN of/IN up/IN to/TO 300/CD million/CD u/NONE UNK/CD coupon/NN convertible/JJ debentures/NNS via/IN drexel/NNP burnham/NNP lambert/NNP inc/NNP and/CC UNK/NNP securities/NNPS\n",
            "predicted: prime/NNP motor/NNP UNK/NNP inc/NNP offering/NN of/IN up/IN to/CD 300/CD million/CD u/CD UNK/NN coupon/NN convertible/JJ debentures/NNS via/NNP drexel/NNP burnham/NNP lambert/NNP inc/NNP and/CC UNK/NNS securities/NNS\n",
            " \n",
            "labeled  : new/NNP york/JJ based/NNP alleghany/VBZ is/DT an/NN insurance/CC and/JJ financial/NNS services/NN\n",
            "predicted: new/NNP york/NNP based/NN alleghany/VBZ is/DT an/NN insurance/CC and/JJ financial/NNS\n",
            " \n",
            "labeled  : also/RB mr/NNP vargas/NNP was/VBD barred/VBN 152/NONE from/IN association/NN with/IN any/DT nasd/NNP member/NN\n",
            "predicted: also/RB mr/NNP vargas/NNP was/VBD barred/VBN 152/NONE from/IN association/IN with/IN any/DT nasd/NNP member/NN\n",
            " \n",
            "labeled  : the/DT flow/NN of/IN japanese/JJ funds/NNS has/VBZ set/VBN in/IN motion/NN a/DT process/NN whereby/WRB these/DT economies/NNS will/MD be/VB knitted/VBN 1/NONE together/RP by/IN the/DT great/JJ japanese/JJ investment/NN machine/NN t/NONE 2/'' ''/VBZ says/NONE 0/NONE t/NNP 3/NNP robert/NN hormats/NN vice/IN chairman/NNP of/NNP goldman/NNP sachs/NNP\n",
            "predicted: the/DT flow/NN of/IN japanese/JJ funds/NNS has/VBZ set/VBN in/IN motion/NN a/DT process/NN whereby/WRB these/DT economies/NNS will/MD be/VB knitted/VBN 1/NONE together/RP by/IN the/DT great/JJ japanese/JJ investment/NN machine/NN t/NONE 2/VBZ ''/'' says/NONE 0/NONE t/NNP 3/NNP robert/NNP hormats/NN vice/NN chairman/IN of/NNP goldman/NNP sachs/NNP\n",
            " \n",
            "labeled  : arbitraging/NONE on/VBG differences/IN between/NNS spot/IN and/NN futures/CC prices/NNS is/NNS an/VBZ important/DT part/JJ of/NN many/IN financial/JJ markets/JJ he/NNS says/PRP 0/VBZ t/NONE 1/NONE\n",
            "predicted: arbitraging/NONE on/NNS differences/IN between/IN spot/IN and/NNS futures/NNS prices/NNS is/VBZ an/JJ important/JJ part/NN of/IN many/JJ financial/JJ markets/NNS he/PRP says/VBZ 0/NONE t/NONE\n",
            " \n",
            "labeled  : under/IN the/DT new/JJ u/NNP s/NN trade/NN law/DT those/NNS countries/MD could/VB face/JJ accelerated/JJ unfair/NNS trade/CC investigations/JJ and/NN stiff/NNS trade/IN sanctions/PRP if/VBP they/RB do/VB n't/PRP improve/NN their/IN protection/JJ of/NN intellectual/IN property/JJ by/NN\n",
            "predicted: under/IN the/DT new/NNP u/NNP s/NN trade/NN law/DT those/NNS countries/MD could/VB face/JJ accelerated/JJ unfair/NNS trade/CC investigations/JJ and/JJ stiff/NNS trade/NNS sanctions/IN if/PRP they/PRP do/VB n't/VB improve/PRP their/IN protection/IN of/JJ intellectual/IN property/IN\n",
            " \n",
            "labeled  : crane/NNP co/CC securities/NNP inc/NNP of/NNP mount/IN clemens/NNP mich/NNP and/NNP its/CC president/PRP glenn/NN r/NNP crane/NNP of/NNP sterling/IN heights/NNP mich/NNP consented/NNP to/VBD a/TO joint/DT fine/JJ of/NN 10/IN 000/CD u/NONE\n",
            "predicted: crane/NNP co/NNP securities/NNP inc/NNP of/IN mount/IN clemens/NNP mich/NNP and/CC its/PRP president/NN glenn/NNP r/NNP crane/NNP of/IN sterling/NNP heights/NNP mich/NNP consented/VBD to/TO a/DT joint/JJ fine/NN of/IN 10/CD 000/NONE\n",
            " \n",
            "labeled  : demand/NN from/IN europe/NNP and/CC southeast/NNP asia/NNP also/RB grew/VBD but/CC due/RB to/TO increasing/VBG production/NN at/IN local/JJ plants/NNS overseas/JJ sales/NNS edged/VBD down/RB 2/CD 8/NN\n",
            "predicted: demand/NN from/IN europe/NNP and/CC southeast/NNP asia/NNP also/RB grew/VBD but/CC due/JJ to/TO increasing/VBG production/NN at/IN local/JJ plants/NNS overseas/JJ sales/NNS edged/VBD down/IN 2/CD 8/CD\n",
            " \n",
            "labeled  : UNK/NNS in/IN UNK/NNP UNK/VBD a/DT saudi/NNP UNK/NNP embassy/NNP employee/NN and/CC the/DT pro/JJ UNK/NNP UNK/NNP jihad/VBD took/NN responsibility/IN for/DT the/NN UNK/NONE 0/NONE t/TO 1/VB to/DT UNK/NN the/IN UNK/CD of/NNS 16/IN UNK/NNP by/POS UNK/NN 's/IN government/NNP\n",
            "predicted: UNK/NNP in/IN UNK/NNP UNK/NNP a/DT saudi/NNP UNK/NNP embassy/NNP employee/NN and/CC the/DT pro/JJ UNK/NNP UNK/NNP jihad/VBD took/NN responsibility/IN for/DT the/NN UNK/NONE 0/NONE t/NONE 1/TO to/DT UNK/DT the/NN UNK/IN of/CD 16/NN UNK/IN by/NNP UNK/POS 's/NN government/IN\n",
            " \n",
            "labeled  : the/DT less/RBR complicated/JJ version/NN of/IN playing/NONE tunes/VBG on/NNS bells/IN as/NNS do/IN the/VB carillons/NONE of/DT continental/NNS europe/IN is/JJ considered/NNP by/VBZ the/VBN english/IN 136/DT to/NNP be/NONE childish/TO fit/VB only/JJ for/JJ foreigners/RB PAD/IN PAD/NNS\n",
            "predicted: the/DT less/JJR complicated/JJ version/NN of/IN playing/NONE tunes/VBG on/IN bells/NNS as/NONE do/NONE the/NONE carillons/NONE of/IN continental/NNP europe/NNP is/VBN considered/IN by/DT the/DT english/IN 136/DT to/TO be/VB childish/TO fit/VB only/RB for/IN foreigners/NNS PAD/NNS\n",
            " \n",
            "labeled  : mr/NNP harper/NNP a/DT veteran/NN of/IN several/JJ manufacturing/VBG companies/NNS who/WP t/NONE 30/VBD joined/NNP campbell/IN in/CD 1986/MD will/VB take/NN charge/IN of/DT all/JJ overseas/NNS operations/RB as/RB well/IN as/NNP\n",
            "predicted: mr/NNP harper/NNP a/DT veteran/NN of/IN several/JJ manufacturing/NN companies/NNS who/WP t/NONE 30/VBD joined/NNP campbell/NNP in/NN 1986/MD will/VB take/VB charge/IN of/DT all/JJ overseas/NNS operations/RB as/RB well/IN as/NNP\n",
            " \n",
            "labeled  : standard/NNP poor/CC 's/NNP 500/POS stock/NNP index/NNP added/VBD 0/CD 84/TO to/CD UNK/DT 20/NN the/VBD rise/JJ was/TO equivalent/DT to/NN a/IN gain/IN of/CD about/NNS six/IN points/DT in/JJ the/NN\n",
            "predicted: standard/NNP poor/NNP 's/POS 500/NNP stock/NN index/VBD added/VBD 0/NONE 84/TO to/TO UNK/DT 20/DT the/NN rise/VBD was/VBN equivalent/TO to/DT a/NN gain/IN of/IN about/CD six/NNS points/DT in/DT the/JJ\n",
            " \n",
            "labeled  : spreads/NNS will/MD become/VB so/RB tight/RB that/IN it/PRP wo/MD n't/RB matter/VB which/WDT market/NN an/DT investor/NN chooses/VBZ t/NONE 79/NN arbitrage/MD will/VB prevent/PRP him/IN from/NONE 1/VBG gaining/DT any/JJ temporary/NN\n",
            "predicted: spreads/NNS will/MD become/VB so/RB tight/RB that/IN it/PRP wo/MD n't/RB matter/VB which/WDT market/NN an/DT investor/NN chooses/VBZ t/NONE 79/NN arbitrage/MD will/VB prevent/PRP him/IN from/NONE 1/DT gaining/DT any/JJ temporary/NN\n",
            " \n",
            "labeled  : weatherly/NNP securities/NNP corp/NNP new/NNP york/NNP and/CC three/CD of/IN its/PRP principals/NNS dell/NNP eugene/NNP keehn/NNP and/CC william/NNP northy/NNP prater/NNP jr/NNP both/DT of/IN mercer/NNP island/NNP wash/NNP and/CC thomas/NNP albert/NNP mcfall/NNP of/IN red/NNP bank/NNP n/NNP j/VBD consented/TO to/DT a/NN fine/IN of/CD 20/NONE\n",
            "predicted: weatherly/NNP securities/NNP corp/NNP new/NNP york/NNP and/CC three/CD of/IN its/PRP principals/NNS dell/NNP eugene/NNP keehn/NNP and/CC william/NNP northy/NNP prater/NNP jr/NNP both/DT of/IN mercer/NNP island/NNP wash/NNP and/CC thomas/NNP albert/NNP mcfall/NNP of/IN red/NNP bank/NNP n/NNP j/VBD consented/TO to/DT a/NN fine/NN of/CD\n",
            " \n",
            "labeled  : yet/RB section/NNP 605/CD of/IN the/DT appropriations/NNS bill/NN for/IN the/DT executive/JJ office/NN provides/VBZ no/DT part/NN of/IN any/DT appropriation/NN for/IN the/DT current/JJ fiscal/JJ year/NN contained/VBN in/NONE this/IN or/DT any/CC other/DT act/JJ shall/NN be/MD paid/VB 53/VBN to/NONE any/TO person/DT for/NN the/IN filling/DT of/NN any/IN position/DT for/NN which/IN he/WDT or/PRP she/CC has/PRP been/VBZ nominated/VBN 54/VBN t/NONE 1/NONE after/IN the/DT senate/NNP has/VBZ voted/VBN 2/NONE not/RB to/TO approve/VB the/DT nomination/NN of/IN said/VBN person/NN ''/''\n",
            "predicted: yet/CC section/NNP 605/CD of/IN the/DT appropriations/NNS bill/NN for/IN the/DT executive/JJ office/NN provides/VBZ no/DT part/NN of/IN any/DT appropriation/NN for/IN the/DT current/JJ fiscal/JJ year/NN contained/VBN in/NONE this/DT or/DT any/DT other/JJ act/NN shall/MD be/VB paid/VBN 53/TO to/VB any/DT person/DT for/IN the/DT filling/DT of/IN any/DT position/NN for/IN which/IN he/PRP or/CC she/PRP has/VBZ been/VBN nominated/VBN 54/VBN t/NONE 1/NONE after/IN the/DT senate/NNP has/VBZ voted/VBN 2/NONE not/RB to/TO approve/VB the/DT nomination/NN of/IN said/VBD person/NN ''/''\n",
            " \n",
            "labeled  : while/IN this/DT court/NN ruling/NN was/VBD only/RB on/IN hammersmith/NNP it/PRP will/MD obviously/RB be/VB very/RB persuasive/JJ in/IN other/JJ cases/NNS of/IN a/DT similar/JJ nature/NN ''/'' a/DT solicitor/NN representing/VBG one/CD of/IN the/DT banks/NNS said/VBD t/NONE\n",
            "predicted: while/IN this/DT court/NN ruling/NN was/VBD only/RB on/IN hammersmith/NNP it/PRP will/MD obviously/RB be/VB very/RB persuasive/JJ in/IN other/JJ cases/NNS of/IN a/DT similar/JJ nature/NN ''/'' a/DT solicitor/NN representing/VBG one/CD of/IN the/DT banks/NNS said/VBD t/NONE\n",
            " \n",
            "labeled  : takeover/NN stock/NN traders/NNS were/VBD UNK/VBN 1/NONE by/IN the/DT reliance/NNP filing/NN and/CC cautioned/VBD that/IN it/PRP does/VBZ n't/RB mean/VB 0/NONE mr/NNP steinberg/NNP will/MD UNK/RB seek/VB control/NN\n",
            "predicted: takeover/NN stock/NN traders/NNS were/VBD UNK/VBN 1/NONE by/IN the/DT reliance/NNP filing/NN and/CC cautioned/VBD that/IN it/PRP does/VBZ n't/RB mean/VB 0/NONE mr/NNP steinberg/NNP will/MD UNK/VB seek/VB control/NN\n",
            " \n",
            "labeled  : u/NNP s/NNS farmers/POS '/JJ net/NN income/VBD rose/TO to/DT a/NN record/CD 59/CD 9/NONE billion/JJ u/NN last/IN year/CD despite/IN one/DT of/JJS the/NNS worst/RB\n",
            "predicted: u/NNP s/NNS farmers/POS '/POS net/NN income/VBD rose/TO to/DT a/NN record/CD 59/CD 9/CD billion/NONE u/JJ last/NN year/IN despite/CD one/CD of/DT the/NNS worst/NNS\n",
            " \n",
            "labeled  : most/JJS of/IN the/DT picture/NN is/VBZ taken/VBN up/RP with/IN endless/JJ scenes/NNS of/IN many/JJ people/NNS either/CC fighting/VBG or/CC eating/VBG and/CC drinking/VBG 1/NONE to/TO celebrate/VB victory/NN\n",
            "predicted: most/JJS of/IN the/DT picture/NN is/VBZ taken/VBN up/RP with/IN endless/JJ scenes/NNS of/IN many/JJ people/NNS either/CC fighting/VBG or/CC eating/VBG and/CC drinking/NN 1/NONE to/TO celebrate/VB victory/NN\n",
            " \n",
            "labeled  : stock/NN prices/NNS closed/VBD higher/JJR in/IN stockholm/NNP UNK/NNP and/CC frankfurt/NNP and/CC lower/JJR in/IN UNK/NNP\n",
            "predicted: stock/NN prices/NNS closed/VBD higher/JJR in/IN stockholm/NNP UNK/NNP and/CC frankfurt/NNP and/CC lower/JJR in/IN UNK/NN\n",
            " \n",
            "labeled  : at/IN the/DT prices/NNS 0/NONE we/PRP were/VBD charged/VBN 78/NONE t/NONE 1/EX there/MD should/VB have/VBN been/DT some/NN return/IN for/DT the/NN\n",
            "predicted: at/IN the/DT prices/NNS 0/VBD we/PRP were/VBD charged/VBN 78/NONE t/NONE 1/MD there/MD should/VB have/DT been/DT some/DT return/IN for/DT the/NN\n",
            " \n",
            "labeled  : the/DT sound/NN of/IN bells/NNS is/VBZ a/DT net/NN 0/NONE t/NONE 1/TO to/VB draw/NNS people/IN into/DT the/NN church/'' ''/PRP he/VBZ says/NONE\n",
            "predicted: the/DT sound/NN of/IN bells/NNS is/VBZ a/DT net/NN 0/NONE t/NONE 1/TO to/VB draw/NNS people/IN into/DT the/NN church/'' ''/'' he/PRP says/NONE\n",
            " \n",
            "labeled  : lawyers/NNS worry/VBP that/IN if/IN they/PRP provide/VBP information/NN about/IN clients/NNS that/DT data/NN could/MD quickly/RB end/VB up/RP in/IN the/DT hands/NNS of/IN prosecutors/NNS\n",
            "predicted: lawyers/NNS worry/VBP that/IN if/IN they/PRP provide/VBP information/NN about/IN clients/NNS that/IN data/NNS could/MD quickly/RB end/VB up/IN in/IN the/DT hands/NNS of/IN prosecutors/NNS\n",
            " \n",
            "labeled  : its/PRP plans/NNS to/NONE be/TO acquired/VB 1/VBN UNK/NONE 2/VBN comprehensive/NONE care/NNP corp/NNP said/NNP 0/VBD it/NONE plans/PRP 3/VBZ to/NONE sell/TO most/VB of/JJS its/IN psychiatric/PRP and/JJ drug/CC abuse/NN facilities/NN in/NNS california/IN and/NNP some/CC other/DT assets/JJ 3/NNS to/NONE pay/TO its/VB debt/PRP and/NN provide/CC working/VB capital/JJ PAD/NN\n",
            "predicted: its/PRP plans/NNS to/NONE be/VB acquired/VBN 1/NONE UNK/NONE 2/NONE comprehensive/NNP care/NNP corp/NNP said/VBD 0/NONE it/PRP plans/VBZ 3/NONE to/TO sell/TO most/VB of/IN its/PRP psychiatric/JJ and/CC drug/NN abuse/NN facilities/NN in/IN california/NNP and/CC some/DT other/JJ assets/NNS 3/NN to/TO pay/TO its/VB debt/VB and/CC provide/VB working/VB capital/NN\n",
            " \n",
            "labeled  : there/EX is/VBZ no/DT downside/NN if/IN the/DT president/NN asserts/VBZ a/DT right/NN of/IN excision/NN over/IN unconstitutional/JJ conditions/NNS in/IN the/DT fiscal/JJ 1990/CD appropriations/NNS bills/NNS\n",
            "predicted: there/EX is/VBZ no/DT downside/NN if/IN the/DT president/NN asserts/VBZ a/DT right/NN of/IN excision/NN over/IN unconstitutional/JJ conditions/NNS in/IN the/DT fiscal/JJ 1990/CD appropriations/NNS bills/NNS\n",
            " \n",
            "labeled  : for/IN example/NN stock/NN index/NNS futures/VBD began/VBG trading/IN in/NNP chicago/IN in/CD 1982/CC and/IN within/CD two/NNS years/PRP they/VBD were/DT the/JJ fastest/NNS growing/NN futures/RB contract/VBN ever/NONE\n",
            "predicted: for/IN example/NN stock/NN index/NN futures/VBD began/VBD trading/IN in/NNP chicago/IN in/CD 1982/CD and/IN within/CD two/NNS years/NNS they/IN were/DT the/NN fastest/NNS growing/VBG futures/NONE contract/VBN ever/VBN\n",
            " \n",
            "labeled  : these/DT two/CD exposures/NNS alone/RB represent/VBP a/DT very/RB substantial/JJ portion/NN of/IN cs/NNP first/NNP boston/NNP 's/POS equity/NN ''/'' moody/NNP 's/POS said/VBD t/NONE\n",
            "predicted: these/DT two/CD exposures/NNS alone/RB represent/VBP a/DT very/RB substantial/JJ portion/NN of/IN cs/NNP first/NNP boston/NNP 's/POS equity/NN ''/'' moody/NNP 's/POS said/VBD t/NONE\n",
            " \n",
            "labeled  : but/CC new/NNP york/NNP state/NN which/WDT t/NONE 13/VBZ is/VBG seeking/NNS solutions/TO to/PRP its/NN prison/NN cell/NN shortage/VBZ says/UH no/''\n",
            "predicted: but/CC new/NNP york/NNP state/NNP which/WDT t/NONE 13/VBZ is/JJ seeking/NNS solutions/TO to/PRP its/NN prison/NN cell/NN shortage/VBZ says/VBZ no/''\n",
            " \n",
            "labeled  : by/IN most/JJS measures/NNS the/DT nation/NN 's/POS industrial/JJ sector/NN is/VBZ now/RB growing/VBG very/RB slowly/RB if/IN at/IN all/DT\n",
            "predicted: by/IN most/JJS measures/NNS the/DT nation/NN 's/POS industrial/JJ sector/NN is/VBZ now/RB growing/VBG very/RB slowly/RB if/IN at/IN all/DT\n",
            " \n",
            "labeled  : 60/CD million/CD swiss/JJ francs/NNS of/IN privately/RB placed/VBN convertible/JJ notes/NNS due/JJ dec/NNP 31/CD 1993/CD with/IN a/DT fixed/VBN 0/CD 25/NN coupon/NN at/IN par/NN via/IN union/NNP bank/NNP of/IN switzerland/NNP\n",
            "predicted: 60/CD million/CD swiss/JJ francs/NNS of/IN privately/RB placed/VBN convertible/JJ notes/NNS due/JJ dec/NNP 31/CD 1993/CD with/IN a/DT fixed/VBN 0/NONE 25/NN coupon/NN at/IN par/NN via/IN union/NNP bank/NNP of/IN switzerland/NNP\n",
            " \n",
            "labeled  : in/IN all/DT the/DT company/NN hopes/VBZ 2/NONE to/TO UNK/VB 45/CD million/CD u/NONE in/IN debt/NN through/IN the/DT sales/NNS which/WDT t/NONE 1/MD will/RB completely/VB discharge/PRP its/VBN secured/NN debt/DT the/NN company/VBD said/NONE 0/NONE\n",
            "predicted: in/IN all/DT the/DT company/NN hopes/VBZ 2/NONE to/TO UNK/CD 45/CD million/CD u/NONE in/IN debt/NN through/IN the/DT sales/NNS which/WDT t/NONE 1/MD will/VB completely/VB discharge/VB its/PRP secured/DT debt/NN the/NN company/VBD said/NONE 0/NONE\n",
            " \n",
            "labeled  : without/IN the/DT cray/NNP 3/NN research/CC and/NN development/NNS expenses/DT the/NN company/MD would/VB have/VBN been/JJ able/NONE 2/TO to/VB report/DT a/NN profit/IN of/CD 19/CD 3/NONE million/NONE u/IN ich/DT 3/JJ for/DT the/IN first/CD half/RB of/IN 1989/DT rather/CD than/CD the/NONE 5/NONE 9/PRP million/VBD u/NONE\n",
            "predicted: without/IN the/DT cray/NNP 3/NNP research/CC and/CC development/NN expenses/NNS the/MD company/MD would/VB have/VBN been/JJ able/NONE 2/TO to/VB report/DT a/NN profit/IN of/CD 19/CD 3/CD million/NONE u/NONE ich/IN 3/IN for/DT the/DT first/NN half/IN of/IN 1989/DT rather/IN than/DT the/CD 5/CD 9/CD million/NONE u/NONE 0/NONE\n",
            " \n",
            "labeled  : some/DT of/IN the/DT newer/JJR wines/NNS even/RB at/IN 90/CD to/TO 100/CD u/NONE ich/NONE 1/DT a/NN bottle/CC or/RB so/RB almost/VBP offer/DT a/NN bargain/''\n",
            "predicted: some/DT of/IN the/DT newer/JJR wines/NNS even/RB at/IN 90/CD to/TO 100/CD u/NONE ich/NONE 1/DT a/NN bottle/CC or/RB so/RB almost/DT offer/NN a/NN bargain/''\n",
            " \n",
            "labeled  : the/DT firm/NN 's/POS capital/NN moreover/RB has/VBZ n't/RB grown/VBN at/IN the/DT same/JJ rate/NN as/IN in/IN the/DT past/NN officials/NNS at/IN these/DT firms/NNS say/VBP 0/NONE t/NONE\n",
            "predicted: the/DT firm/NN 's/POS capital/NN moreover/RB has/VBZ n't/RB grown/VBN at/IN the/DT same/JJ rate/NN as/IN in/IN the/DT past/JJ officials/NNS at/IN these/DT firms/NNS say/VBP 0/NONE t/NONE\n",
            " \n",
            "labeled  : as/IN discussed/NONE in/VBN the/IN context/DT of/NN controlling/IN federal/NONE spending/VBG the/JJ line/NN item/DT veto/JJ is/NN characterized/VBZ 59/VBN as/NONE a/IN way/DT 0/NN for/NONE the/IN president/DT to/NN excise/TO perfectly/VB constitutional/RB provisions/JJ in/NNS a/IN spending/DT bill/NN that/NN t/WDT 2/NONE are/VBP objectionable/JJ merely/RB because/IN they/PRP conflict/VBP with/IN his/PRP policy/NN objectives/NNS t/NONE\n",
            "predicted: as/IN discussed/NONE in/NONE the/DT context/DT of/NN controlling/NONE federal/VBG spending/VBG the/DT line/JJ item/NN veto/NN is/VBZ characterized/VBZ 59/VBN as/IN a/DT way/NN 0/NN for/IN the/DT president/NN to/TO excise/TO perfectly/VB constitutional/VB provisions/NNS in/IN a/DT spending/NN bill/NN that/WDT t/NONE 2/VBP are/VBP objectionable/JJ merely/RB because/IN they/PRP conflict/VBP with/IN his/PRP policy/NN objectives/NNS t/NONE\n",
            " \n",
            "pos tagging accuracy: 0.981\n"
          ],
          "name": "stdout"
        }
      ]
    }
  ]
}