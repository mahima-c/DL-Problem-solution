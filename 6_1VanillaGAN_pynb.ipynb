{
  "nbformat": 4,
  "nbformat_minor": 0,
  "metadata": {
    "colab": {
      "name": "6.1VanillaGAN.pynb",
      "provenance": [],
      "authorship_tag": "ABX9TyPMkIdP47ZNuoNggap9r5pH",
      "include_colab_link": true
    },
    "kernelspec": {
      "name": "python3",
      "display_name": "Python 3"
    }
  },
  "cells": [
    {
      "cell_type": "markdown",
      "metadata": {
        "id": "view-in-github",
        "colab_type": "text"
      },
      "source": [
        "<a href=\"https://colab.research.google.com/github/mahima-c/DL-Problem-solution/blob/main/6_1VanillaGAN_pynb.ipynb\" target=\"_parent\"><img src=\"https://colab.research.google.com/assets/colab-badge.svg\" alt=\"Open In Colab\"/></a>"
      ]
    },
    {
      "cell_type": "markdown",
      "metadata": {
        "id": "9-R7yhwRn2bs"
      },
      "source": [
        "MNIST using GAN in TensorFlow\r\n"
      ]
    },
    {
      "cell_type": "markdown",
      "metadata": {
        "id": "OTbCskmZn6IG"
      },
      "source": [
        "Let us build a simple GAN capable of generating handwritten digits. We will use the MNIST handwritten digits to train the network. We use the TensorFlow Keras dataset to access the MNIST data. The data contains 60,000 training images of handwritten digits each of size 28 × 28. The pixel value of the digits lies between 0-255; we normalize the input values such that each pixel has a value in range [-1, 1]:"
      ]
    },
    {
      "cell_type": "code",
      "metadata": {
        "id": "ax44T9FFoAs3"
      },
      "source": [
        "import tensorflow as tf\r\n",
        "import numpy as np\r\n",
        "\r\n",
        "from tensorflow.keras.datasets import mnist\r\n",
        "from tensorflow.keras.layers import Input, Dense, Reshape, Flatten, Dropout\r\n",
        "from tensorflow.keras.layers import BatchNormalization, Activation, ZeroPadding2D\r\n",
        "from tensorflow.keras.layers import LeakyReLU\r\n",
        "from tensorflow.keras.layers import UpSampling2D, Conv2D\r\n",
        "from tensorflow.keras.models import Sequential, Model\r\n",
        "from tensorflow.keras.optimizers import Adam\r\n",
        "from tensorflow.keras import initializers\r\n",
        "\r\n",
        "\r\n",
        "import matplotlib.pyplot as plt\r\n",
        "\r\n",
        "import sys\r\n",
        "\r\n",
        "import numpy as np\r\n",
        "import tqdm\r\n",
        "mnist = tf.keras.datasets.mnist\r\n",
        "\r\n",
        "(X_train, _), (_,  _) = mnist.load_data()\r\n",
        "X_train = (X_train.astype(np.float32) - 127.5)/127.5\r\n",
        "X_train = X_train.reshape(60000, 784)\r\n"
      ],
      "execution_count": 3,
      "outputs": []
    },
    {
      "cell_type": "markdown",
      "metadata": {
        "id": "btpGGbnYoBQJ"
      },
      "source": [
        "We will use a simple multi-layered perceptron (MLP) and we will feed it an image as a flat vector of size 784, so we reshape the training data:"
      ]
    },
    {
      "cell_type": "code",
      "metadata": {
        "id": "F7VJawevoEUx"
      },
      "source": [
        "X_train = X_train.reshape(60000, 784)\r\n"
      ],
      "execution_count": null,
      "outputs": []
    },
    {
      "cell_type": "markdown",
      "metadata": {
        "id": "nHGrb0aqn6LN"
      },
      "source": [
        "Now we will need to build a generator and discriminator. The purpose of the generator is to take in a noisy input and generate an image similar to the training dataset. The size of the noisy input is decided by the variable randomDim; you can initialize it to any integral value. Conventionally people set it to 100. For our implementation we tried a value of 10. This input is fed to a Dense layer with 256 neurons with LeakyReLU activation. We next add another Dense layer with 512 hidden neurons, followed by the third hidden layer with 1024 neurons and finally the output layer with 784 neurons. You can change the number of neurons in the hidden layers and see how the performance changes; however, the number of neurons in the output unit has to match the number of pixels in the training images. The corresponding generator is then:"
      ]
    },
    {
      "cell_type": "code",
      "metadata": {
        "id": "tT_wEo2DoQEx"
      },
      "source": [
        "randomDim=10\r\n",
        "adam = Adam(lr=0.0002, beta_1=0.5)\r\n",
        "\r\n",
        "\r\n",
        "generator = Sequential()\r\n",
        "generator.add(Dense(256, input_dim=randomDim))\r\n",
        "generator.add(LeakyReLU(0.2))\r\n",
        "generator.add(Dense(512))\r\n",
        "generator.add(LeakyReLU(0.2))\r\n",
        "generator.add(Dense(1024))\r\n",
        "generator.add(LeakyReLU(0.2))\r\n",
        "generator.add(Dense(784, activation='tanh'))"
      ],
      "execution_count": 5,
      "outputs": []
    },
    {
      "cell_type": "markdown",
      "metadata": {
        "id": "e8zOG1C9n6Pa"
      },
      "source": [
        "Similarly, we build a discriminator. Notice now that the discriminator takes in the images, either from the training set or images generated by generator, thus its input size is 784. The output of the discriminator however is a single bit, with 0 signifying a fake image (generated by generator) and 1 signifying that the image is from the training dataset:"
      ]
    },
    {
      "cell_type": "code",
      "metadata": {
        "id": "hCHv34gHoNyi"
      },
      "source": [
        "discriminator = Sequential()\r\n",
        "discriminator.add(Dense(1024, input_dim=784, kernel_initializer=initializers.RandomNormal(stddev=0.02)))\r\n",
        "discriminator.add(LeakyReLU(0.2))\r\n",
        "discriminator.add(Dropout(0.3))\r\n",
        "discriminator.add(Dense(512))\r\n",
        "discriminator.add(LeakyReLU(0.2))\r\n",
        "discriminator.add(Dropout(0.3))\r\n",
        "discriminator.add(Dense(256))\r\n",
        "discriminator.add(LeakyReLU(0.2))\r\n",
        "discriminator.add(Dropout(0.3))\r\n",
        "discriminator.add(Dense(1, activation='sigmoid'))\r\n",
        "\r\n",
        "discriminator.compile(loss='binary_crossentropy', optimizer=adam)"
      ],
      "execution_count": 6,
      "outputs": []
    },
    {
      "cell_type": "markdown",
      "metadata": {
        "id": "PTxN6HUNoexk"
      },
      "source": [
        "Next, we combine the generator and discriminator together to form a GAN. In the GAN we ensure that the discriminator weights are fixed by setting the trainable argument to False:"
      ]
    },
    {
      "cell_type": "code",
      "metadata": {
        "id": "_XeztPD5ofL7"
      },
      "source": [
        "# Combined network\r\n",
        "discriminator.trainable = False\r\n",
        "ganInput = Input(shape=(randomDim,))\r\n",
        "x = generator(ganInput)\r\n",
        "ganOutput = discriminator(x)\r\n",
        "gan = Model(inputs=ganInput, outputs=ganOutput)\r\n",
        "gan.compile(loss='binary_crossentropy', optimizer=adam)\r\n",
        "\r\n",
        "dLosses = []\r\n",
        "gLosses = []"
      ],
      "execution_count": 7,
      "outputs": []
    },
    {
      "cell_type": "code",
      "metadata": {
        "id": "kw21mq7P4RQ_"
      },
      "source": [
        "# Plot the loss from each batch\r\n",
        "def plotLoss(epoch):\r\n",
        "    plt.figure(figsize=(10, 8))\r\n",
        "    plt.plot(dLosses, label='Discriminitive loss')\r\n",
        "    plt.plot(gLosses, label='Generative loss')\r\n",
        "    plt.xlabel('Epoch')\r\n",
        "    plt.ylabel('Loss')\r\n",
        "    plt.legend()\r\n",
        "    plt.savefig('images/gan_loss_epoch_%d.png' % epoch)\r\n",
        "\r\n",
        "# Create a wall of generated MNIST images\r\n",
        "def saveGeneratedImages(epoch, examples=100, dim=(10, 10), figsize=(10, 10)):\r\n",
        "    noise = np.random.normal(0, 1, size=[examples, randomDim])\r\n",
        "    generatedImages = generator.predict(noise)\r\n",
        "    generatedImages = generatedImages.reshape(examples, 28, 28)\r\n",
        "\r\n",
        "    plt.figure(figsize=figsize)\r\n",
        "    for i in range(generatedImages.shape[0]):\r\n",
        "        plt.subplot(dim[0], dim[1], i+1)\r\n",
        "        plt.imshow(generatedImages[i], interpolation='nearest', cmap='gray_r')\r\n",
        "        plt.axis('off')\r\n",
        "    plt.tight_layout()\r\n",
        "    plt.savefig('images/gan_generated_image_epoch_%d.png' % epoch)"
      ],
      "execution_count": 8,
      "outputs": []
    },
    {
      "cell_type": "code",
      "metadata": {
        "id": "Yqr0D33h4aRb"
      },
      "source": [
        "def train(epochs=1, batchSize=128):\r\n",
        "    batchCount = int(X_train.shape[0] / batchSize)\r\n",
        "    print ('Epochs:', epochs)\r\n",
        "    print ('Batch size:', batchSize)\r\n",
        "    print ('Batches per epoch:', batchCount)\r\n",
        "\r\n",
        "    for e in range(1, epochs+1):\r\n",
        "        print ('-'*15, 'Epoch %d' % e, '-'*15)\r\n",
        "        for _ in range(batchCount):\r\n",
        "            # Get a random set of input noise and images\r\n",
        "            noise = np.random.normal(0, 1, size=[batchSize, randomDim])\r\n",
        "            imageBatch = X_train[np.random.randint(0, X_train.shape[0], size=batchSize)]\r\n",
        "\r\n",
        "            # Generate fake MNIST images\r\n",
        "            generatedImages = generator.predict(noise)\r\n",
        "            # print np.shape(imageBatch), np.shape(generatedImages)\r\n",
        "            X = np.concatenate([imageBatch, generatedImages])\r\n",
        "\r\n",
        "            # Labels for generated and real data\r\n",
        "            yDis = np.zeros(2*batchSize)\r\n",
        "            # One-sided label smoothing\r\n",
        "            yDis[:batchSize] = 0.9\r\n",
        "\r\n",
        "            # Train discriminator\r\n",
        "            discriminator.trainable = True\r\n",
        "            dloss = discriminator.train_on_batch(X, yDis)\r\n",
        "\r\n",
        "            # Train generator\r\n",
        "            noise = np.random.normal(0, 1, size=[batchSize, randomDim])\r\n",
        "            yGen = np.ones(batchSize)\r\n",
        "            discriminator.trainable = False\r\n",
        "            gloss = gan.train_on_batch(noise, yGen)\r\n",
        "\r\n",
        "        # Store loss of most recent batch from this epoch\r\n",
        "        dLosses.append(dloss)\r\n",
        "        gLosses.append(gloss)\r\n",
        "\r\n",
        "        # if e == 1 or e % 20 == 0:\r\n",
        "        #     saveGeneratedImages(e)\r\n",
        "            \r\n",
        "\r\n",
        "    # Plot losses from every epoch\r\n",
        "    # plotLoss(e)"
      ],
      "execution_count": 14,
      "outputs": []
    },
    {
      "cell_type": "markdown",
      "metadata": {
        "id": "1Ts4yZm2r-GL"
      },
      "source": [
        "The trick to train the two is that we first train the discriminator separately; we use binary cross entropy loss for the discriminator. Later we freeze the weights of the discriminator and train the combined GAN; this results in the training of the generator. The loss this time is also binary cross entropy:"
      ]
    },
    {
      "cell_type": "code",
      "metadata": {
        "id": "JEUlTJ1cr-nn"
      },
      "source": [
        "# discriminator.compile(loss='binary_crossentropy', optimizer='adam')\r\n",
        "# gan.compile(loss='binary_crossentropy', optimizer='adam')"
      ],
      "execution_count": null,
      "outputs": []
    },
    {
      "cell_type": "markdown",
      "metadata": {
        "id": "yrT-rexfsIyd"
      },
      "source": [
        "Let us now perform the training. For each epoch we take a sample of random noise first, feed it to the generator, and the generator produces a fake image. We combine the generated fake images and the actual training images in a batch with their specific labels and use them to train the discriminator first on the given batch:"
      ]
    },
    {
      "cell_type": "code",
      "metadata": {
        "id": "fQ765_swv21l"
      },
      "source": [
        "imageBatch = X_train[np.random.randint(0, X_train.shape[0], size=128)]\r\n"
      ],
      "execution_count": null,
      "outputs": []
    },
    {
      "cell_type": "code",
      "metadata": {
        "colab": {
          "base_uri": "https://localhost:8080/"
        },
        "id": "C75HgZWWyX90",
        "outputId": "71a0cc25-96b3-4145-a483-0716d206d4c4"
      },
      "source": [
        "np.random.randint(0, X_train.shape[0], size=128)"
      ],
      "execution_count": null,
      "outputs": [
        {
          "output_type": "execute_result",
          "data": {
            "text/plain": [
              "array([38308, 35186, 24286,  9381, 15754,  7658, 55188, 41598, 15710,\n",
              "       58555,   223,  2444, 58635, 10793, 35282, 24638, 38113, 44636,\n",
              "       53460, 16292,  2602, 53125, 45394, 58171, 52787, 12641, 53503,\n",
              "       56293,  8202, 23202,  9465, 22006, 31094, 18525, 53521, 37494,\n",
              "       23213, 42913, 30053, 51645, 26515, 39366, 12402, 41715, 52764,\n",
              "       49601, 18435, 31418, 45126, 35676,  7970, 35416, 40929,  4296,\n",
              "       24220, 28940, 30254, 57552, 16062, 32940, 12065, 49958, 11253,\n",
              "       23696, 43784, 39800, 58744, 57148,  7161, 50972, 16552, 18239,\n",
              "       14883, 47755, 36909, 25769,  3095, 47115,  2723, 51922, 11036,\n",
              "        9042, 37861, 55561, 22225, 11949, 43484, 24007, 34677,  2185,\n",
              "       30654, 22481, 10844, 18279, 26059, 20464, 55089, 40788,  4775,\n",
              "       23437, 23592, 53660, 43789, 58103, 48238, 57971, 52658, 59834,\n",
              "        9694,  7145, 46234, 20389,  7233, 53564, 25871, 34985, 31216,\n",
              "       54343, 37266,  1838,  4062,     0, 21242, 46094, 44521, 54170,\n",
              "       59621, 10315])"
            ]
          },
          "metadata": {
            "tags": []
          },
          "execution_count": 31
        }
      ]
    },
    {
      "cell_type": "code",
      "metadata": {
        "id": "kkPWnYnKxRFg"
      },
      "source": [
        "#  X_train.shape[0]"
      ],
      "execution_count": null,
      "outputs": []
    },
    {
      "cell_type": "code",
      "metadata": {
        "id": "SetZLOBmv8zC"
      },
      "source": [
        "# imageBatch[0]"
      ],
      "execution_count": 12,
      "outputs": []
    },
    {
      "cell_type": "code",
      "metadata": {
        "id": "tO3AN7Ia2RUX"
      },
      "source": [
        "# a = np.array([[1, 2], [3, 4]],[[1, 2], [3, 4]])#2*2*2\r\n",
        "# b = np.array([5, 6])\r\n",
        "# np.concatenate((a, b), axis=0)"
      ],
      "execution_count": null,
      "outputs": []
    },
    {
      "cell_type": "code",
      "metadata": {
        "colab": {
          "base_uri": "https://localhost:8080/"
        },
        "id": "g6bbSqdw2b_8",
        "outputId": "5f269692-d6ad-4ae2-95cb-52a0bb9fba6b"
      },
      "source": [
        "28*28/128"
      ],
      "execution_count": null,
      "outputs": [
        {
          "output_type": "execute_result",
          "data": {
            "text/plain": [
              "6.125"
            ]
          },
          "metadata": {
            "tags": []
          },
          "execution_count": 36
        }
      ]
    },
    {
      "cell_type": "markdown",
      "metadata": {
        "id": "fXK9gT-Ishja"
      },
      "source": [
        "Now in the same for loop, we will train the generator. We want the images generated by the generator to be detected as real by the discriminator, so we use a random vector (noise) as input to the generator; this generates a fake image and then trains the GAN such that the discriminator perceives the image as real (output 1):"
      ]
    },
    {
      "cell_type": "markdown",
      "metadata": {
        "id": "J7eGTS0msrJG"
      },
      "source": [
        "Cool trick, right? If you wish to, you can save the generator and discriminator loss as well as the generated images. Next, we are saving the losses for each epoch and generating images after every 20 epochs:"
      ]
    },
    {
      "cell_type": "code",
      "metadata": {
        "colab": {
          "base_uri": "https://localhost:8080/"
        },
        "id": "DFCiJ_4LsJOI",
        "outputId": "c3bb3159-db62-45c3-d706-4f49605a95c8"
      },
      "source": [
        "train(200, 128)\r\n"
      ],
      "execution_count": null,
      "outputs": [
        {
          "output_type": "stream",
          "text": [
            "Epochs: 200\n",
            "Batch size: 128\n",
            "Batches per epoch: 468\n",
            "--------------- Epoch 1 ---------------\n",
            "--------------- Epoch 2 ---------------\n",
            "--------------- Epoch 3 ---------------\n",
            "--------------- Epoch 4 ---------------\n",
            "--------------- Epoch 5 ---------------\n",
            "--------------- Epoch 6 ---------------\n",
            "--------------- Epoch 7 ---------------\n",
            "--------------- Epoch 8 ---------------\n",
            "--------------- Epoch 9 ---------------\n",
            "--------------- Epoch 10 ---------------\n",
            "--------------- Epoch 11 ---------------\n",
            "--------------- Epoch 12 ---------------\n",
            "--------------- Epoch 13 ---------------\n",
            "--------------- Epoch 14 ---------------\n",
            "--------------- Epoch 15 ---------------\n",
            "--------------- Epoch 16 ---------------\n",
            "--------------- Epoch 17 ---------------\n",
            "--------------- Epoch 18 ---------------\n",
            "--------------- Epoch 19 ---------------\n",
            "--------------- Epoch 20 ---------------\n",
            "--------------- Epoch 21 ---------------\n",
            "--------------- Epoch 22 ---------------\n",
            "--------------- Epoch 23 ---------------\n",
            "--------------- Epoch 24 ---------------\n",
            "--------------- Epoch 25 ---------------\n",
            "--------------- Epoch 26 ---------------\n",
            "--------------- Epoch 27 ---------------\n",
            "--------------- Epoch 28 ---------------\n",
            "--------------- Epoch 29 ---------------\n",
            "--------------- Epoch 30 ---------------\n",
            "--------------- Epoch 31 ---------------\n",
            "--------------- Epoch 32 ---------------\n",
            "--------------- Epoch 33 ---------------\n",
            "--------------- Epoch 34 ---------------\n",
            "--------------- Epoch 35 ---------------\n",
            "--------------- Epoch 36 ---------------\n",
            "--------------- Epoch 37 ---------------\n",
            "--------------- Epoch 38 ---------------\n",
            "--------------- Epoch 39 ---------------\n"
          ],
          "name": "stdout"
        }
      ]
    }
  ]
}